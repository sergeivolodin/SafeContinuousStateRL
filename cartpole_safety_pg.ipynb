{
 "cells": [
  {
   "cell_type": "code",
   "execution_count": 1,
   "metadata": {},
   "outputs": [],
   "source": [
    "from xvfbwrapper import Xvfb\n",
    "\n",
    "#vdisplay = Xvfb()\n",
    "#vdisplay.start()\n",
    "\n",
    "# for environ\n",
    "import os\n",
    "\n",
    "# only using device 0\n",
    "os.environ[\"CUDA_DEVICE_ORDER\"]=\"PCI_BUS_ID\"   # see issue #152\n",
    "os.environ[\"LIBGL_ALWAYS_SOFTWARE\"]=\"1\"\n",
    "#os.environ[\"CUDA_VISIBLE_DEVICES\"]=\"0\"\n",
    "\n",
    "# importing tensorflow\n",
    "import tensorflow as tf\n",
    "\n",
    "# import scipy\n",
    "import scipy, csv\n",
    "\n",
    "import pandas as pd"
   ]
  },
  {
   "cell_type": "code",
   "execution_count": 2,
   "metadata": {},
   "outputs": [],
   "source": [
    "import gym\n",
    "from gym import wrappers\n",
    "%matplotlib inline\n",
    "from matplotlib import pyplot as plt\n",
    "import numpy as np\n",
    "from tqdm import tqdm\n",
    "\n",
    "# to display environment data\n",
    "# see https://gist.github.com/thomelane/79e97630ba46c45985a946cae4805885\n",
    "from IPython import display"
   ]
  },
  {
   "cell_type": "code",
   "execution_count": 3,
   "metadata": {},
   "outputs": [
    {
     "data": {
      "text/plain": [
       "['',\n",
       " '/localhome/volodin/miniconda3/envs/neuronfailure/lib/python36.zip',\n",
       " '/localhome/volodin/miniconda3/envs/neuronfailure/lib/python3.6',\n",
       " '/localhome/volodin/miniconda3/envs/neuronfailure/lib/python3.6/lib-dynload',\n",
       " '/localhome/volodin/miniconda3/envs/neuronfailure/lib/python3.6/site-packages',\n",
       " '/localhome/volodin/miniconda3/envs/neuronfailure/lib/python3.6/site-packages/IPython/extensions',\n",
       " '/localhome/volodin/.ipython',\n",
       " '/localhome/volodin/local/usr/bin']"
      ]
     },
     "execution_count": 3,
     "metadata": {},
     "output_type": "execute_result"
    }
   ],
   "source": [
    "import sys\n",
    "sys.path += ['/localhome/volodin/local/usr/bin']\n",
    "sys.path"
   ]
  },
  {
   "cell_type": "code",
   "execution_count": 4,
   "metadata": {},
   "outputs": [],
   "source": [
    "from xvfbwrapper import Xvfb\n",
    "\n",
    "vdisplay = Xvfb()\n",
    "vdisplay.start()"
   ]
  },
  {
   "cell_type": "code",
   "execution_count": 5,
   "metadata": {},
   "outputs": [],
   "source": [
    "tf.reset_default_graph()\n",
    "# allowing GPU memory growth to allocate only what we need\n",
    "config = tf.ConfigProto()\n",
    "config.gpu_options.per_process_gpu_memory_fraction = 0.5\n",
    "config.gpu_options.allow_growth = True\n",
    "sess = tf.Session(config=config, graph = tf.get_default_graph())"
   ]
  },
  {
   "cell_type": "code",
   "execution_count": 6,
   "metadata": {},
   "outputs": [],
   "source": [
    "env = gym.make('CartPole-v0')"
   ]
  },
  {
   "cell_type": "code",
   "execution_count": 7,
   "metadata": {},
   "outputs": [],
   "source": [
    "S_DIM = 4\n",
    "ACTIONS = 2"
   ]
  },
  {
   "cell_type": "code",
   "execution_count": 8,
   "metadata": {},
   "outputs": [],
   "source": [
    "# states\n",
    "states = tf.placeholder(tf.float64, shape = (None, S_DIM,))\n",
    "\n",
    "# taken actions\n",
    "actions = tf.placeholder(tf.int64, shape = (None,))\n",
    "\n",
    "# rewards obtained\n",
    "discounted_rewards = tf.placeholder(tf.float64, shape = (None,))\n",
    "\n",
    "def fc_layer(x, n, activation = tf.nn.sigmoid):\n",
    "    \"\"\" Fully connected layer for input x and output dim n \"\"\"\n",
    "    return tf.contrib.layers.fully_connected(x, n, activation_fn=activation,\n",
    "    weights_initializer=tf.initializers.lecun_normal(), weights_regularizer=None,\n",
    "    biases_initializer=tf.zeros_initializer(), biases_regularizer=None, trainable=True)"
   ]
  },
  {
   "cell_type": "code",
   "execution_count": 9,
   "metadata": {},
   "outputs": [],
   "source": [
    "# layers\n",
    "with tf.name_scope('layers'):\n",
    "    z = states # state is an input\n",
    "    z = fc_layer(z, 10)\n",
    "    z# = fc_layer(z, 10)\n",
    "    #z = fc_layer(z, 10)\n",
    "    z = fc_layer(z, ACTIONS, activation = None)\n",
    "    output = z"
   ]
  },
  {
   "cell_type": "code",
   "execution_count": 10,
   "metadata": {},
   "outputs": [],
   "source": [
    "# softmax to make probability distribution\n",
    "logits = tf.nn.softmax(output)\n",
    "\n",
    "# predicted labels\n",
    "labels = tf.argmax(logits, axis = 1)"
   ]
  },
  {
   "cell_type": "code",
   "execution_count": 11,
   "metadata": {},
   "outputs": [],
   "source": [
    "params = tf.trainable_variables()"
   ]
  },
  {
   "cell_type": "markdown",
   "metadata": {},
   "source": [
    "Want to optimize the sum of rewards:\n",
    "$$\n",
    "J(\\theta)=\\mathbb{E}_{\\pi(\\theta)}\\sum\\limits_{t=0}^\\infty r_t\n",
    "$$\n",
    "\n",
    "Take the gradient and use log-likelihood trick:\n",
    "$$\n",
    "\\nabla J(\\theta)=\\mathbb{E}_{\\pi}\\sum\\limits_{t=0}^\\infty r_t\\nabla_\\theta \\log \\pi(a_t|s_t)=\\nabla_\\theta\\mathbb{E}_{\\pi}\\sum\\limits_{t=0}^\\infty r_t\\log \\pi(a_t|s_t)\n",
    "$$\n",
    "\n",
    "Therefore the task is equivalent to minimizing a loss of\n",
    "$$\n",
    "\\mathbb{E}_{\\pi}\\sum\\limits_{t=0}^\\infty r_t\\log \\pi(a_t|s_t)\n",
    "$$\n",
    "\n",
    "Which is estimated stochastically using episodes using the Policy Gradient Theorem: for one episode for $G_t=\\sum\\limits_{t'>t}r_t\\gamma^{t'-t-1}$\n",
    "$$\n",
    "\\nabla J(\\theta)\\approx \\frac{1}{T}\\sum\\limits_{t=1}^T G_t\\log\\pi(a_t|s_t)\n",
    "$$"
   ]
  },
  {
   "cell_type": "code",
   "execution_count": 12,
   "metadata": {},
   "outputs": [],
   "source": [
    "# one-hot encoded actions\n",
    "a_one_hot = tf.one_hot(actions, ACTIONS)\n",
    "\n",
    "# taken logits\n",
    "#logits_taken = tf.gather(logits, actions, axis = 1)\n",
    "logits_taken = tf.boolean_mask(logits, a_one_hot)\n",
    "\n",
    "# logarithm\n",
    "log_logits = tf.log(logits_taken)\n",
    "\n",
    "# logarithm of logits * reward\n",
    "r_log_logits_sum = tf.reduce_sum(tf.multiply(discounted_rewards, log_logits))\n",
    "\n",
    "# calculated loss\n",
    "loss = -tf.reduce_sum(tf.multiply(log_logits, discounted_rewards))\n",
    "#loss = tf.reduce_mean(tf.losses.softmax_cross_entropy(a_one_hot, logits)) * tf.reduce_sum(rewards)"
   ]
  },
  {
   "cell_type": "code",
   "execution_count": 13,
   "metadata": {},
   "outputs": [],
   "source": [
    "def sample_action(observation):\n",
    "    \"\"\" Sample an action from the policy \"\"\"\n",
    "    \n",
    "    p = sess.run(logits, feed_dict = {states: [observation]})[0]\n",
    "    return np.random.choice(range(2), p = p)"
   ]
  },
  {
   "cell_type": "code",
   "execution_count": 14,
   "metadata": {},
   "outputs": [],
   "source": [
    "def get_rollout():\n",
    "    \"\"\" Obtain rollout using policy \"\"\"\n",
    "    done = False\n",
    "    observation = env.reset()\n",
    "    sar = []\n",
    "    while not done:\n",
    "        act = sample_action(observation)\n",
    "        observation_, reward, done, info = env.step(act) # take a random action\n",
    "        sar.append((observation, act, reward))\n",
    "        observation = observation_\n",
    "    env.close()\n",
    "    return sar"
   ]
  },
  {
   "cell_type": "code",
   "execution_count": 15,
   "metadata": {},
   "outputs": [],
   "source": [
    "# learning rate for policy gradients\n",
    "gamma_discount = 0.95"
   ]
  },
  {
   "cell_type": "code",
   "execution_count": 16,
   "metadata": {},
   "outputs": [],
   "source": [
    "def discount(rewards):\n",
    "    \"\"\" Discount and do cumulative sum \"\"\"\n",
    "    sum_so_far = 0.0\n",
    "    rewards_so_far = []\n",
    "    for r in rewards[::-1]:\n",
    "        sum_so_far = sum_so_far * gamma_discount + r\n",
    "        rewards_so_far.append(sum_so_far)\n",
    "    return rewards_so_far[::-1]"
   ]
  },
  {
   "cell_type": "code",
   "execution_count": 17,
   "metadata": {},
   "outputs": [
    {
     "name": "stderr",
     "output_type": "stream",
     "text": [
      "/localhome/volodin/miniconda3/envs/neuronfailure/lib/python3.6/site-packages/tensorflow/python/ops/gradients_impl.py:112: UserWarning: Converting sparse IndexedSlices to a dense Tensor of unknown shape. This may consume a large amount of memory.\n",
      "  \"Converting sparse IndexedSlices to a dense Tensor of unknown shape. \"\n"
     ]
    }
   ],
   "source": [
    "opt = tf.train.AdamOptimizer(0.01).minimize(loss)"
   ]
  },
  {
   "cell_type": "code",
   "execution_count": 18,
   "metadata": {},
   "outputs": [],
   "source": [
    "# one learning iteration\n",
    "step = opt"
   ]
  },
  {
   "cell_type": "code",
   "execution_count": 19,
   "metadata": {},
   "outputs": [],
   "source": [
    "def train_step():\n",
    "    # obtaining rollout data\n",
    "    S, A, R = list(zip(*get_rollout()))\n",
    "    sess.run(step, feed_dict = {states: S, actions: A, discounted_rewards: discount(R)})\n",
    "    return np.sum(R)"
   ]
  },
  {
   "cell_type": "code",
   "execution_count": 20,
   "metadata": {},
   "outputs": [],
   "source": [
    "init = tf.global_variables_initializer()\n",
    "sess.run(init)\n",
    "r = []"
   ]
  },
  {
   "cell_type": "code",
   "execution_count": 21,
   "metadata": {},
   "outputs": [
    {
     "name": "stderr",
     "output_type": "stream",
     "text": [
      "100%|██████████| 500/500 [00:14<00:00, 24.00it/s]\n"
     ]
    }
   ],
   "source": [
    "for i in tqdm(range(500)):\n",
    "    r += [train_step()]"
   ]
  },
  {
   "cell_type": "code",
   "execution_count": 22,
   "metadata": {},
   "outputs": [
    {
     "data": {
      "text/plain": [
       "[<matplotlib.lines.Line2D at 0x7f8a3352c278>]"
      ]
     },
     "execution_count": 22,
     "metadata": {},
     "output_type": "execute_result"
    },
    {
     "data": {
      "image/png": "[encoded data removed]",
      "text/plain": [
       "<Figure size 432x288 with 1 Axes>"
      ]
     },
     "metadata": {
      "needs_background": "light"
     },
     "output_type": "display_data"
    }
   ],
   "source": [
    "plt.plot(pd.DataFrame(r).rolling(10).median())"
   ]
  },
  {
   "cell_type": "code",
   "execution_count": 23,
   "metadata": {},
   "outputs": [
    {
     "data": {
      "text/plain": [
       "200"
      ]
     },
     "execution_count": 23,
     "metadata": {},
     "output_type": "execute_result"
    }
   ],
   "source": [
    "len(get_rollout())"
   ]
  },
  {
   "cell_type": "code",
   "execution_count": 24,
   "metadata": {},
   "outputs": [],
   "source": [
    "env = env.unwrapped"
   ]
  },
  {
   "cell_type": "code",
   "execution_count": null,
   "metadata": {},
   "outputs": [],
   "source": [
    "env = gym.wrappers.Monitor(env, './video')\n",
    "get_rollout()"
   ]
  },
  {
   "cell_type": "code",
   "execution_count": 26,
   "metadata": {},
   "outputs": [
    {
     "data": {
      "text/plain": [
       "[array([[-0.18873484, -0.02347873, -0.09180877,  0.85437598,  0.73548765,\n",
       "         -0.73257722, -0.62534989,  0.11622637,  0.20281138, -0.18195212],\n",
       "        [ 0.59836861, -0.5312947 ,  0.40047014, -0.21417986, -0.07715603,\n",
       "          0.31041685, -0.40055877, -0.73640866, -0.43643387,  0.42187376],\n",
       "        [ 2.75277087, -2.28036003,  2.64911943, -2.98041001,  1.98106239,\n",
       "          1.78692565, -2.19191594, -2.3974329 , -2.14004163,  2.22988617],\n",
       "        [ 1.74699108, -1.05876661,  1.6915184 , -1.71513391,  2.09871922,\n",
       "          2.09407334, -1.69480904, -1.17094075, -2.48597429,  2.29102605]]),\n",
       " array([-0.07335326, -0.08722787, -0.07997816, -0.15610739, -0.15218183,\n",
       "        -0.01671254, -0.06472923, -0.10231432, -0.01664884, -0.13685326]),\n",
       " array([[-0.57068403,  0.57549599],\n",
       "        [ 0.33537788, -0.67760173],\n",
       "        [-0.45219608,  0.58277224],\n",
       "        [ 0.27618997, -0.47491201],\n",
       "        [-0.51973262,  0.21592388],\n",
       "        [-1.157384  ,  0.60184666],\n",
       "        [ 0.86199904, -0.71488893],\n",
       "        [ 0.45689946, -0.4230433 ],\n",
       "        [ 0.86971619, -0.45526282],\n",
       "        [-0.19498817,  0.82777938]]),\n",
       " array([-0.03216517,  0.03216517])]"
      ]
     },
     "execution_count": 26,
     "metadata": {},
     "output_type": "execute_result"
    }
   ],
   "source": [
    "sess.run(params)"
   ]
  },
  {
   "cell_type": "code",
   "execution_count": 27,
   "metadata": {},
   "outputs": [
    {
     "data": {
      "text/plain": [
       "'./cartpole-h1.ckpt'"
      ]
     },
     "execution_count": 27,
     "metadata": {},
     "output_type": "execute_result"
    }
   ],
   "source": [
    "tf.train.Saver().save(sess, './cartpole-h1.ckpt')"
   ]
  },
  {
   "cell_type": "code",
   "execution_count": 28,
   "metadata": {},
   "outputs": [
    {
     "name": "stdout",
     "output_type": "stream",
     "text": [
      "INFO:tensorflow:Restoring parameters from ./cartpole-h1.ckpt\n"
     ]
    }
   ],
   "source": [
    "tf.train.Saver().restore(sess, './cartpole-h1.ckpt')"
   ]
  },
  {
   "cell_type": "code",
   "execution_count": null,
   "metadata": {},
   "outputs": [],
   "source": []
  }
 ],
 "metadata": {
  "kernelspec": {
   "display_name": "Python 3",
   "language": "python",
   "name": "python3"
  },
  "language_info": {
   "codemirror_mode": {
    "name": "ipython",
    "version": 3
   },
   "file_extension": ".py",
   "mimetype": "text/x-python",
   "name": "python",
   "nbconvert_exporter": "python",
   "pygments_lexer": "ipython3",
   "version": "3.6.8"
  },
  "varInspector": {
   "cols": {
    "lenName": 16,
    "lenType": 16,
    "lenVar": 40
   },
   "kernels_config": {
    "python": {
     "delete_cmd_postfix": "",
     "delete_cmd_prefix": "del ",
     "library": "var_list.py",
     "varRefreshCmd": "print(var_dic_list())"
    },
    "r": {
     "delete_cmd_postfix": ") ",
     "delete_cmd_prefix": "rm(",
     "library": "var_list.r",
     "varRefreshCmd": "cat(var_dic_list()) "
    }
   },
   "types_to_exclude": [
    "module",
    "function",
    "builtin_function_or_method",
    "instance",
    "_Feature"
   ],
   "window_display": false
  }
 },
 "nbformat": 4,
 "nbformat_minor": 2
}
