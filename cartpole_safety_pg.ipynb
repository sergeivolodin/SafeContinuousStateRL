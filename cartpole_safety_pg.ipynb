{
 "cells": [
  {
   "cell_type": "code",
   "execution_count": 1,
   "metadata": {},
   "outputs": [],
   "source": [
    "from xvfbwrapper import Xvfb\n",
    "\n",
    "#vdisplay = Xvfb()\n",
    "#vdisplay.start()\n",
    "\n",
    "# for environ\n",
    "import os\n",
    "\n",
    "# only using device 0\n",
    "os.environ[\"CUDA_DEVICE_ORDER\"]=\"PCI_BUS_ID\"   # see issue #152\n",
    "#os.environ[\"CUDA_VISIBLE_DEVICES\"]=\"0\"\n",
    "\n",
    "# importing tensorflow\n",
    "import tensorflow as tf\n",
    "\n",
    "# import scipy\n",
    "import scipy, csv\n",
    "\n",
    "import pandas as pd"
   ]
  },
  {
   "cell_type": "code",
   "execution_count": null,
   "metadata": {},
   "outputs": [],
   "source": [
    "import gym\n",
    "from gym import wrappers\n",
    "%matplotlib inline\n",
    "from matplotlib import pyplot as plt\n",
    "import numpy as np\n",
    "from tqdm import tqdm\n",
    "\n",
    "# to display environment data\n",
    "# see https://gist.github.com/thomelane/79e97630ba46c45985a946cae4805885\n",
    "from IPython import display"
   ]
  },
  {
   "cell_type": "code",
   "execution_count": 3,
   "metadata": {},
   "outputs": [
    {
     "data": {
      "text/plain": [
       "['',\n",
       " '/localhome/volodin/miniconda3/envs/neuronfailure/lib/python36.zip',\n",
       " '/localhome/volodin/miniconda3/envs/neuronfailure/lib/python3.6',\n",
       " '/localhome/volodin/miniconda3/envs/neuronfailure/lib/python3.6/lib-dynload',\n",
       " '/localhome/volodin/miniconda3/envs/neuronfailure/lib/python3.6/site-packages',\n",
       " '/localhome/volodin/miniconda3/envs/neuronfailure/lib/python3.6/site-packages/IPython/extensions',\n",
       " '/localhome/volodin/.ipython',\n",
       " '/localhome/volodin/local/usr/bin']"
      ]
     },
     "execution_count": 3,
     "metadata": {},
     "output_type": "execute_result"
    }
   ],
   "source": [
    "import sys\n",
    "sys.path += ['/localhome/volodin/local/usr/bin']\n",
    "sys.path"
   ]
  },
  {
   "cell_type": "code",
   "execution_count": 4,
   "metadata": {},
   "outputs": [
    {
     "ename": "OSError",
     "evalue": "Can not find Xvfb. Please install it and try again.",
     "output_type": "error",
     "traceback": [
      "\u001b[0;31m---------------------------------------------------------------------------\u001b[0m",
      "\u001b[0;31mOSError\u001b[0m                                   Traceback (most recent call last)",
      "\u001b[0;32m<ipython-input-4-7ced528a8f7a>\u001b[0m in \u001b[0;36m<module>\u001b[0;34m\u001b[0m\n\u001b[1;32m      1\u001b[0m \u001b[0;32mfrom\u001b[0m \u001b[0mxvfbwrapper\u001b[0m \u001b[0;32mimport\u001b[0m \u001b[0mXvfb\u001b[0m\u001b[0;34m\u001b[0m\u001b[0;34m\u001b[0m\u001b[0m\n\u001b[1;32m      2\u001b[0m \u001b[0;34m\u001b[0m\u001b[0m\n\u001b[0;32m----> 3\u001b[0;31m \u001b[0mvdisplay\u001b[0m \u001b[0;34m=\u001b[0m \u001b[0mXvfb\u001b[0m\u001b[0;34m(\u001b[0m\u001b[0;34m)\u001b[0m\u001b[0;34m\u001b[0m\u001b[0;34m\u001b[0m\u001b[0m\n\u001b[0m\u001b[1;32m      4\u001b[0m \u001b[0mvdisplay\u001b[0m\u001b[0;34m.\u001b[0m\u001b[0mstart\u001b[0m\u001b[0;34m(\u001b[0m\u001b[0;34m)\u001b[0m\u001b[0;34m\u001b[0m\u001b[0;34m\u001b[0m\u001b[0m\n",
      "\u001b[0;32m~/miniconda3/envs/neuronfailure/lib/python3.6/site-packages/xvfbwrapper.py\u001b[0m in \u001b[0;36m__init__\u001b[0;34m(self, width, height, colordepth, tempdir, **kwargs)\u001b[0m\n\u001b[1;32m     39\u001b[0m         \u001b[0;32mif\u001b[0m \u001b[0;32mnot\u001b[0m \u001b[0mself\u001b[0m\u001b[0;34m.\u001b[0m\u001b[0mxvfb_exists\u001b[0m\u001b[0;34m(\u001b[0m\u001b[0;34m)\u001b[0m\u001b[0;34m:\u001b[0m\u001b[0;34m\u001b[0m\u001b[0;34m\u001b[0m\u001b[0m\n\u001b[1;32m     40\u001b[0m             \u001b[0mmsg\u001b[0m \u001b[0;34m=\u001b[0m \u001b[0;34m'Can not find Xvfb. Please install it and try again.'\u001b[0m\u001b[0;34m\u001b[0m\u001b[0;34m\u001b[0m\u001b[0m\n\u001b[0;32m---> 41\u001b[0;31m             \u001b[0;32mraise\u001b[0m \u001b[0mEnvironmentError\u001b[0m\u001b[0;34m(\u001b[0m\u001b[0mmsg\u001b[0m\u001b[0;34m)\u001b[0m\u001b[0;34m\u001b[0m\u001b[0;34m\u001b[0m\u001b[0m\n\u001b[0m\u001b[1;32m     42\u001b[0m \u001b[0;34m\u001b[0m\u001b[0m\n\u001b[1;32m     43\u001b[0m         self.extra_xvfb_args = ['-screen', '0', '{}x{}x{}'.format(\n",
      "\u001b[0;31mOSError\u001b[0m: Can not find Xvfb. Please install it and try again."
     ]
    }
   ],
   "source": [
    "from xvfbwrapper import Xvfb\n",
    "\n",
    "vdisplay = Xvfb()\n",
    "vdisplay.start()"
   ]
  },
  {
   "cell_type": "code",
   "execution_count": 3,
   "metadata": {},
   "outputs": [],
   "source": [
    "tf.reset_default_graph()\n",
    "# allowing GPU memory growth to allocate only what we need\n",
    "config = tf.ConfigProto()\n",
    "config.gpu_options.per_process_gpu_memory_fraction = 0.5\n",
    "config.gpu_options.allow_growth = True\n",
    "sess = tf.Session(config=config, graph = tf.get_default_graph())"
   ]
  },
  {
   "cell_type": "code",
   "execution_count": 4,
   "metadata": {},
   "outputs": [
    {
     "data": {
      "text/plain": [
       "array([0.00254163, 0.04386239, 0.02868513, 0.01695128])"
      ]
     },
     "execution_count": 4,
     "metadata": {},
     "output_type": "execute_result"
    }
   ],
   "source": [
    "env = gym.make('CartPole-v0')\n",
    "#env = wrappers.Monitor(env, 'video')\n",
    "env.reset()"
   ]
  },
  {
   "cell_type": "code",
   "execution_count": 5,
   "metadata": {},
   "outputs": [
    {
     "data": {
      "text/plain": [
       "Discrete(2)"
      ]
     },
     "execution_count": 5,
     "metadata": {},
     "output_type": "execute_result"
    }
   ],
   "source": [
    "env.action_space"
   ]
  },
  {
   "cell_type": "code",
   "execution_count": 6,
   "metadata": {},
   "outputs": [],
   "source": [
    "S_DIM = 4\n",
    "ACTIONS = 2"
   ]
  },
  {
   "cell_type": "code",
   "execution_count": 7,
   "metadata": {},
   "outputs": [],
   "source": [
    "# states\n",
    "states = tf.placeholder(tf.float64, shape = (None, S_DIM,))\n",
    "\n",
    "# taken actions\n",
    "actions = tf.placeholder(tf.int64, shape = (None,))\n",
    "\n",
    "# rewards obtained\n",
    "rewards = tf.placeholder(tf.float64, shape = (None,))\n",
    "\n",
    "def fc_layer(x, n, activation = tf.nn.sigmoid):\n",
    "    \"\"\" Fully connected layer for input x and output dim n \"\"\"\n",
    "    return tf.contrib.layers.fully_connected(x, n, activation_fn=activation,\n",
    "    weights_initializer=tf.initializers.lecun_normal(), weights_regularizer=None,\n",
    "    biases_initializer=tf.zeros_initializer(), biases_regularizer=None, trainable=True)"
   ]
  },
  {
   "cell_type": "code",
   "execution_count": 8,
   "metadata": {},
   "outputs": [],
   "source": [
    "# layers\n",
    "with tf.name_scope('layers'):\n",
    "    z = states # state is an input\n",
    "    z = fc_layer(z, 10)\n",
    "    z = fc_layer(z, 10)\n",
    "    z = fc_layer(z, 10)\n",
    "    z = fc_layer(z, ACTIONS, activation = None)\n",
    "    output = z"
   ]
  },
  {
   "cell_type": "code",
   "execution_count": 9,
   "metadata": {},
   "outputs": [],
   "source": [
    "# softmax to make probability distribution\n",
    "logits = tf.nn.softmax(output)\n",
    "\n",
    "# predicted labels\n",
    "labels = tf.argmax(logits, axis = 1)"
   ]
  },
  {
   "cell_type": "code",
   "execution_count": 10,
   "metadata": {},
   "outputs": [],
   "source": [
    "params = tf.trainable_variables()"
   ]
  },
  {
   "cell_type": "code",
   "execution_count": 11,
   "metadata": {},
   "outputs": [
    {
     "name": "stderr",
     "output_type": "stream",
     "text": [
      "/localhome/volodin/miniconda3/envs/neuronfailure/lib/python3.6/site-packages/tensorflow/python/ops/gradients_impl.py:108: UserWarning: Converting sparse IndexedSlices to a dense Tensor of unknown shape. This may consume a large amount of memory.\n",
      "  \"Converting sparse IndexedSlices to a dense Tensor of unknown shape. \"\n"
     ]
    }
   ],
   "source": [
    "# one-hot encoded actions\n",
    "a_one_hot = tf.one_hot(actions, ACTIONS)\n",
    "\n",
    "# taken logits\n",
    "#logits_taken = tf.gather(logits, actions, axis = 1)\n",
    "logits_taken = tf.boolean_mask(logits, a_one_hot)\n",
    "\n",
    "# logarithm\n",
    "log_logits = tf.log(logits_taken)\n",
    "\n",
    "# logarithm of logits * reward\n",
    "r_log_logits_sum = tf.reduce_sum(tf.multiply(rewards, log_logits))\n",
    "\n",
    "# calculated loss\n",
    "loss = -tf.reduce_sum(tf.multiply(log_logits, tf.cumsum(rewards, reverse = True)))\n",
    "#loss = tf.reduce_mean(tf.losses.softmax_cross_entropy(a_one_hot, logits)) * tf.reduce_sum(rewards)\n",
    "\n",
    "# derivarive w.r.t. params\n",
    "grads = tf.gradients(r_log_logits_sum, params)"
   ]
  },
  {
   "cell_type": "code",
   "execution_count": 12,
   "metadata": {},
   "outputs": [
    {
     "data": {
      "text/plain": [
       "[<tf.Tensor 'gradients/layers/fully_connected/MatMul_grad/MatMul_1:0' shape=(4, 10) dtype=float64>,\n",
       " <tf.Tensor 'gradients/layers/fully_connected/BiasAdd_grad/BiasAddGrad:0' shape=(10,) dtype=float64>,\n",
       " <tf.Tensor 'gradients/layers/fully_connected_1/MatMul_grad/MatMul_1:0' shape=(10, 10) dtype=float64>,\n",
       " <tf.Tensor 'gradients/layers/fully_connected_1/BiasAdd_grad/BiasAddGrad:0' shape=(10,) dtype=float64>,\n",
       " <tf.Tensor 'gradients/layers/fully_connected_2/MatMul_grad/MatMul_1:0' shape=(10, 10) dtype=float64>,\n",
       " <tf.Tensor 'gradients/layers/fully_connected_2/BiasAdd_grad/BiasAddGrad:0' shape=(10,) dtype=float64>,\n",
       " <tf.Tensor 'gradients/layers/fully_connected_3/MatMul_grad/MatMul_1:0' shape=(10, 2) dtype=float64>,\n",
       " <tf.Tensor 'gradients/layers/fully_connected_3/BiasAdd_grad/BiasAddGrad:0' shape=(2,) dtype=float64>]"
      ]
     },
     "execution_count": 12,
     "metadata": {},
     "output_type": "execute_result"
    }
   ],
   "source": [
    "grads"
   ]
  },
  {
   "cell_type": "code",
   "execution_count": 13,
   "metadata": {},
   "outputs": [],
   "source": [
    "def sample_action(observation):\n",
    "    \"\"\" Sample an action from the policy \"\"\"\n",
    "    \n",
    "    if np.random.random() <= eps:\n",
    "        return env.action_space.sample()\n",
    "    \n",
    "    p = sess.run(logits, feed_dict = {states: [observation]})[0]\n",
    "    return np.random.choice(range(2), p = p)"
   ]
  },
  {
   "cell_type": "code",
   "execution_count": 14,
   "metadata": {},
   "outputs": [],
   "source": [
    "def get_rollout():\n",
    "    \"\"\" Obtain rollout using policy \"\"\"\n",
    "    done = False\n",
    "    observation = env.reset()\n",
    "    sar = []\n",
    "    while not done:\n",
    "        act = sample_action(observation)\n",
    "        observation_, reward, done, info = env.step(act) # take a random action\n",
    "        sar.append((observation, act, reward))\n",
    "        observation = observation_\n",
    "    env.close()\n",
    "    return sar"
   ]
  },
  {
   "cell_type": "code",
   "execution_count": 15,
   "metadata": {},
   "outputs": [],
   "source": [
    "# learning rate for policy gradients\n",
    "gamma = tf.placeholder(tf.float64, shape = ())"
   ]
  },
  {
   "cell_type": "code",
   "execution_count": 16,
   "metadata": {},
   "outputs": [],
   "source": [
    "def learning_step():\n",
    "    \"\"\" Gradient descent step \"\"\"\n",
    "    return tf.group([p.assign(tf.add(p, tf.multiply(gamma, g))) for p, g in zip(params, grads)])"
   ]
  },
  {
   "cell_type": "code",
   "execution_count": 28,
   "metadata": {},
   "outputs": [],
   "source": [
    "opt = tf.train.AdamOptimizer(0.01).minimize(loss)"
   ]
  },
  {
   "cell_type": "code",
   "execution_count": 29,
   "metadata": {},
   "outputs": [],
   "source": [
    "# one learning iteration\n",
    "#step = learning_step()\n",
    "step = opt"
   ]
  },
  {
   "cell_type": "code",
   "execution_count": 30,
   "metadata": {},
   "outputs": [],
   "source": [
    "def train_step(gamma_):\n",
    "    # obtaining rollout data\n",
    "    S, A, R = list(zip(*get_rollout()))\n",
    "    sess.run(step, feed_dict = {states: S, actions: A, rewards: R, gamma: gamma_})\n",
    "    return np.sum(R)"
   ]
  },
  {
   "cell_type": "code",
   "execution_count": 31,
   "metadata": {},
   "outputs": [],
   "source": [
    "init = tf.global_variables_initializer()\n",
    "sess.run(init)\n",
    "r = []"
   ]
  },
  {
   "cell_type": "code",
   "execution_count": 37,
   "metadata": {},
   "outputs": [],
   "source": [
    "# non-greediness\n",
    "eps = 0"
   ]
  },
  {
   "cell_type": "code",
   "execution_count": 33,
   "metadata": {},
   "outputs": [
    {
     "name": "stderr",
     "output_type": "stream",
     "text": [
      "100%|██████████| 1000/1000 [00:22<00:00, 16.90it/s]\n"
     ]
    }
   ],
   "source": [
    "for i in tqdm(range(1000)):\n",
    "    #gamma_ = (1000 - i) / 50000.\n",
    "    gamma_ = 0.05\n",
    "    r += [train_step(gamma_)]"
   ]
  },
  {
   "cell_type": "code",
   "execution_count": 35,
   "metadata": {},
   "outputs": [
    {
     "data": {
      "text/plain": [
       "[<matplotlib.lines.Line2D at 0x7f251d6d9080>]"
      ]
     },
     "execution_count": 35,
     "metadata": {},
     "output_type": "execute_result"
    },
    {
     "data": {
      "image/png": "[encoded data removed]",
      "text/plain": [
       "<Figure size 432x288 with 1 Axes>"
      ]
     },
     "metadata": {
      "needs_background": "light"
     },
     "output_type": "display_data"
    }
   ],
   "source": [
    "plt.plot(pd.DataFrame(r).rolling(1).median())"
   ]
  },
  {
   "cell_type": "code",
   "execution_count": 45,
   "metadata": {},
   "outputs": [
    {
     "data": {
      "text/plain": [
       "200"
      ]
     },
     "execution_count": 45,
     "metadata": {},
     "output_type": "execute_result"
    }
   ],
   "source": [
    "len(get_rollout())"
   ]
  },
  {
   "cell_type": "code",
   "execution_count": null,
   "metadata": {},
   "outputs": [],
   "source": []
  }
 ],
 "metadata": {
  "kernelspec": {
   "display_name": "Python 3",
   "language": "python",
   "name": "python3"
  },
  "varInspector": {
   "cols": {
    "lenName": 16,
    "lenType": 16,
    "lenVar": 40
   },
   "kernels_config": {
    "python": {
     "delete_cmd_postfix": "",
     "delete_cmd_prefix": "del ",
     "library": "var_list.py",
     "varRefreshCmd": "print(var_dic_list())"
    },
    "r": {
     "delete_cmd_postfix": ") ",
     "delete_cmd_prefix": "rm(",
     "library": "var_list.r",
     "varRefreshCmd": "cat(var_dic_list()) "
    }
   },
   "types_to_exclude": [
    "module",
    "function",
    "builtin_function_or_method",
    "instance",
    "_Feature"
   ],
   "window_display": false
  }
 },
 "nbformat": 4,
 "nbformat_minor": 2
}
