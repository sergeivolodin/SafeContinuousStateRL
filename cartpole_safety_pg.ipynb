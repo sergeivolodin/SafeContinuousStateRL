{
 "cells": [
  {
   "cell_type": "code",
   "execution_count": 1,
   "metadata": {},
   "outputs": [],
   "source": [
    "from xvfbwrapper import Xvfb\n",
    "\n",
    "#vdisplay = Xvfb()\n",
    "#vdisplay.start()\n",
    "\n",
    "# for environ\n",
    "import os\n",
    "\n",
    "# only using device 0\n",
    "os.environ[\"CUDA_DEVICE_ORDER\"]=\"PCI_BUS_ID\"   # see issue #152\n",
    "os.environ[\"LIBGL_ALWAYS_SOFTWARE\"]=\"1\"\n",
    "#os.environ[\"CUDA_VISIBLE_DEVICES\"]=\"0\"\n",
    "\n",
    "# importing tensorflow\n",
    "import tensorflow as tf\n",
    "\n",
    "# import scipy\n",
    "import scipy, csv\n",
    "\n",
    "import pandas as pd"
   ]
  },
  {
   "cell_type": "code",
   "execution_count": 2,
   "metadata": {},
   "outputs": [],
   "source": [
    "import gym\n",
    "from gym import wrappers\n",
    "%matplotlib inline\n",
    "from matplotlib import pyplot as plt\n",
    "import numpy as np\n",
    "from tqdm import tqdm\n",
    "\n",
    "# to display environment data\n",
    "# see https://gist.github.com/thomelane/79e97630ba46c45985a946cae4805885\n",
    "from IPython import display"
   ]
  },
  {
   "cell_type": "code",
   "execution_count": 3,
   "metadata": {},
   "outputs": [
    {
     "data": {
      "text/plain": [
       "['',\n",
       " '/localhome/volodin/miniconda3/envs/neuronfailure/lib/python36.zip',\n",
       " '/localhome/volodin/miniconda3/envs/neuronfailure/lib/python3.6',\n",
       " '/localhome/volodin/miniconda3/envs/neuronfailure/lib/python3.6/lib-dynload',\n",
       " '/localhome/volodin/miniconda3/envs/neuronfailure/lib/python3.6/site-packages',\n",
       " '/localhome/volodin/miniconda3/envs/neuronfailure/lib/python3.6/site-packages/IPython/extensions',\n",
       " '/localhome/volodin/.ipython',\n",
       " '/localhome/volodin/local/usr/bin']"
      ]
     },
     "execution_count": 3,
     "metadata": {},
     "output_type": "execute_result"
    }
   ],
   "source": [
    "import sys\n",
    "sys.path += ['/localhome/volodin/local/usr/bin']\n",
    "sys.path"
   ]
  },
  {
   "cell_type": "code",
   "execution_count": 4,
   "metadata": {},
   "outputs": [],
   "source": [
    "from xvfbwrapper import Xvfb\n",
    "\n",
    "vdisplay = Xvfb()\n",
    "vdisplay.start()"
   ]
  },
  {
   "cell_type": "code",
   "execution_count": 5,
   "metadata": {},
   "outputs": [],
   "source": [
    "tf.reset_default_graph()\n",
    "# allowing GPU memory growth to allocate only what we need\n",
    "config = tf.ConfigProto()\n",
    "config.gpu_options.per_process_gpu_memory_fraction = 0.5\n",
    "config.gpu_options.allow_growth = True\n",
    "sess = tf.Session(config=config, graph = tf.get_default_graph())"
   ]
  },
  {
   "cell_type": "code",
   "execution_count": 6,
   "metadata": {},
   "outputs": [
    {
     "data": {
      "text/plain": [
       "array([-0.00298042,  0.01997262,  0.00667664,  0.04858991])"
      ]
     },
     "execution_count": 6,
     "metadata": {},
     "output_type": "execute_result"
    }
   ],
   "source": [
    "env = gym.make('CartPole-v0')\n",
    "#env = wrappers.Monitor(env, 'video')\n",
    "env.reset()"
   ]
  },
  {
   "cell_type": "code",
   "execution_count": 7,
   "metadata": {},
   "outputs": [
    {
     "data": {
      "text/plain": [
       "Discrete(2)"
      ]
     },
     "execution_count": 7,
     "metadata": {},
     "output_type": "execute_result"
    }
   ],
   "source": [
    "env.action_space"
   ]
  },
  {
   "cell_type": "code",
   "execution_count": 8,
   "metadata": {},
   "outputs": [],
   "source": [
    "S_DIM = 4\n",
    "ACTIONS = 2"
   ]
  },
  {
   "cell_type": "code",
   "execution_count": 9,
   "metadata": {},
   "outputs": [],
   "source": [
    "# states\n",
    "states = tf.placeholder(tf.float64, shape = (None, S_DIM,))\n",
    "\n",
    "# taken actions\n",
    "actions = tf.placeholder(tf.int64, shape = (None,))\n",
    "\n",
    "# rewards obtained\n",
    "rewards = tf.placeholder(tf.float64, shape = (None,))\n",
    "\n",
    "def fc_layer(x, n, activation = tf.nn.sigmoid):\n",
    "    \"\"\" Fully connected layer for input x and output dim n \"\"\"\n",
    "    return tf.contrib.layers.fully_connected(x, n, activation_fn=activation,\n",
    "    weights_initializer=tf.initializers.lecun_normal(), weights_regularizer=None,\n",
    "    biases_initializer=tf.zeros_initializer(), biases_regularizer=None, trainable=True)"
   ]
  },
  {
   "cell_type": "code",
   "execution_count": 10,
   "metadata": {},
   "outputs": [],
   "source": [
    "# layers\n",
    "with tf.name_scope('layers'):\n",
    "    z = states # state is an input\n",
    "    z = fc_layer(z, 10)\n",
    "    z# = fc_layer(z, 10)\n",
    "    #z = fc_layer(z, 10)\n",
    "    z = fc_layer(z, ACTIONS, activation = None)\n",
    "    output = z"
   ]
  },
  {
   "cell_type": "code",
   "execution_count": 11,
   "metadata": {},
   "outputs": [],
   "source": [
    "# softmax to make probability distribution\n",
    "logits = tf.nn.softmax(output)\n",
    "\n",
    "# predicted labels\n",
    "labels = tf.argmax(logits, axis = 1)"
   ]
  },
  {
   "cell_type": "code",
   "execution_count": 12,
   "metadata": {},
   "outputs": [],
   "source": [
    "params = tf.trainable_variables()"
   ]
  },
  {
   "cell_type": "markdown",
   "metadata": {},
   "source": [
    "Want to optimize the sum of rewards:\n",
    "$$\n",
    "J(\\theta)=\\mathbb{E}_{\\pi(\\theta)}\\sum\\limits_{t=0}^\\infty r_t\n",
    "$$\n",
    "\n",
    "Take the gradient and use log-likelihood trick:\n",
    "$$\n",
    "\\nabla J(\\theta)=\\mathbb{E}_{\\pi}\\sum\\limits_{t=0}^\\infty r_t\\nabla_\\theta \\log \\pi(a_t|s_t)=\\nabla_\\theta\\mathbb{E}_{\\pi}\\sum\\limits_{t=0}^\\infty r_t\\log \\pi(a_t|s_t)\n",
    "$$\n",
    "\n",
    "Therefore the task is equivalent to minimizing a loss of\n",
    "$$\n",
    "\\mathbb{E}_{\\pi}\\sum\\limits_{t=0}^\\infty r_t\\log \\pi(a_t|s_t)\n",
    "$$\n",
    "\n",
    "Which is estimated stochastically using episodes."
   ]
  },
  {
   "cell_type": "code",
   "execution_count": 13,
   "metadata": {},
   "outputs": [
    {
     "name": "stderr",
     "output_type": "stream",
     "text": [
      "/localhome/volodin/miniconda3/envs/neuronfailure/lib/python3.6/site-packages/tensorflow/python/ops/gradients_impl.py:108: UserWarning: Converting sparse IndexedSlices to a dense Tensor of unknown shape. This may consume a large amount of memory.\n",
      "  \"Converting sparse IndexedSlices to a dense Tensor of unknown shape. \"\n"
     ]
    }
   ],
   "source": [
    "# one-hot encoded actions\n",
    "a_one_hot = tf.one_hot(actions, ACTIONS)\n",
    "\n",
    "# taken logits\n",
    "#logits_taken = tf.gather(logits, actions, axis = 1)\n",
    "logits_taken = tf.boolean_mask(logits, a_one_hot)\n",
    "\n",
    "# logarithm\n",
    "log_logits = tf.log(logits_taken)\n",
    "\n",
    "# logarithm of logits * reward\n",
    "r_log_logits_sum = tf.reduce_sum(tf.multiply(rewards, log_logits))\n",
    "\n",
    "# calculated loss\n",
    "loss = -tf.reduce_sum(tf.multiply(log_logits, tf.cumsum(rewards, reverse = True)))\n",
    "#loss = tf.reduce_mean(tf.losses.softmax_cross_entropy(a_one_hot, logits)) * tf.reduce_sum(rewards)\n",
    "\n",
    "# derivarive w.r.t. params\n",
    "grads = tf.gradients(r_log_logits_sum, params)"
   ]
  },
  {
   "cell_type": "code",
   "execution_count": 14,
   "metadata": {},
   "outputs": [
    {
     "data": {
      "text/plain": [
       "[<tf.Tensor 'gradients/layers/fully_connected/MatMul_grad/MatMul_1:0' shape=(4, 10) dtype=float64>,\n",
       " <tf.Tensor 'gradients/layers/fully_connected/BiasAdd_grad/BiasAddGrad:0' shape=(10,) dtype=float64>,\n",
       " <tf.Tensor 'gradients/layers/fully_connected_1/MatMul_grad/MatMul_1:0' shape=(10, 2) dtype=float64>,\n",
       " <tf.Tensor 'gradients/layers/fully_connected_1/BiasAdd_grad/BiasAddGrad:0' shape=(2,) dtype=float64>]"
      ]
     },
     "execution_count": 14,
     "metadata": {},
     "output_type": "execute_result"
    }
   ],
   "source": [
    "grads"
   ]
  },
  {
   "cell_type": "code",
   "execution_count": 15,
   "metadata": {},
   "outputs": [],
   "source": [
    "def sample_action(observation):\n",
    "    \"\"\" Sample an action from the policy \"\"\"\n",
    "    \n",
    "    if np.random.random() <= eps:\n",
    "        return env.action_space.sample()\n",
    "    \n",
    "    p = sess.run(logits, feed_dict = {states: [observation]})[0]\n",
    "    return np.random.choice(range(2), p = p)"
   ]
  },
  {
   "cell_type": "code",
   "execution_count": 16,
   "metadata": {},
   "outputs": [],
   "source": [
    "def get_rollout():\n",
    "    \"\"\" Obtain rollout using policy \"\"\"\n",
    "    done = False\n",
    "    observation = env.reset()\n",
    "    sar = []\n",
    "    while not done:\n",
    "        act = sample_action(observation)\n",
    "        observation_, reward, done, info = env.step(act) # take a random action\n",
    "        sar.append((observation, act, reward))\n",
    "        observation = observation_\n",
    "    env.close()\n",
    "    return sar"
   ]
  },
  {
   "cell_type": "code",
   "execution_count": 17,
   "metadata": {},
   "outputs": [],
   "source": [
    "# learning rate for policy gradients\n",
    "gamma = tf.placeholder(tf.float64, shape = ())"
   ]
  },
  {
   "cell_type": "code",
   "execution_count": 18,
   "metadata": {},
   "outputs": [],
   "source": [
    "def learning_step():\n",
    "    \"\"\" Gradient descent step \"\"\"\n",
    "    return tf.group([p.assign(tf.add(p, tf.multiply(gamma, g))) for p, g in zip(params, grads)])"
   ]
  },
  {
   "cell_type": "code",
   "execution_count": 19,
   "metadata": {},
   "outputs": [],
   "source": [
    "opt = tf.train.AdamOptimizer(0.005).minimize(loss)"
   ]
  },
  {
   "cell_type": "code",
   "execution_count": 20,
   "metadata": {},
   "outputs": [],
   "source": [
    "# one learning iteration\n",
    "#step = learning_step()\n",
    "step = opt"
   ]
  },
  {
   "cell_type": "code",
   "execution_count": 21,
   "metadata": {},
   "outputs": [],
   "source": [
    "def train_step(gamma_):\n",
    "    # obtaining rollout data\n",
    "    S, A, R = list(zip(*get_rollout()))\n",
    "    sess.run(step, feed_dict = {states: S, actions: A, rewards: R, gamma: gamma_})\n",
    "    return np.sum(R)"
   ]
  },
  {
   "cell_type": "code",
   "execution_count": 22,
   "metadata": {},
   "outputs": [],
   "source": [
    "init = tf.global_variables_initializer()\n",
    "sess.run(init)\n",
    "r = []"
   ]
  },
  {
   "cell_type": "code",
   "execution_count": 23,
   "metadata": {},
   "outputs": [],
   "source": [
    "# non-greediness\n",
    "eps = 0.1"
   ]
  },
  {
   "cell_type": "code",
   "execution_count": 24,
   "metadata": {},
   "outputs": [
    {
     "name": "stderr",
     "output_type": "stream",
     "text": [
      "100%|██████████| 2000/2000 [00:57<00:00, 24.08it/s]\n"
     ]
    }
   ],
   "source": [
    "for i in tqdm(range(2000)):\n",
    "    #gamma_ = (1000 - i) / 50000.\n",
    "    gamma_ = 0.05\n",
    "    r += [train_step(gamma_)]"
   ]
  },
  {
   "cell_type": "code",
   "execution_count": 25,
   "metadata": {},
   "outputs": [
    {
     "data": {
      "text/plain": [
       "[<matplotlib.lines.Line2D at 0x7f6935018748>]"
      ]
     },
     "execution_count": 25,
     "metadata": {},
     "output_type": "execute_result"
    },
    {
     "data": {
      "image/png": "[encoded data removed]",
      "text/plain": [
       "<Figure size 432x288 with 1 Axes>"
      ]
     },
     "metadata": {
      "needs_background": "light"
     },
     "output_type": "display_data"
    }
   ],
   "source": [
    "plt.plot(pd.DataFrame(r).rolling(1).median())"
   ]
  },
  {
   "cell_type": "code",
   "execution_count": 24,
   "metadata": {},
   "outputs": [
    {
     "data": {
      "text/plain": [
       "200"
      ]
     },
     "execution_count": 24,
     "metadata": {},
     "output_type": "execute_result"
    }
   ],
   "source": [
    "eps = 0\n",
    "len(get_rollout())"
   ]
  },
  {
   "cell_type": "code",
   "execution_count": 25,
   "metadata": {},
   "outputs": [],
   "source": [
    "env = env.unwrapped"
   ]
  },
  {
   "cell_type": "code",
   "execution_count": null,
   "metadata": {},
   "outputs": [],
   "source": [
    "env = gym.wrappers.Monitor(env, './video')\n",
    "get_rollout()"
   ]
  },
  {
   "cell_type": "code",
   "execution_count": 43,
   "metadata": {},
   "outputs": [
    {
     "data": {
      "text/plain": [
       "[array([[ 0.26532272, -0.10226207,  0.44927974, -0.23759199,  0.41213411,\n",
       "          0.31379526, -0.61656754,  0.91364451,  0.25676379, -0.25009515],\n",
       "        [-0.18139169, -0.75108724, -1.02214912, -0.16599792, -0.1416438 ,\n",
       "          0.00997386, -0.25418795, -0.92058642,  0.794588  ,  0.13933744],\n",
       "        [-2.80071066, -2.81870211, -3.09462889, -2.43767401,  2.46650379,\n",
       "          3.39777339,  3.13641829, -3.27297294,  3.7819417 ,  2.90191829],\n",
       "        [-1.29890875, -1.14616082, -0.67887961, -1.3504597 ,  0.94994235,\n",
       "          1.26633113,  1.56998483, -1.15506378,  1.48855505,  1.02346733]]),\n",
       " array([-0.26894868, -0.12125683, -0.43884331, -0.20345467, -0.10258974,\n",
       "        -0.02810778, -0.05574155, -0.11813734, -0.01692586, -0.06300373]),\n",
       " array([[ 0.24145752, -0.29639285],\n",
       "        [ 0.53750177, -0.74106289],\n",
       "        [ 0.51028752,  0.00981381],\n",
       "        [ 0.53512085, -0.15693986],\n",
       "        [-0.42584637,  0.16037685],\n",
       "        [-0.81362347,  0.14383164],\n",
       "        [-0.2908393 ,  0.28903195],\n",
       "        [ 0.62436643, -0.85205234],\n",
       "        [-1.01194769,  0.5774796 ],\n",
       "        [-0.60063198,  0.17398751]]),\n",
       " array([-0.06013742,  0.06013742])]"
      ]
     },
     "execution_count": 43,
     "metadata": {},
     "output_type": "execute_result"
    }
   ],
   "source": [
    "sess.run(params)"
   ]
  },
  {
   "cell_type": "code",
   "execution_count": 47,
   "metadata": {},
   "outputs": [
    {
     "data": {
      "text/plain": [
       "'./cartpole-h1.ckpt'"
      ]
     },
     "execution_count": 47,
     "metadata": {},
     "output_type": "execute_result"
    }
   ],
   "source": [
    "tf.train.Saver().save(sess, './cartpole-h1.ckpt')"
   ]
  },
  {
   "cell_type": "code",
   "execution_count": 23,
   "metadata": {},
   "outputs": [
    {
     "name": "stdout",
     "output_type": "stream",
     "text": [
      "INFO:tensorflow:Restoring parameters from ./cartpole-h1.ckpt\n"
     ]
    }
   ],
   "source": [
    "tf.train.Saver().restore(sess, './cartpole-h1.ckpt')"
   ]
  },
  {
   "cell_type": "code",
   "execution_count": null,
   "metadata": {},
   "outputs": [],
   "source": []
  }
 ],
 "metadata": {
  "kernelspec": {
   "display_name": "Python 3",
   "language": "python",
   "name": "python3"
  },
  "language_info": {
   "codemirror_mode": {
    "name": "ipython",
    "version": 3
   },
   "file_extension": ".py",
   "mimetype": "text/x-python",
   "name": "python",
   "nbconvert_exporter": "python",
   "pygments_lexer": "ipython3",
   "version": "3.6.8"
  },
  "varInspector": {
   "cols": {
    "lenName": 16,
    "lenType": 16,
    "lenVar": 40
   },
   "kernels_config": {
    "python": {
     "delete_cmd_postfix": "",
     "delete_cmd_prefix": "del ",
     "library": "var_list.py",
     "varRefreshCmd": "print(var_dic_list())"
    },
    "r": {
     "delete_cmd_postfix": ") ",
     "delete_cmd_prefix": "rm(",
     "library": "var_list.r",
     "varRefreshCmd": "cat(var_dic_list()) "
    }
   },
   "types_to_exclude": [
    "module",
    "function",
    "builtin_function_or_method",
    "instance",
    "_Feature"
   ],
   "window_display": false
  }
 },
 "nbformat": 4,
 "nbformat_minor": 2
}
