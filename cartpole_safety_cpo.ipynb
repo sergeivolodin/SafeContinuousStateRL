{
 "cells": [
  {
   "cell_type": "code",
   "execution_count": 1,
   "metadata": {},
   "outputs": [],
   "source": [
    "#from xvfbwrapper import Xvfb\n",
    "\n",
    "#vdisplay = Xvfb()\n",
    "#vdisplay.start()\n",
    "\n",
    "# for environ\n",
    "import os\n",
    "\n",
    "# only using device 0\n",
    "os.environ[\"CUDA_DEVICE_ORDER\"]=\"PCI_BUS_ID\"   # see issue #152\n",
    "#os.environ[\"LIBGL_ALWAYS_SOFTWARE\"]=\"1\"\n",
    "#os.environ[\"CUDA_VISIBLE_DEVICES\"]=\"0\"\n",
    "\n",
    "# importing tensorflow\n",
    "import tensorflow as tf\n",
    "\n",
    "# import scipy\n",
    "import scipy, csv\n",
    "\n",
    "import pandas as pd\n",
    "\n",
    "import tensorflow_probability as tfp\n",
    "\n",
    "import cvxpy as cp"
   ]
  },
  {
   "cell_type": "code",
   "execution_count": 2,
   "metadata": {},
   "outputs": [],
   "source": [
    "import gym\n",
    "from gym import wrappers\n",
    "%matplotlib inline\n",
    "from matplotlib import pyplot as plt\n",
    "import numpy as np\n",
    "from tqdm import tqdm\n",
    "\n",
    "# to display environment data\n",
    "# see https://gist.github.com/thomelane/79e97630ba46c45985a946cae4805885\n",
    "from IPython import display"
   ]
  },
  {
   "cell_type": "code",
   "execution_count": 3,
   "metadata": {
    "deletable": false,
    "editable": false,
    "run_control": {
     "frozen": true
    }
   },
   "outputs": [
    {
     "data": {
      "text/plain": [
       "['',\n",
       " '/localhome/volodin/miniconda3/envs/neuronfailure/lib/python36.zip',\n",
       " '/localhome/volodin/miniconda3/envs/neuronfailure/lib/python3.6',\n",
       " '/localhome/volodin/miniconda3/envs/neuronfailure/lib/python3.6/lib-dynload',\n",
       " '/localhome/volodin/miniconda3/envs/neuronfailure/lib/python3.6/site-packages',\n",
       " '/localhome/volodin/miniconda3/envs/neuronfailure/lib/python3.6/site-packages/IPython/extensions',\n",
       " '/localhome/volodin/.ipython',\n",
       " '/localhome/volodin/local/usr/bin']"
      ]
     },
     "execution_count": 3,
     "metadata": {},
     "output_type": "execute_result"
    }
   ],
   "source": [
    "import sys\n",
    "sys.path += ['/localhome/volodin/local/usr/bin']\n",
    "sys.path"
   ]
  },
  {
   "cell_type": "code",
   "execution_count": 4,
   "metadata": {
    "deletable": false,
    "editable": false,
    "run_control": {
     "frozen": true
    }
   },
   "outputs": [],
   "source": [
    "from xvfbwrapper import Xvfb\n",
    "\n",
    "vdisplay = Xvfb()\n",
    "vdisplay.start()"
   ]
  },
  {
   "cell_type": "code",
   "execution_count": 3,
   "metadata": {},
   "outputs": [],
   "source": [
    "tf.reset_default_graph()\n",
    "# allowing GPU memory growth to allocate only what we need\n",
    "config = tf.ConfigProto()\n",
    "config.gpu_options.per_process_gpu_memory_fraction = 0.5\n",
    "config.gpu_options.allow_growth = True\n",
    "sess = tf.Session(config=config, graph = tf.get_default_graph())"
   ]
  },
  {
   "cell_type": "code",
   "execution_count": 4,
   "metadata": {},
   "outputs": [
    {
     "data": {
      "text/plain": [
       "array([-0.02160965,  0.03382679,  0.02496426, -0.03225128])"
      ]
     },
     "execution_count": 4,
     "metadata": {},
     "output_type": "execute_result"
    }
   ],
   "source": [
    "env = gym.make('CartPole-v0')\n",
    "#env = wrappers.Monitor(env, 'video')\n",
    "env.reset()"
   ]
  },
  {
   "cell_type": "code",
   "execution_count": 5,
   "metadata": {},
   "outputs": [
    {
     "data": {
      "text/plain": [
       "Discrete(2)"
      ]
     },
     "execution_count": 5,
     "metadata": {},
     "output_type": "execute_result"
    }
   ],
   "source": [
    "env.action_space"
   ]
  },
  {
   "cell_type": "code",
   "execution_count": 6,
   "metadata": {},
   "outputs": [],
   "source": [
    "S_DIM = 4\n",
    "ACTIONS = 2"
   ]
  },
  {
   "cell_type": "code",
   "execution_count": 7,
   "metadata": {},
   "outputs": [],
   "source": [
    "# states\n",
    "states = tf.placeholder(tf.float64, shape = (None, S_DIM,))\n",
    "\n",
    "# taken actions\n",
    "actions = tf.placeholder(tf.int64, shape = (None,))\n",
    "\n",
    "# rewards obtained\n",
    "disc_rewards = tf.placeholder(tf.float64, shape = (None,))\n",
    "\n",
    "# costs obtained\n",
    "disc_costs = tf.placeholder(tf.float64, shape = (None,))\n",
    "\n",
    "def fc_layer(x, n, activation = tf.nn.sigmoid):\n",
    "    \"\"\" Fully connected layer for input x and output dim n \"\"\"\n",
    "    return tf.contrib.layers.fully_connected(x, n, activation_fn=activation,\n",
    "    weights_initializer=tf.initializers.lecun_normal(), weights_regularizer=None,\n",
    "    biases_initializer=tf.zeros_initializer(), biases_regularizer=None, trainable=True)"
   ]
  },
  {
   "cell_type": "code",
   "execution_count": 8,
   "metadata": {},
   "outputs": [],
   "source": [
    "# layers\n",
    "with tf.name_scope('layers'):\n",
    "    z = states # state is an input\n",
    "    z = fc_layer(z, 10)\n",
    "    z# = fc_layer(z, 10)\n",
    "    #z = fc_layer(z, 10)\n",
    "    z = fc_layer(z, ACTIONS, activation = None)\n",
    "    output = z"
   ]
  },
  {
   "cell_type": "code",
   "execution_count": 9,
   "metadata": {},
   "outputs": [],
   "source": [
    "# softmax to make probability distribution\n",
    "logits = tf.nn.softmax(output)\n",
    "\n",
    "# predicted labels\n",
    "labels = tf.argmax(logits, axis = 1)"
   ]
  },
  {
   "cell_type": "code",
   "execution_count": 10,
   "metadata": {},
   "outputs": [],
   "source": [
    "params = tf.trainable_variables()"
   ]
  },
  {
   "cell_type": "markdown",
   "metadata": {},
   "source": [
    "Want to optimize the sum of rewards:\n",
    "$$\n",
    "J(\\theta)=\\mathbb{E}_{\\pi(\\theta)}\\sum\\limits_{t=0}^\\infty r_t\n",
    "$$\n",
    "\n",
    "Take the gradient and use log-likelihood trick:\n",
    "$$\n",
    "\\nabla J(\\theta)=\\mathbb{E}_{\\pi}\\sum\\limits_{t=0}^\\infty r_t\\nabla_\\theta \\log \\pi(a_t|s_t)=\\nabla_\\theta\\mathbb{E}_{\\pi}\\sum\\limits_{t=0}^\\infty r_t\\log \\pi(a_t|s_t)\n",
    "$$\n",
    "\n",
    "Therefore the task is equivalent to minimizing a loss of\n",
    "$$\n",
    "\\mathbb{E}_{\\pi}\\sum\\limits_{t=0}^\\infty r_t\\log \\pi(a_t|s_t)\n",
    "$$\n",
    "\n",
    "Which is estimated stochastically using episodes."
   ]
  },
  {
   "cell_type": "markdown",
   "metadata": {},
   "source": [
    "## Safe algo 1: <a href=\"https://arxiv.org/pdf/1705.10528.pdf\">Constrained Policy Optimization</a>\n",
    "\n",
    "Estimating $g=\\nabla_\\theta J_r(\\pi)$ using policy gradients\n",
    "\n",
    "Estimating $b=\\nabla_\\theta J_C(\\pi)$ using policy gradients\n",
    "\n",
    "Estimating $H=\\mathbb{E}\\frac{\\partial^2}{\\partial \\theta^2}D_{KL}(\\theta'|\\theta)$\n",
    "\n",
    "Constants: $\\delta$ step size for trust region, $c=J_C-d$, where $d$ is the maximal per-episode value."
   ]
  },
  {
   "cell_type": "code",
   "execution_count": 11,
   "metadata": {},
   "outputs": [],
   "source": [
    "# learning rate for policy gradients\n",
    "gamma_discount = 0.95"
   ]
  },
  {
   "cell_type": "code",
   "execution_count": 12,
   "metadata": {},
   "outputs": [],
   "source": [
    "def discount(rewards):\n",
    "    \"\"\" Discount and do cumulative sum \"\"\"\n",
    "    sum_so_far = 0.0\n",
    "    rewards_so_far = []\n",
    "    for r in rewards[::-1]:\n",
    "        sum_so_far = sum_so_far * gamma_discount + r\n",
    "        rewards_so_far.append(sum_so_far)\n",
    "    return rewards_so_far[::-1]"
   ]
  },
  {
   "cell_type": "code",
   "execution_count": 13,
   "metadata": {},
   "outputs": [
    {
     "data": {
      "text/plain": [
       "True"
      ]
     },
     "execution_count": 13,
     "metadata": {},
     "output_type": "execute_result"
    }
   ],
   "source": [
    "np.allclose(discount([1,2,3]), [3 * gamma_discount ** 2 + 2 * gamma_discount + 1, 3 * gamma_discount + 2, 3])"
   ]
  },
  {
   "cell_type": "code",
   "execution_count": 14,
   "metadata": {},
   "outputs": [],
   "source": [
    "def dz_dw_flatten(z, params):\n",
    "    \"\"\" Calculate dz/dparams and flatten the result \"\"\"\n",
    "    return tf.concat([tf.reshape(x, shape = (-1,)) for x in tf.gradients(z, params)], axis = 0)\n",
    "\n",
    "def iterate_flatten(tensor):\n",
    "    \"\"\" Iterate over flattened items of a tensor \"\"\"\n",
    "    if type(tensor) == list:\n",
    "        for t in tensor:\n",
    "            for v in iterate_flatten(t):\n",
    "                yield v\n",
    "    elif len(tensor.shape) == 0:\n",
    "        yield tensor\n",
    "    else:\n",
    "        for idx in range(tensor.shape[0]):\n",
    "            for v in iterate_flatten(tensor[idx]):\n",
    "                yield v\n",
    "                \n",
    "def tf_hessian(var, params):\n",
    "    # gradients of the loss w.r.t. params\n",
    "    grads = tf.gradients(var, params)\n",
    "    grad_components = list(iterate_flatten(grads))\n",
    "    hessian = [dz_dw_flatten(t, params) for t in tqdm(grad_components)]\n",
    "    return hessian"
   ]
  },
  {
   "cell_type": "code",
   "execution_count": 15,
   "metadata": {},
   "outputs": [
    {
     "name": "stderr",
     "output_type": "stream",
     "text": [
      "/localhome/volodin/miniconda3/envs/neuronfailure/lib/python3.6/site-packages/tensorflow/python/ops/gradients_impl.py:112: UserWarning: Converting sparse IndexedSlices to a dense Tensor of unknown shape. This may consume a large amount of memory.\n",
      "  \"Converting sparse IndexedSlices to a dense Tensor of unknown shape. \"\n",
      "/localhome/volodin/miniconda3/envs/neuronfailure/lib/python3.6/site-packages/tensorflow/python/ops/gradients_impl.py:112: UserWarning: Converting sparse IndexedSlices to a dense Tensor of unknown shape. This may consume a large amount of memory.\n",
      "  \"Converting sparse IndexedSlices to a dense Tensor of unknown shape. \"\n",
      "100%|██████████| 72/72 [00:11<00:00,  5.03it/s]\n"
     ]
    }
   ],
   "source": [
    "# one-hot encoded actions\n",
    "a_one_hot = tf.one_hot(actions, ACTIONS)\n",
    "\n",
    "# taken logits\n",
    "#logits_taken = tf.gather(logits, actions, axis = 1)\n",
    "logits_taken = tf.boolean_mask(logits, a_one_hot)\n",
    "\n",
    "# logarithm\n",
    "log_logits = tf.log(logits_taken)\n",
    "\n",
    "# calculated loss\n",
    "loss_r = -tf.reduce_sum(tf.multiply(log_logits, disc_rewards))\n",
    "loss_c = -tf.reduce_sum(tf.multiply(log_logits, disc_costs))\n",
    "\n",
    "# KL(pi(a)||pi(a) fixed)\n",
    "kl_div_var_fixed = tf.reduce_mean(tfp.distributions.kl_divergence(\n",
    "    tf.distributions.Categorical(probs = logits),\n",
    "    tf.distributions.Categorical(probs = tf.stop_gradient(logits))))\n",
    "    #tf.distributions.Categorical(probs = logits))) #!!! not using this because want variable first parameter and fixed second\n",
    "\n",
    "# policy gradient for reward\n",
    "g = list(iterate_flatten(tf.gradients(-loss_r, params)))\n",
    "\n",
    "# policy gradient for constraint\n",
    "b = list(iterate_flatten(tf.gradients(-loss_c, params)))\n",
    "\n",
    "# hessian of KL divergence (parameter H)\n",
    "H = tf_hessian(kl_div_var_fixed, params)\n",
    "\n",
    "# flattened parameters\n",
    "theta = list(iterate_flatten(params))"
   ]
  },
  {
   "cell_type": "code",
   "execution_count": 16,
   "metadata": {},
   "outputs": [],
   "source": [
    "def sample_action(observation):\n",
    "    \"\"\" Sample an action from the policy \"\"\"\n",
    "    \n",
    "    p = sess.run(logits, feed_dict = {states: [observation]})[0]\n",
    "    return np.random.choice(range(2), p = p)"
   ]
  },
  {
   "cell_type": "code",
   "execution_count": 17,
   "metadata": {},
   "outputs": [],
   "source": [
    "observations = []"
   ]
  },
  {
   "cell_type": "code",
   "execution_count": 18,
   "metadata": {},
   "outputs": [],
   "source": [
    "def cost(obs):\n",
    "    \"\"\" Calculate scalar cost of one observation \"\"\"\n",
    "    assert isinstance(obs, np.ndarray) and obs.shape == (4,), \"Input must be an np-array [x xdot phi phidot]\"\n",
    "    \n",
    "    # parsing input\n",
    "    x, x_dot, phi, phi_dot = obs\n",
    "    \n",
    "    X_MAX = 1.0\n",
    "    X_DOT_MAX = 0.5\n",
    "    PHI_MAX = 0.1\n",
    "    PHI_DOT_MAX = 0.5\n",
    "    \n",
    "    if x < 0 or phi < 0:\n",
    "        return 1\n",
    "    \n",
    "    #if np.any(np.abs([x, x_dot, phi, phi_dot]) > [X_MAX, X_DOT_MAX, PHI_MAX, PHI_DOT_MAX]):\n",
    "    #    return 1\n",
    "    \n",
    "    # in all other cases no cost\n",
    "    return 0"
   ]
  },
  {
   "cell_type": "code",
   "execution_count": 19,
   "metadata": {},
   "outputs": [],
   "source": [
    "def get_rollout():\n",
    "    \"\"\" Obtain rollout using policy \"\"\"\n",
    "    done = False\n",
    "    observation = env.reset()\n",
    "    sarc = []\n",
    "    while not done:\n",
    "        act = sample_action(observation)\n",
    "        observation_, reward, done, info = env.step(act) # take a random action\n",
    "        cost_ = cost(observation_)\n",
    "        global observations\n",
    "        observations += [observation_]\n",
    "        sarc.append((observation, act, reward, cost_))\n",
    "        observation = observation_\n",
    "    env.close()\n",
    "    return sarc"
   ]
  },
  {
   "cell_type": "code",
   "execution_count": 20,
   "metadata": {},
   "outputs": [],
   "source": [
    "class OwnGradientDescent():\n",
    "    def __init__(self, gamma = 0.5, theta = 0.9):\n",
    "        # gamma (learning rate)\n",
    "        self.gamma = tf.Variable(gamma, dtype = tf.float32)\n",
    "        self.theta = theta\n",
    "        \n",
    "    def minimize(self, loss, params):\n",
    "        \"\"\" Minimize some loss \"\"\"\n",
    "        def decrement_weights(W, gamma, grads):\n",
    "            \"\"\" w = w - how_much \"\"\"\n",
    "            ops = [w.assign(tf.subtract(w, tf.multiply(gamma, grad))) for w, grad in zip(W, grads)]\n",
    "            return tf.group(ops)\n",
    "        \n",
    "        # gradients of the loss w.r.t. params\n",
    "        grads = tf.gradients(loss, params)\n",
    "        \n",
    "        # perform gradient descent step\n",
    "        train_op = decrement_weights(params, self.gamma, grads)\n",
    "        \n",
    "        # updating gamma\n",
    "        upd_op = self.gamma.assign(tf.multiply(self.gamma, self.theta))\n",
    "        \n",
    "        return tf.group(train_op, upd_op)"
   ]
  },
  {
   "cell_type": "code",
   "execution_count": 26,
   "metadata": {},
   "outputs": [
    {
     "name": "stderr",
     "output_type": "stream",
     "text": [
      "/localhome/volodin/miniconda3/envs/neuronfailure/lib/python3.6/site-packages/tensorflow/python/ops/gradients_impl.py:112: UserWarning: Converting sparse IndexedSlices to a dense Tensor of unknown shape. This may consume a large amount of memory.\n",
      "  \"Converting sparse IndexedSlices to a dense Tensor of unknown shape. \"\n"
     ]
    }
   ],
   "source": [
    "# one learning iteration\n",
    "#step = tf.train.AdamOptimizer(0.1).minimize(loss_r)\n",
    "step = tf.train.GradientDescentOptimizer(0.001).minimize(loss_r)"
   ]
  },
  {
   "cell_type": "code",
   "execution_count": 27,
   "metadata": {},
   "outputs": [],
   "source": [
    "def train_step():\n",
    "    # obtaining rollout data\n",
    "    S, A, R, C = list(zip(*get_rollout()))\n",
    "    sess.run(step, feed_dict = {states: S, actions: A, disc_rewards: discount(R), disc_costs: discount(C)})\n",
    "    return np.sum(R), np.sum(C)"
   ]
  },
  {
   "cell_type": "code",
   "execution_count": 28,
   "metadata": {},
   "outputs": [],
   "source": [
    "init = tf.global_variables_initializer()\n",
    "sess.run(init)\n",
    "Rs = []\n",
    "Cs = []"
   ]
  },
  {
   "cell_type": "code",
   "execution_count": 29,
   "metadata": {},
   "outputs": [
    {
     "name": "stderr",
     "output_type": "stream",
     "text": [
      "100%|██████████| 500/500 [00:03<00:00, 154.54it/s]\n"
     ]
    }
   ],
   "source": [
    "for i in tqdm(range(500)):\n",
    "    r, c = train_step()\n",
    "    Rs.append(r)\n",
    "    Cs.append(c)"
   ]
  },
  {
   "cell_type": "code",
   "execution_count": 30,
   "metadata": {},
   "outputs": [
    {
     "data": {
      "image/png": "[encoded data removed]",
      "text/plain": [
       "<Figure size 432x288 with 1 Axes>"
      ]
     },
     "metadata": {
      "needs_background": "light"
     },
     "output_type": "display_data"
    }
   ],
   "source": [
    "plt.plot(Rs, label = 'Reward')\n",
    "plt.plot(Cs, label = 'Cost')\n",
    "plt.legend()\n",
    "plt.show()"
   ]
  },
  {
   "cell_type": "code",
   "execution_count": null,
   "metadata": {},
   "outputs": [],
   "source": []
  },
  {
   "cell_type": "code",
   "execution_count": 31,
   "metadata": {},
   "outputs": [
    {
     "data": {
      "text/plain": [
       "14341"
      ]
     },
     "execution_count": 31,
     "metadata": {},
     "output_type": "execute_result"
    }
   ],
   "source": [
    "len(observations)"
   ]
  },
  {
   "cell_type": "code",
   "execution_count": 44,
   "metadata": {},
   "outputs": [],
   "source": [
    "### TODO: reimplement w/o inner optimization, otherwise too slow.\n",
    "def solve_CPO(S, A, R, C, delta = 0.1, d = 10, H_lambda = 0.01):\n",
    "    # CPO hyperparameters\n",
    "\n",
    "    # D_KL maximal distance\n",
    "    #delta\n",
    "\n",
    "    # maximal constraint return\n",
    "    #d\n",
    "\n",
    "    # matrix conditioner\n",
    "    #H_lambda\n",
    "    \n",
    "    # calculating H, g, b, J from obtained data\n",
    "    J_c_ = discount(C)[0]\n",
    "    H_, b_, g_ = sess.run([H, b, g], feed_dict = {states: S, actions: A,\n",
    "                                                  disc_rewards: discount(R), disc_costs: discount(C)})\n",
    "    \n",
    "    #plt.hist(np.abs(np.linalg.eig(H_)[0]))\n",
    "    #plt.show()\n",
    "    \n",
    "    # converting to matrix form\n",
    "    g_ = np.array([g_]).T\n",
    "    b_ = np.array([b_]).T\n",
    "    H_ = np.array(H_) + np.eye(len(H_)) * H_lambda\n",
    "\n",
    "    # constraint dissatisfaction\n",
    "    c = J_c_ - d\n",
    "\n",
    "    # current parameters\n",
    "    theta_k = list(iterate_flatten(sess.run(params)))\n",
    "    \n",
    "    # https://www.cvxpy.org/\n",
    "\n",
    "    # Construct the problem.\n",
    "    theta = cp.Variable(72)\n",
    "    objective = cp.Maximize(g_.T @ (theta - theta_k))\n",
    "    constraints = [c + b_.T @ (theta - theta_k) <= 0, cp.quad_form(theta - theta_k, H_) <= 2 * delta]\n",
    "    prob = cp.Problem(objective, constraints)\n",
    "\n",
    "    # The optimal objective value is returned by `prob.solve()`.\n",
    "    result = prob.solve(gp=False)\n",
    "    # The optimal value for x is stored in `x.value`.\n",
    "    #print(theta.value)\n",
    "    # The optimal Lagrange multiplier for a constraint is stored in\n",
    "    # `constraint.dual_value`.\n",
    "    #print(constraints[0].dual_value, constraints[1].dual_value)\n",
    "    \n",
    "    if theta.value is None:\n",
    "        print('Optimization failed: current policy nonsafe. Falling back to a safe solution...')\n",
    "        \n",
    "        # θ∗ = θk −sqrt(2δ/b^T H−1b)H^-1b. (eq 14)\n",
    "        Hinv = np.linalg.inv(H_)\n",
    "        theta_safe = theta_k - ((2 * delta / (b_.T @ Hinv @ b_)) ** 0.5 * Hinv @ b_).reshape(-1)\n",
    "        load_params(params, theta_safe)\n",
    "        return\n",
    "    \n",
    "    load_params(params, theta.value)"
   ]
  },
  {
   "cell_type": "code",
   "execution_count": 45,
   "metadata": {},
   "outputs": [],
   "source": [
    "def load_params(params, vector):\n",
    "    \"\"\" Params: list of tensors, vector: array with new values (shape as flattened params) \"\"\"\n",
    "    # index to start\n",
    "    idx = 0\n",
    "    \n",
    "    # array with assign operators\n",
    "    assigns = []\n",
    "    \n",
    "    # loop over parameters\n",
    "    for p in params:\n",
    "        # length of current parameter (flattened)\n",
    "        curr_len = np.prod(p.shape)\n",
    "        \n",
    "        # new values for p\n",
    "        p_new_value = vector[idx:idx+curr_len]\n",
    "        \n",
    "        # reshaping the values\n",
    "        assigns.append(tf.assign(p, p_new_value.reshape(p.shape)))\n",
    "        \n",
    "        # incrementing start ID\n",
    "        idx += curr_len\n",
    "        \n",
    "    # all assigns in one operation\n",
    "    assigns = tf.group(assigns)\n",
    "    \n",
    "    # running the operation\n",
    "    sess.run(assigns)"
   ]
  },
  {
   "cell_type": "code",
   "execution_count": 51,
   "metadata": {},
   "outputs": [
    {
     "name": "stderr",
     "output_type": "stream",
     "text": [
      "100%|██████████| 10/10 [00:08<00:00,  1.17it/s]\n"
     ]
    }
   ],
   "source": [
    "Rs = []\n",
    "Cs = []\n",
    "for _ in tqdm(range(10)):\n",
    "    S, A, R, C = zip(*get_rollout())\n",
    "    Cs.append(np.sum(C))\n",
    "    Rs.append(np.sum(R))\n",
    "    #print(np.sum(R), np.sum(C))\n",
    "    solve_CPO(S, A, R, C, delta = 0.001, d = 10, H_lambda = 0.0001)"
   ]
  },
  {
   "cell_type": "code",
   "execution_count": null,
   "metadata": {},
   "outputs": [],
   "source": []
  },
  {
   "cell_type": "code",
   "execution_count": 52,
   "metadata": {},
   "outputs": [
    {
     "data": {
      "image/png": "[encoded data removed]",
      "text/plain": [
       "<Figure size 432x288 with 1 Axes>"
      ]
     },
     "metadata": {
      "needs_background": "light"
     },
     "output_type": "display_data"
    }
   ],
   "source": [
    "plt.plot(Rs, label = 'Reward')\n",
    "plt.plot(Cs, label = 'Cost')\n",
    "plt.legend()\n",
    "plt.show()"
   ]
  },
  {
   "cell_type": "code",
   "execution_count": null,
   "metadata": {},
   "outputs": [],
   "source": []
  },
  {
   "cell_type": "code",
   "execution_count": 88,
   "metadata": {},
   "outputs": [],
   "source": [
    "env = env.unwrapped"
   ]
  },
  {
   "cell_type": "code",
   "execution_count": null,
   "metadata": {},
   "outputs": [],
   "source": [
    "env = gym.wrappers.Monitor(env, './video')\n",
    "get_rollout()"
   ]
  },
  {
   "cell_type": "code",
   "execution_count": 47,
   "metadata": {},
   "outputs": [
    {
     "data": {
      "text/plain": [
       "'./cartpole-h1.ckpt'"
      ]
     },
     "execution_count": 47,
     "metadata": {},
     "output_type": "execute_result"
    }
   ],
   "source": [
    "tf.train.Saver().save(sess, './cartpole-h1.ckpt')"
   ]
  },
  {
   "cell_type": "code",
   "execution_count": 23,
   "metadata": {},
   "outputs": [
    {
     "name": "stdout",
     "output_type": "stream",
     "text": [
      "INFO:tensorflow:Restoring parameters from ./cartpole-h1.ckpt\n"
     ]
    }
   ],
   "source": [
    "tf.train.Saver().restore(sess, './cartpole-h1.ckpt')"
   ]
  },
  {
   "cell_type": "code",
   "execution_count": null,
   "metadata": {},
   "outputs": [],
   "source": []
  }
 ],
 "metadata": {
  "kernelspec": {
   "display_name": "Python 3",
   "language": "python",
   "name": "python3"
  },
  "varInspector": {
   "cols": {
    "lenName": 16,
    "lenType": 16,
    "lenVar": 40
   },
   "kernels_config": {
    "python": {
     "delete_cmd_postfix": "",
     "delete_cmd_prefix": "del ",
     "library": "var_list.py",
     "varRefreshCmd": "print(var_dic_list())"
    },
    "r": {
     "delete_cmd_postfix": ") ",
     "delete_cmd_prefix": "rm(",
     "library": "var_list.r",
     "varRefreshCmd": "cat(var_dic_list()) "
    }
   },
   "types_to_exclude": [
    "module",
    "function",
    "builtin_function_or_method",
    "instance",
    "_Feature"
   ],
   "window_display": false
  }
 },
 "nbformat": 4,
 "nbformat_minor": 2
}
