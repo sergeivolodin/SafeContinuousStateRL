{
 "cells": [
  {
   "cell_type": "code",
   "execution_count": 1,
   "metadata": {},
   "outputs": [],
   "source": [
    "#from xvfbwrapper import Xvfb\n",
    "\n",
    "#vdisplay = Xvfb()\n",
    "#vdisplay.start()\n",
    "\n",
    "# for environ\n",
    "import os\n",
    "\n",
    "# only using device 0\n",
    "os.environ[\"CUDA_DEVICE_ORDER\"]=\"PCI_BUS_ID\"   # see issue #152\n",
    "#os.environ[\"LIBGL_ALWAYS_SOFTWARE\"]=\"1\"\n",
    "#os.environ[\"CUDA_VISIBLE_DEVICES\"]=\"0\"\n",
    "\n",
    "# importing tensorflow\n",
    "import tensorflow as tf\n",
    "\n",
    "# import scipy\n",
    "import scipy, csv\n",
    "\n",
    "import pandas as pd\n",
    "\n",
    "import tensorflow_probability as tfp\n",
    "\n",
    "import cvxpy as cp"
   ]
  },
  {
   "cell_type": "code",
   "execution_count": 2,
   "metadata": {},
   "outputs": [],
   "source": [
    "import gym\n",
    "from gym import wrappers\n",
    "%matplotlib inline\n",
    "from matplotlib import pyplot as plt\n",
    "import numpy as np\n",
    "from tqdm import tqdm\n",
    "\n",
    "# to display environment data\n",
    "# see https://gist.github.com/thomelane/79e97630ba46c45985a946cae4805885\n",
    "from IPython import display"
   ]
  },
  {
   "cell_type": "code",
   "execution_count": 3,
   "metadata": {
    "deletable": false,
    "editable": false,
    "run_control": {
     "frozen": true
    }
   },
   "outputs": [
    {
     "data": {
      "text/plain": [
       "['',\n",
       " '/localhome/volodin/miniconda3/envs/neuronfailure/lib/python36.zip',\n",
       " '/localhome/volodin/miniconda3/envs/neuronfailure/lib/python3.6',\n",
       " '/localhome/volodin/miniconda3/envs/neuronfailure/lib/python3.6/lib-dynload',\n",
       " '/localhome/volodin/miniconda3/envs/neuronfailure/lib/python3.6/site-packages',\n",
       " '/localhome/volodin/miniconda3/envs/neuronfailure/lib/python3.6/site-packages/IPython/extensions',\n",
       " '/localhome/volodin/.ipython',\n",
       " '/localhome/volodin/local/usr/bin']"
      ]
     },
     "execution_count": 3,
     "metadata": {},
     "output_type": "execute_result"
    }
   ],
   "source": [
    "import sys\n",
    "sys.path += ['/localhome/volodin/local/usr/bin']\n",
    "sys.path"
   ]
  },
  {
   "cell_type": "code",
   "execution_count": 4,
   "metadata": {
    "deletable": false,
    "editable": false,
    "run_control": {
     "frozen": true
    }
   },
   "outputs": [],
   "source": [
    "from xvfbwrapper import Xvfb\n",
    "\n",
    "vdisplay = Xvfb()\n",
    "vdisplay.start()"
   ]
  },
  {
   "cell_type": "code",
   "execution_count": 27,
   "metadata": {},
   "outputs": [],
   "source": [
    "tf.reset_default_graph()\n",
    "# allowing GPU memory growth to allocate only what we need\n",
    "config = tf.ConfigProto()\n",
    "config.gpu_options.per_process_gpu_memory_fraction = 0.5\n",
    "config.gpu_options.allow_growth = True\n",
    "sess = tf.Session(config=config, graph = tf.get_default_graph())"
   ]
  },
  {
   "cell_type": "code",
   "execution_count": 28,
   "metadata": {},
   "outputs": [
    {
     "data": {
      "text/plain": [
       "array([ 0.00215605, -0.02906926,  0.00933441,  0.0360068 ])"
      ]
     },
     "execution_count": 28,
     "metadata": {},
     "output_type": "execute_result"
    }
   ],
   "source": [
    "env = gym.make('CartPole-v0')\n",
    "#env = wrappers.Monitor(env, 'video')\n",
    "env.reset()"
   ]
  },
  {
   "cell_type": "code",
   "execution_count": 29,
   "metadata": {},
   "outputs": [
    {
     "data": {
      "text/plain": [
       "Discrete(2)"
      ]
     },
     "execution_count": 29,
     "metadata": {},
     "output_type": "execute_result"
    }
   ],
   "source": [
    "env.action_space"
   ]
  },
  {
   "cell_type": "code",
   "execution_count": 30,
   "metadata": {},
   "outputs": [],
   "source": [
    "S_DIM = 4\n",
    "ACTIONS = 2"
   ]
  },
  {
   "cell_type": "code",
   "execution_count": 31,
   "metadata": {},
   "outputs": [],
   "source": [
    "# states\n",
    "states = tf.placeholder(tf.float64, shape = (None, S_DIM,))\n",
    "\n",
    "# taken actions\n",
    "actions = tf.placeholder(tf.int64, shape = (None,))\n",
    "\n",
    "# rewards obtained\n",
    "disc_rewards = tf.placeholder(tf.float64, shape = (None,))\n",
    "\n",
    "# costs obtained\n",
    "disc_costs = tf.placeholder(tf.float64, shape = (None,))\n",
    "\n",
    "def fc_layer(x, n, activation = tf.nn.sigmoid):\n",
    "    \"\"\" Fully connected layer for input x and output dim n \"\"\"\n",
    "    return tf.contrib.layers.fully_connected(x, n, activation_fn=activation,\n",
    "    weights_initializer=tf.initializers.lecun_normal(), weights_regularizer=None,\n",
    "    biases_initializer=tf.zeros_initializer(), biases_regularizer=None, trainable=True)"
   ]
  },
  {
   "cell_type": "code",
   "execution_count": 32,
   "metadata": {},
   "outputs": [],
   "source": [
    "# layers\n",
    "with tf.name_scope('layers'):\n",
    "    z = states # state is an input\n",
    "    #z = fc_layer(z, 5)\n",
    "    #z = fc_layer(z, 10)\n",
    "    #z = fc_layer(z, 10)\n",
    "    z = fc_layer(z, ACTIONS, activation = None)\n",
    "    output = z"
   ]
  },
  {
   "cell_type": "code",
   "execution_count": 33,
   "metadata": {},
   "outputs": [],
   "source": [
    "# softmax to make probability distribution\n",
    "logits = tf.nn.softmax(output)\n",
    "\n",
    "# predicted labels\n",
    "labels = tf.argmax(logits, axis = 1)"
   ]
  },
  {
   "cell_type": "code",
   "execution_count": 34,
   "metadata": {},
   "outputs": [],
   "source": [
    "params = tf.trainable_variables()"
   ]
  },
  {
   "cell_type": "markdown",
   "metadata": {},
   "source": [
    "Want to optimize the sum of rewards:\n",
    "$$\n",
    "J(\\theta)=\\mathbb{E}_{\\pi(\\theta)}\\sum\\limits_{t=0}^\\infty r_t\n",
    "$$\n",
    "\n",
    "Take the gradient and use log-likelihood trick:\n",
    "$$\n",
    "\\nabla J(\\theta)=\\mathbb{E}_{\\pi}\\sum\\limits_{t=0}^\\infty r_t\\nabla_\\theta \\log \\pi(a_t|s_t)=\\nabla_\\theta\\mathbb{E}_{\\pi}\\sum\\limits_{t=0}^\\infty r_t\\log \\pi(a_t|s_t)\n",
    "$$\n",
    "\n",
    "Therefore the task is equivalent to minimizing a loss of\n",
    "$$\n",
    "\\mathbb{E}_{\\pi}\\sum\\limits_{t=0}^\\infty r_t\\log \\pi(a_t|s_t)\n",
    "$$\n",
    "\n",
    "Which is estimated stochastically using episodes."
   ]
  },
  {
   "cell_type": "markdown",
   "metadata": {},
   "source": [
    "## Safe algo 1: <a href=\"https://arxiv.org/pdf/1705.10528.pdf\">Constrained Policy Optimization</a>\n",
    "\n",
    "Estimating $g=\\nabla_\\theta J_r(\\pi)$ using policy gradients\n",
    "\n",
    "Estimating $b=\\nabla_\\theta J_C(\\pi)$ using policy gradients\n",
    "\n",
    "Estimating $H=\\mathbb{E}\\frac{\\partial^2}{\\partial \\theta^2}D_{KL}(\\theta'|\\theta)$\n",
    "\n",
    "Constants: $\\delta$ step size for trust region, $c=J_C-d$, where $d$ is the maximal per-episode value."
   ]
  },
  {
   "cell_type": "code",
   "execution_count": 35,
   "metadata": {},
   "outputs": [
    {
     "data": {
      "text/plain": [
       "[<tf.Variable 'fully_connected/weights:0' shape=(4, 2) dtype=float64_ref>,\n",
       " <tf.Variable 'fully_connected/biases:0' shape=(2,) dtype=float64_ref>]"
      ]
     },
     "execution_count": 35,
     "metadata": {},
     "output_type": "execute_result"
    }
   ],
   "source": [
    "params"
   ]
  },
  {
   "cell_type": "code",
   "execution_count": 36,
   "metadata": {},
   "outputs": [],
   "source": [
    "# learning rate for policy gradients\n",
    "gamma_discount = 0.95"
   ]
  },
  {
   "cell_type": "code",
   "execution_count": 37,
   "metadata": {},
   "outputs": [],
   "source": [
    "def discount(rewards):\n",
    "    \"\"\" Discount and do cumulative sum \"\"\"\n",
    "    sum_so_far = 0.0\n",
    "    rewards_so_far = []\n",
    "    for r in rewards[::-1]:\n",
    "        sum_so_far = sum_so_far * gamma_discount + r\n",
    "        rewards_so_far.append(sum_so_far)\n",
    "    return rewards_so_far[::-1]"
   ]
  },
  {
   "cell_type": "code",
   "execution_count": 38,
   "metadata": {},
   "outputs": [
    {
     "data": {
      "text/plain": [
       "True"
      ]
     },
     "execution_count": 38,
     "metadata": {},
     "output_type": "execute_result"
    }
   ],
   "source": [
    "np.allclose(discount([1,2,3]), [3 * gamma_discount ** 2 + 2 * gamma_discount + 1, 3 * gamma_discount + 2, 3])"
   ]
  },
  {
   "cell_type": "code",
   "execution_count": 39,
   "metadata": {},
   "outputs": [],
   "source": [
    "def dz_dw_flatten(z, params):\n",
    "    \"\"\" Calculate dz/dparams and flatten the result \"\"\"\n",
    "    return tf.concat([tf.reshape(x, shape = (-1,)) for x in tf.gradients(z, params)], axis = 0)\n",
    "\n",
    "def iterate_flatten(tensor):\n",
    "    \"\"\" Iterate over flattened items of a tensor \"\"\"\n",
    "    if type(tensor) == list:\n",
    "        for t in tensor:\n",
    "            for v in iterate_flatten(t):\n",
    "                yield v\n",
    "    elif len(tensor.shape) == 0:\n",
    "        yield tensor\n",
    "    else:\n",
    "        for idx in range(tensor.shape[0]):\n",
    "            for v in iterate_flatten(tensor[idx]):\n",
    "                yield v\n",
    "                \n",
    "def tf_hessian(var, params):\n",
    "    # gradients of the loss w.r.t. params\n",
    "    grads = tf.gradients(var, params)\n",
    "    grad_components = list(iterate_flatten(grads))\n",
    "    hessian = [dz_dw_flatten(t, params) for t in tqdm(grad_components)]\n",
    "    return hessian"
   ]
  },
  {
   "cell_type": "code",
   "execution_count": 40,
   "metadata": {},
   "outputs": [
    {
     "name": "stderr",
     "output_type": "stream",
     "text": [
      "/localhome/volodin/miniconda3/envs/neuronfailure/lib/python3.6/site-packages/tensorflow/python/ops/gradients_impl.py:112: UserWarning: Converting sparse IndexedSlices to a dense Tensor of unknown shape. This may consume a large amount of memory.\n",
      "  \"Converting sparse IndexedSlices to a dense Tensor of unknown shape. \"\n",
      "/localhome/volodin/miniconda3/envs/neuronfailure/lib/python3.6/site-packages/tensorflow/python/ops/gradients_impl.py:112: UserWarning: Converting sparse IndexedSlices to a dense Tensor of unknown shape. This may consume a large amount of memory.\n",
      "  \"Converting sparse IndexedSlices to a dense Tensor of unknown shape. \"\n",
      "100%|██████████| 10/10 [00:01<00:00,  7.98it/s]\n"
     ]
    }
   ],
   "source": [
    "# one-hot encoded actions\n",
    "a_one_hot = tf.one_hot(actions, ACTIONS)\n",
    "\n",
    "# taken logits\n",
    "#logits_taken = tf.gather(logits, actions, axis = 1)\n",
    "logits_taken = tf.boolean_mask(logits, a_one_hot)\n",
    "\n",
    "# logarithm\n",
    "log_logits = tf.log(logits_taken)\n",
    "\n",
    "# calculated loss\n",
    "loss_r = -tf.reduce_sum(tf.multiply(log_logits, disc_rewards))\n",
    "loss_c = -tf.reduce_sum(tf.multiply(log_logits, disc_costs))\n",
    "\n",
    "# KL(pi(a)||pi(a) fixed)\n",
    "kl_div_var_fixed = tf.reduce_mean(tfp.distributions.kl_divergence(\n",
    "    tf.distributions.Categorical(probs = logits),\n",
    "    tf.distributions.Categorical(probs = tf.stop_gradient(logits))))\n",
    "    #tf.distributions.Categorical(probs = logits))) #!!! not using this because want variable first parameter and fixed second\n",
    "\n",
    "# policy gradient for reward\n",
    "g = list(iterate_flatten(tf.gradients(-loss_r, params)))\n",
    "\n",
    "# policy gradient for constraint\n",
    "b = list(iterate_flatten(tf.gradients(-loss_c, params)))\n",
    "\n",
    "# hessian of KL divergence (parameter H)\n",
    "H = tf_hessian(kl_div_var_fixed, params)\n",
    "\n",
    "# flattened parameters\n",
    "theta = list(iterate_flatten(params))"
   ]
  },
  {
   "cell_type": "code",
   "execution_count": 41,
   "metadata": {},
   "outputs": [],
   "source": [
    "def sample_action(observation):\n",
    "    \"\"\" Sample an action from the policy \"\"\"\n",
    "    \n",
    "    p = sess.run(logits, feed_dict = {states: [observation]})[0]\n",
    "    return np.random.choice(range(2), p = p)"
   ]
  },
  {
   "cell_type": "code",
   "execution_count": 42,
   "metadata": {},
   "outputs": [],
   "source": [
    "observations = []"
   ]
  },
  {
   "cell_type": "code",
   "execution_count": 43,
   "metadata": {},
   "outputs": [],
   "source": [
    "def cost(obs):\n",
    "    \"\"\" Calculate scalar cost of one observation \"\"\"\n",
    "    assert isinstance(obs, np.ndarray) and obs.shape == (4,), \"Input must be an np-array [x xdot phi phidot]\"\n",
    "    \n",
    "    # parsing input\n",
    "    x, x_dot, phi, phi_dot = obs\n",
    "    \n",
    "    X_MAX = 1.0\n",
    "    X_DOT_MAX = 0.5\n",
    "    PHI_MAX = 0.1\n",
    "    PHI_DOT_MAX = 0.5\n",
    "    \n",
    "    if x < 0 or phi < 0:\n",
    "        return 1\n",
    "    \n",
    "    #if np.any(np.abs([x, x_dot, phi, phi_dot]) > [X_MAX, X_DOT_MAX, PHI_MAX, PHI_DOT_MAX]):\n",
    "    #    return 1\n",
    "    \n",
    "    # in all other cases no cost\n",
    "    return 0"
   ]
  },
  {
   "cell_type": "code",
   "execution_count": 44,
   "metadata": {},
   "outputs": [],
   "source": [
    "def get_rollout():\n",
    "    \"\"\" Obtain rollout using policy \"\"\"\n",
    "    done = False\n",
    "    observation = env.reset()\n",
    "    sarc = []\n",
    "    while not done:\n",
    "        act = sample_action(observation)\n",
    "        observation_, reward, done, info = env.step(act) # take a random action\n",
    "        cost_ = cost(observation_)\n",
    "        global observations\n",
    "        observations += [observation_]\n",
    "        sarc.append((observation, act, reward, cost_))\n",
    "        observation = observation_\n",
    "    env.close()\n",
    "    return sarc"
   ]
  },
  {
   "cell_type": "code",
   "execution_count": 45,
   "metadata": {},
   "outputs": [],
   "source": [
    "class OwnGradientDescent():\n",
    "    def __init__(self, gamma = 0.5, theta = 0.9):\n",
    "        # gamma (learning rate)\n",
    "        self.gamma = tf.Variable(gamma, dtype = tf.float32)\n",
    "        self.theta = theta\n",
    "        \n",
    "    def minimize(self, loss, params):\n",
    "        \"\"\" Minimize some loss \"\"\"\n",
    "        def decrement_weights(W, gamma, grads):\n",
    "            \"\"\" w = w - how_much \"\"\"\n",
    "            ops = [w.assign(tf.subtract(w, tf.multiply(gamma, grad))) for w, grad in zip(W, grads)]\n",
    "            return tf.group(ops)\n",
    "        \n",
    "        # gradients of the loss w.r.t. params\n",
    "        grads = tf.gradients(loss, params)\n",
    "        \n",
    "        # perform gradient descent step\n",
    "        train_op = decrement_weights(params, self.gamma, grads)\n",
    "        \n",
    "        # updating gamma\n",
    "        upd_op = self.gamma.assign(tf.multiply(self.gamma, self.theta))\n",
    "        \n",
    "        return tf.group(train_op, upd_op)"
   ]
  },
  {
   "cell_type": "code",
   "execution_count": 73,
   "metadata": {},
   "outputs": [
    {
     "name": "stderr",
     "output_type": "stream",
     "text": [
      "/localhome/volodin/miniconda3/envs/neuronfailure/lib/python3.6/site-packages/tensorflow/python/ops/gradients_impl.py:112: UserWarning: Converting sparse IndexedSlices to a dense Tensor of unknown shape. This may consume a large amount of memory.\n",
      "  \"Converting sparse IndexedSlices to a dense Tensor of unknown shape. \"\n"
     ]
    }
   ],
   "source": [
    "# one learning iteration\n",
    "#step = tf.train.AdamOptimizer(0.1).minimize(loss_r)\n",
    "step = tf.train.GradientDescentOptimizer(0.0001).minimize(loss_r)"
   ]
  },
  {
   "cell_type": "code",
   "execution_count": 66,
   "metadata": {},
   "outputs": [],
   "source": [
    "def train_step():\n",
    "    # obtaining rollout data\n",
    "    S, A, R, C = list(zip(*get_rollout()))\n",
    "    sess.run(step, feed_dict = {states: S, actions: A, disc_rewards: discount(R), disc_costs: discount(C)})\n",
    "    return np.sum(R), np.sum(C)"
   ]
  },
  {
   "cell_type": "code",
   "execution_count": 67,
   "metadata": {},
   "outputs": [],
   "source": [
    "init = tf.global_variables_initializer()\n",
    "sess.run(init)\n",
    "Rs = []\n",
    "Cs = []"
   ]
  },
  {
   "cell_type": "code",
   "execution_count": 74,
   "metadata": {},
   "outputs": [
    {
     "name": "stderr",
     "output_type": "stream",
     "text": [
      "100%|██████████| 500/500 [00:25<00:00, 17.91it/s]\n"
     ]
    }
   ],
   "source": [
    "for i in tqdm(range(500)):\n",
    "    r, c = train_step()\n",
    "    Rs.append(r)\n",
    "    Cs.append(c)"
   ]
  },
  {
   "cell_type": "code",
   "execution_count": 75,
   "metadata": {},
   "outputs": [
    {
     "data": {
      "image/png": "[encoded data removed]",
      "text/plain": [
       "<Figure size 432x288 with 1 Axes>"
      ]
     },
     "metadata": {
      "needs_background": "light"
     },
     "output_type": "display_data"
    }
   ],
   "source": [
    "plt.plot(Rs, label = 'Reward')\n",
    "plt.plot(Cs, label = 'Cost')\n",
    "plt.legend()\n",
    "plt.show()"
   ]
  },
  {
   "cell_type": "code",
   "execution_count": null,
   "metadata": {},
   "outputs": [],
   "source": []
  },
  {
   "cell_type": "code",
   "execution_count": 31,
   "metadata": {},
   "outputs": [
    {
     "data": {
      "text/plain": [
       "14341"
      ]
     },
     "execution_count": 31,
     "metadata": {},
     "output_type": "execute_result"
    }
   ],
   "source": [
    "len(observations)"
   ]
  },
  {
   "cell_type": "code",
   "execution_count": 80,
   "metadata": {},
   "outputs": [],
   "source": [
    "### TODO: reimplement w/o inner optimization, otherwise too slow.\n",
    "def solve_CPO(S, A, R, C, delta = 0.1, d = 10, H_lambda = 0.01):\n",
    "    # CPO hyperparameters\n",
    "\n",
    "    # D_KL maximal distance\n",
    "    #delta\n",
    "\n",
    "    # maximal constraint return\n",
    "    #d\n",
    "\n",
    "    # matrix conditioner\n",
    "    #H_lambda\n",
    "    \n",
    "    # calculating H, g, b, J from obtained data\n",
    "    J_c_ = discount(C)[0]\n",
    "    H_, b_, g_ = sess.run([H, b, g], feed_dict = {states: S, actions: A,\n",
    "                                                  disc_rewards: discount(R), disc_costs: discount(C)})\n",
    "    \n",
    "    #plt.hist(np.abs(np.linalg.eig(H_)[0]))\n",
    "    #plt.show()\n",
    "    \n",
    "    # converting to matrix form\n",
    "    g_ = np.array([g_]).T\n",
    "    b_ = np.array([b_]).T\n",
    "    H_ = np.array(H_) + np.eye(len(H_)) * H_lambda\n",
    "\n",
    "    # constraint dissatisfaction\n",
    "    c = J_c_ - d\n",
    "\n",
    "    # current parameters\n",
    "    theta_k = list(iterate_flatten(sess.run(params)))\n",
    "    \n",
    "    # https://www.cvxpy.org/\n",
    "\n",
    "    # Construct the problem.\n",
    "    theta = cp.Variable(len(theta_k))\n",
    "    objective = cp.Maximize(g_.T @ (theta - theta_k))\n",
    "    constraints = [c + b_.T @ (theta - theta_k) <= 0, cp.quad_form(theta - theta_k, H_) <= 2 * delta]\n",
    "    prob = cp.Problem(objective, constraints)\n",
    "\n",
    "    # The optimal objective value is returned by `prob.solve()`.\n",
    "    fallback = False\n",
    "    try:\n",
    "        result = prob.solve(gp=False)\n",
    "    except:\n",
    "        fallback = True\n",
    "    # The optimal value for x is stored in `x.value`.\n",
    "    #print(theta.value)\n",
    "    # The optimal Lagrange multiplier for a constraint is stored in\n",
    "    # `constraint.dual_value`.\n",
    "    #print(constraints[0].dual_value, constraints[1].dual_value)\n",
    "    \n",
    "    if fallback or theta.value is None:\n",
    "        print('Optimization failed: current policy nonsafe. Falling back to a safe solution...')\n",
    "        \n",
    "        # θ∗ = θk −sqrt(2δ/b^T H−1b)H^-1b. (eq 14)\n",
    "        Hinv = np.linalg.inv(H_)\n",
    "        theta_safe = theta_k - ((2 * delta / (b_.T @ Hinv @ b_)) ** 0.5 * Hinv @ b_).reshape(-1)\n",
    "        load_params(params, theta_safe)\n",
    "        return\n",
    "    \n",
    "    load_params(params, theta.value)"
   ]
  },
  {
   "cell_type": "code",
   "execution_count": 81,
   "metadata": {},
   "outputs": [],
   "source": [
    "def load_params(params, vector):\n",
    "    \"\"\" Params: list of tensors, vector: array with new values (shape as flattened params) \"\"\"\n",
    "    # index to start\n",
    "    idx = 0\n",
    "    \n",
    "    # array with assign operators\n",
    "    assigns = []\n",
    "    \n",
    "    # loop over parameters\n",
    "    for p in params:\n",
    "        # length of current parameter (flattened)\n",
    "        curr_len = np.prod(p.shape)\n",
    "        \n",
    "        # new values for p\n",
    "        p_new_value = vector[idx:idx+curr_len]\n",
    "        \n",
    "        # reshaping the values\n",
    "        assigns.append(tf.assign(p, p_new_value.reshape(p.shape)))\n",
    "        \n",
    "        # incrementing start ID\n",
    "        idx += curr_len\n",
    "        \n",
    "    # all assigns in one operation\n",
    "    assigns = tf.group(assigns)\n",
    "    \n",
    "    # running the operation\n",
    "    sess.run(assigns)"
   ]
  },
  {
   "cell_type": "code",
   "execution_count": 85,
   "metadata": {},
   "outputs": [
    {
     "name": "stderr",
     "output_type": "stream",
     "text": [
      "\n",
      "  0%|          | 0/500 [00:00<?, ?it/s]\u001b[A\n",
      "  0%|          | 1/500 [00:00<02:47,  2.98it/s]\u001b[A\n",
      "  0%|          | 2/500 [00:00<02:44,  3.02it/s]\u001b[A\n",
      "  1%|          | 3/500 [00:00<02:46,  2.99it/s]\u001b[A\n",
      "  1%|          | 4/500 [00:01<02:41,  3.07it/s]\u001b[A\n",
      "  1%|          | 5/500 [00:01<02:39,  3.11it/s]\u001b[A\n",
      "  1%|          | 6/500 [00:01<02:38,  3.12it/s]\u001b[A\n",
      "  1%|▏         | 7/500 [00:02<02:36,  3.14it/s]\u001b[A\n",
      "  2%|▏         | 8/500 [00:02<02:36,  3.14it/s]\u001b[A\n",
      "  2%|▏         | 9/500 [00:02<02:35,  3.15it/s]\u001b[A\n",
      "  2%|▏         | 10/500 [00:03<02:37,  3.11it/s]\u001b[A\n",
      "  2%|▏         | 11/500 [00:03<02:34,  3.16it/s]\u001b[A\n",
      "  2%|▏         | 12/500 [00:03<02:36,  3.11it/s]\u001b[A\n",
      "  3%|▎         | 13/500 [00:04<02:36,  3.12it/s]\u001b[A\n",
      "  3%|▎         | 14/500 [00:04<02:37,  3.08it/s]\u001b[A\n",
      "  3%|▎         | 15/500 [00:04<02:37,  3.08it/s]\u001b[A\n",
      "  3%|▎         | 16/500 [00:05<02:36,  3.09it/s]\u001b[A\n",
      "  3%|▎         | 17/500 [00:05<02:39,  3.02it/s]\u001b[A\n",
      "  4%|▎         | 18/500 [00:05<02:39,  3.03it/s]\u001b[A\n",
      "  4%|▍         | 19/500 [00:06<02:39,  3.01it/s]\u001b[A\n",
      "  4%|▍         | 20/500 [00:06<02:41,  2.98it/s]\u001b[A\n",
      "  4%|▍         | 21/500 [00:06<02:42,  2.94it/s]\u001b[A\n",
      "  4%|▍         | 22/500 [00:07<02:42,  2.95it/s]\u001b[A\n",
      "  5%|▍         | 23/500 [00:07<02:39,  2.99it/s]\u001b[A\n",
      "  5%|▍         | 24/500 [00:07<02:37,  3.02it/s]\u001b[A\n",
      "  5%|▌         | 25/500 [00:08<02:37,  3.01it/s]\u001b[A\n",
      "  5%|▌         | 26/500 [00:08<02:37,  3.01it/s]\u001b[A\n",
      "  5%|▌         | 27/500 [00:08<02:37,  3.00it/s]\u001b[A\n",
      "  6%|▌         | 28/500 [00:09<02:37,  3.00it/s]\u001b[A\n",
      "  6%|▌         | 29/500 [00:09<02:38,  2.97it/s]\u001b[A\n",
      "  6%|▌         | 30/500 [00:09<02:40,  2.93it/s]\u001b[A\n",
      "  6%|▌         | 31/500 [00:10<02:39,  2.95it/s]\u001b[A\n",
      "  6%|▋         | 32/500 [00:10<02:39,  2.94it/s]\u001b[A\n",
      "  7%|▋         | 33/500 [00:10<02:38,  2.95it/s]\u001b[A\n",
      "  7%|▋         | 34/500 [00:11<02:33,  3.03it/s]\u001b[A\n",
      "  7%|▋         | 35/500 [00:11<02:34,  3.01it/s]\u001b[A\n",
      "  7%|▋         | 36/500 [00:11<02:35,  2.99it/s]\u001b[A\n",
      "  7%|▋         | 37/500 [00:12<02:37,  2.94it/s]\u001b[A\n",
      "  8%|▊         | 38/500 [00:12<02:36,  2.94it/s]\u001b[A\n",
      "  8%|▊         | 39/500 [00:12<02:37,  2.93it/s]\u001b[A\n",
      "  8%|▊         | 40/500 [00:13<02:38,  2.91it/s]\u001b[A\n",
      "  8%|▊         | 41/500 [00:13<02:38,  2.89it/s]\u001b[A\n",
      "  8%|▊         | 42/500 [00:13<02:37,  2.90it/s]\u001b[A\n",
      "  9%|▊         | 43/500 [00:14<02:36,  2.91it/s]\u001b[A\n",
      "  9%|▉         | 44/500 [00:14<02:37,  2.90it/s]\u001b[A\n",
      "  9%|▉         | 45/500 [00:14<02:37,  2.89it/s]\u001b[A"
     ]
    },
    {
     "name": "stdout",
     "output_type": "stream",
     "text": [
      "Optimization failed: current policy nonsafe. Falling back to a safe solution...\n"
     ]
    },
    {
     "name": "stderr",
     "output_type": "stream",
     "text": [
      "\n",
      "  9%|▉         | 46/500 [00:15<02:37,  2.88it/s]\u001b[A\n",
      "  9%|▉         | 47/500 [00:15<02:36,  2.90it/s]\u001b[A\n",
      " 10%|▉         | 48/500 [00:16<02:36,  2.90it/s]\u001b[A\n",
      " 10%|▉         | 49/500 [00:16<02:35,  2.89it/s]\u001b[A\n",
      " 10%|█         | 50/500 [00:16<02:36,  2.88it/s]\u001b[A\n",
      " 10%|█         | 51/500 [00:17<02:28,  3.02it/s]\u001b[A\n",
      " 10%|█         | 52/500 [00:17<02:30,  2.98it/s]\u001b[A\n",
      " 11%|█         | 53/500 [00:17<02:31,  2.95it/s]\u001b[A\n",
      " 11%|█         | 54/500 [00:18<02:30,  2.96it/s]\u001b[A\n",
      " 11%|█         | 55/500 [00:18<02:30,  2.96it/s]\u001b[A"
     ]
    },
    {
     "name": "stdout",
     "output_type": "stream",
     "text": [
      "Optimization failed: current policy nonsafe. Falling back to a safe solution...\n"
     ]
    },
    {
     "name": "stderr",
     "output_type": "stream",
     "text": [
      "\n",
      " 11%|█         | 56/500 [00:18<02:31,  2.93it/s]\u001b[A\n",
      " 11%|█▏        | 57/500 [00:19<02:32,  2.91it/s]\u001b[A\n",
      " 12%|█▏        | 58/500 [00:19<02:31,  2.91it/s]\u001b[A\n",
      " 12%|█▏        | 59/500 [00:19<02:27,  3.00it/s]\u001b[A\n",
      " 12%|█▏        | 60/500 [00:20<02:24,  3.05it/s]\u001b[A\n",
      " 12%|█▏        | 61/500 [00:20<02:22,  3.07it/s]\u001b[A\n",
      " 12%|█▏        | 62/500 [00:20<02:20,  3.13it/s]\u001b[A\n",
      " 13%|█▎        | 63/500 [00:20<02:17,  3.18it/s]\u001b[A\n",
      " 13%|█▎        | 64/500 [00:21<02:14,  3.23it/s]\u001b[A\n",
      " 13%|█▎        | 65/500 [00:21<02:14,  3.24it/s]\u001b[A\n",
      " 13%|█▎        | 66/500 [00:21<02:14,  3.23it/s]\u001b[A\n",
      " 13%|█▎        | 67/500 [00:22<02:13,  3.25it/s]\u001b[A\n",
      " 14%|█▎        | 68/500 [00:22<02:12,  3.27it/s]\u001b[A\n",
      " 14%|█▍        | 69/500 [00:22<02:11,  3.27it/s]\u001b[A\n",
      " 14%|█▍        | 70/500 [00:23<02:12,  3.25it/s]\u001b[A\n",
      " 14%|█▍        | 71/500 [00:23<02:10,  3.28it/s]\u001b[A\n",
      " 14%|█▍        | 72/500 [00:23<02:11,  3.25it/s]\u001b[A\n",
      " 15%|█▍        | 73/500 [00:24<02:10,  3.28it/s]\u001b[A\n",
      " 15%|█▍        | 74/500 [00:24<02:12,  3.22it/s]\u001b[A\n",
      " 15%|█▌        | 75/500 [00:24<02:11,  3.23it/s]\u001b[A\n",
      " 15%|█▌        | 76/500 [00:24<02:10,  3.26it/s]\u001b[A\n",
      " 15%|█▌        | 77/500 [00:25<02:09,  3.28it/s]\u001b[A\n",
      " 16%|█▌        | 78/500 [00:25<02:08,  3.27it/s]\u001b[A\n",
      " 16%|█▌        | 79/500 [00:25<02:08,  3.29it/s]\u001b[A\n",
      " 16%|█▌        | 80/500 [00:26<02:10,  3.22it/s]\u001b[A\n",
      " 16%|█▌        | 81/500 [00:26<02:09,  3.22it/s]\u001b[A\n",
      " 16%|█▋        | 82/500 [00:26<02:09,  3.22it/s]\u001b[A\n",
      " 17%|█▋        | 83/500 [00:27<02:09,  3.22it/s]\u001b[A\n",
      " 17%|█▋        | 84/500 [00:27<02:08,  3.25it/s]\u001b[A\n",
      " 17%|█▋        | 85/500 [00:27<02:07,  3.26it/s]\u001b[A\n",
      " 17%|█▋        | 86/500 [00:28<02:06,  3.27it/s]\u001b[A\n",
      " 17%|█▋        | 87/500 [00:28<02:09,  3.19it/s]\u001b[A\n",
      " 18%|█▊        | 88/500 [00:28<02:08,  3.20it/s]\u001b[A\n",
      " 18%|█▊        | 89/500 [00:29<02:11,  3.12it/s]\u001b[A\n",
      " 18%|█▊        | 90/500 [00:29<02:08,  3.18it/s]\u001b[A\n",
      " 18%|█▊        | 91/500 [00:29<02:06,  3.23it/s]\u001b[A\n",
      " 18%|█▊        | 92/500 [00:29<02:05,  3.25it/s]\u001b[A\n",
      " 19%|█▊        | 93/500 [00:30<02:04,  3.26it/s]\u001b[A\n",
      " 19%|█▉        | 94/500 [00:30<02:04,  3.26it/s]\u001b[A\n",
      " 19%|█▉        | 95/500 [00:30<02:04,  3.26it/s]\u001b[A\n",
      " 19%|█▉        | 96/500 [00:31<02:03,  3.26it/s]\u001b[A\n",
      " 19%|█▉        | 97/500 [00:31<02:03,  3.25it/s]\u001b[A\n",
      " 20%|█▉        | 98/500 [00:31<02:03,  3.26it/s]\u001b[A\n",
      " 20%|█▉        | 99/500 [00:32<02:02,  3.26it/s]\u001b[A\n",
      " 20%|██        | 100/500 [00:32<02:01,  3.28it/s]\u001b[A\n",
      " 20%|██        | 101/500 [00:32<02:02,  3.25it/s]\u001b[A\n",
      " 20%|██        | 102/500 [00:32<02:02,  3.26it/s]\u001b[A\n",
      " 21%|██        | 103/500 [00:33<02:01,  3.26it/s]\u001b[A\n",
      " 21%|██        | 104/500 [00:33<02:01,  3.26it/s]\u001b[A\n",
      " 21%|██        | 105/500 [00:33<02:00,  3.27it/s]\u001b[A\n",
      " 21%|██        | 106/500 [00:34<02:00,  3.27it/s]\u001b[A\n",
      " 21%|██▏       | 107/500 [00:34<02:00,  3.25it/s]\u001b[A\n",
      " 22%|██▏       | 108/500 [00:34<02:00,  3.26it/s]\u001b[A\n",
      " 22%|██▏       | 109/500 [00:35<01:59,  3.26it/s]\u001b[A\n",
      " 22%|██▏       | 110/500 [00:35<02:00,  3.25it/s]\u001b[A\n",
      " 22%|██▏       | 111/500 [00:35<01:59,  3.25it/s]\u001b[A\n",
      " 22%|██▏       | 112/500 [00:36<01:59,  3.26it/s]\u001b[A\n",
      " 23%|██▎       | 113/500 [00:36<01:59,  3.25it/s]\u001b[A\n",
      " 23%|██▎       | 114/500 [00:36<01:58,  3.24it/s]\u001b[A\n",
      " 23%|██▎       | 115/500 [00:36<01:58,  3.24it/s]\u001b[A\n",
      " 23%|██▎       | 116/500 [00:37<01:58,  3.24it/s]\u001b[A\n",
      " 23%|██▎       | 117/500 [00:37<01:57,  3.25it/s]\u001b[A\n",
      " 24%|██▎       | 118/500 [00:37<01:57,  3.24it/s]\u001b[A\n",
      " 24%|██▍       | 119/500 [00:38<01:57,  3.24it/s]\u001b[A\n",
      " 24%|██▍       | 120/500 [00:38<01:57,  3.23it/s]\u001b[A\n",
      " 24%|██▍       | 121/500 [00:38<01:57,  3.22it/s]\u001b[A\n",
      " 24%|██▍       | 122/500 [00:39<01:57,  3.22it/s]\u001b[A\n",
      " 25%|██▍       | 123/500 [00:39<01:56,  3.23it/s]\u001b[A\n",
      " 25%|██▍       | 124/500 [00:39<01:56,  3.22it/s]\u001b[A\n",
      " 25%|██▌       | 125/500 [00:40<01:56,  3.23it/s]\u001b[A\n",
      " 25%|██▌       | 126/500 [00:40<01:56,  3.21it/s]\u001b[A\n",
      " 25%|██▌       | 127/500 [00:40<01:56,  3.21it/s]\u001b[A\n",
      " 26%|██▌       | 128/500 [00:41<01:55,  3.22it/s]\u001b[A\n",
      " 26%|██▌       | 129/500 [00:41<01:54,  3.23it/s]\u001b[A\n",
      " 26%|██▌       | 130/500 [00:41<01:54,  3.23it/s]\u001b[A\n",
      " 26%|██▌       | 131/500 [00:41<01:54,  3.22it/s]\u001b[A\n",
      " 26%|██▋       | 132/500 [00:42<01:54,  3.22it/s]\u001b[A\n",
      " 27%|██▋       | 133/500 [00:42<01:53,  3.22it/s]\u001b[A\n",
      " 27%|██▋       | 134/500 [00:42<01:54,  3.20it/s]\u001b[A\n",
      " 27%|██▋       | 135/500 [00:43<01:53,  3.21it/s]\u001b[A\n",
      " 27%|██▋       | 136/500 [00:43<01:54,  3.19it/s]\u001b[A\n",
      " 27%|██▋       | 137/500 [00:43<01:53,  3.20it/s]\u001b[A\n",
      " 28%|██▊       | 138/500 [00:44<01:53,  3.19it/s]\u001b[A\n",
      " 28%|██▊       | 139/500 [00:44<01:53,  3.17it/s]\u001b[A\n",
      " 28%|██▊       | 140/500 [00:44<01:53,  3.18it/s]\u001b[A\n",
      " 28%|██▊       | 141/500 [00:45<01:52,  3.19it/s]\u001b[A\n",
      " 28%|██▊       | 142/500 [00:45<01:53,  3.17it/s]\u001b[A\n",
      " 29%|██▊       | 143/500 [00:45<01:52,  3.18it/s]\u001b[A\n",
      " 29%|██▉       | 144/500 [00:46<01:51,  3.18it/s]\u001b[A\n",
      " 29%|██▉       | 145/500 [00:46<01:51,  3.18it/s]\u001b[A\n",
      " 29%|██▉       | 146/500 [00:46<01:52,  3.16it/s]\u001b[A\n",
      " 29%|██▉       | 147/500 [00:46<01:51,  3.16it/s]\u001b[A\n",
      " 30%|██▉       | 148/500 [00:47<01:51,  3.16it/s]\u001b[A\n",
      " 30%|██▉       | 149/500 [00:47<01:50,  3.17it/s]\u001b[A\n",
      " 30%|███       | 150/500 [00:47<01:50,  3.17it/s]\u001b[A\n",
      " 30%|███       | 151/500 [00:48<01:49,  3.18it/s]\u001b[A\n",
      " 30%|███       | 152/500 [00:48<01:49,  3.18it/s]\u001b[A\n",
      " 31%|███       | 153/500 [00:48<01:48,  3.18it/s]\u001b[A\n",
      " 31%|███       | 154/500 [00:49<01:49,  3.17it/s]\u001b[A\n",
      " 31%|███       | 155/500 [00:49<01:49,  3.15it/s]\u001b[A\n",
      " 31%|███       | 156/500 [00:49<01:48,  3.17it/s]\u001b[A\n",
      " 31%|███▏      | 157/500 [00:50<01:49,  3.14it/s]\u001b[A\n",
      " 32%|███▏      | 158/500 [00:50<01:48,  3.15it/s]\u001b[A\n",
      " 32%|███▏      | 159/500 [00:50<01:47,  3.16it/s]\u001b[A\n",
      " 32%|███▏      | 160/500 [00:51<01:47,  3.16it/s]\u001b[A\n",
      " 32%|███▏      | 161/500 [00:51<01:47,  3.16it/s]\u001b[A\n",
      " 32%|███▏      | 162/500 [00:51<01:47,  3.15it/s]\u001b[A\n",
      " 33%|███▎      | 163/500 [00:52<01:47,  3.13it/s]\u001b[A\n",
      " 33%|███▎      | 164/500 [00:52<01:47,  3.13it/s]\u001b[A\n",
      " 33%|███▎      | 165/500 [00:52<01:47,  3.13it/s]\u001b[A\n",
      " 33%|███▎      | 166/500 [00:53<01:47,  3.12it/s]\u001b[A\n",
      " 33%|███▎      | 167/500 [00:53<01:46,  3.12it/s]\u001b[A\n",
      " 34%|███▎      | 168/500 [00:53<01:46,  3.12it/s]\u001b[A\n",
      " 34%|███▍      | 169/500 [00:53<01:46,  3.12it/s]\u001b[A\n",
      " 34%|███▍      | 170/500 [00:54<01:45,  3.13it/s]\u001b[A\n",
      " 34%|███▍      | 171/500 [00:54<01:45,  3.11it/s]\u001b[A\n",
      " 34%|███▍      | 172/500 [00:54<01:45,  3.11it/s]\u001b[A\n",
      " 35%|███▍      | 173/500 [00:55<01:45,  3.09it/s]\u001b[A\n",
      " 35%|███▍      | 174/500 [00:55<01:46,  3.06it/s]\u001b[A\n",
      " 35%|███▌      | 175/500 [00:55<01:46,  3.06it/s]\u001b[A\n",
      " 35%|███▌      | 176/500 [00:56<01:45,  3.06it/s]\u001b[A\n",
      " 35%|███▌      | 177/500 [00:56<01:45,  3.05it/s]\u001b[A\n",
      " 36%|███▌      | 178/500 [00:56<01:45,  3.05it/s]\u001b[A\n",
      " 36%|███▌      | 179/500 [00:57<01:44,  3.06it/s]\u001b[A\n",
      " 36%|███▌      | 180/500 [00:57<01:44,  3.07it/s]\u001b[A\n",
      " 36%|███▌      | 181/500 [00:57<01:43,  3.07it/s]\u001b[A\n",
      " 36%|███▋      | 182/500 [00:58<01:43,  3.08it/s]\u001b[A\n",
      " 37%|███▋      | 183/500 [00:58<01:43,  3.06it/s]\u001b[A\n",
      " 37%|███▋      | 184/500 [00:58<01:43,  3.06it/s]\u001b[A\n",
      " 37%|███▋      | 185/500 [00:59<01:42,  3.07it/s]\u001b[A\n",
      " 37%|███▋      | 186/500 [00:59<01:42,  3.08it/s]\u001b[A\n",
      " 37%|███▋      | 187/500 [00:59<01:41,  3.07it/s]\u001b[A\n",
      " 38%|███▊      | 188/500 [01:00<01:42,  3.06it/s]\u001b[A\n",
      " 38%|███▊      | 189/500 [01:00<01:41,  3.06it/s]\u001b[A\n",
      " 38%|███▊      | 190/500 [01:00<01:40,  3.07it/s]\u001b[A\n",
      " 38%|███▊      | 191/500 [01:01<01:40,  3.07it/s]\u001b[A\n",
      " 38%|███▊      | 192/500 [01:01<01:40,  3.08it/s]\u001b[A\n",
      " 39%|███▊      | 193/500 [01:01<01:39,  3.07it/s]\u001b[A\n",
      " 39%|███▉      | 194/500 [01:02<01:39,  3.08it/s]\u001b[A\n",
      " 39%|███▉      | 195/500 [01:02<01:39,  3.07it/s]\u001b[A\n",
      " 39%|███▉      | 196/500 [01:02<01:38,  3.07it/s]\u001b[A\n",
      " 39%|███▉      | 197/500 [01:03<01:38,  3.07it/s]\u001b[A\n",
      " 40%|███▉      | 198/500 [01:03<01:38,  3.08it/s]\u001b[A\n",
      " 40%|███▉      | 199/500 [01:03<01:38,  3.06it/s]\u001b[A\n",
      " 40%|████      | 200/500 [01:04<01:38,  3.06it/s]\u001b[A\n",
      " 40%|████      | 201/500 [01:04<01:37,  3.06it/s]\u001b[A\n",
      " 40%|████      | 202/500 [01:04<01:38,  3.04it/s]\u001b[A\n",
      " 41%|████      | 203/500 [01:05<01:38,  3.03it/s]\u001b[A\n",
      " 41%|████      | 204/500 [01:05<01:37,  3.04it/s]\u001b[A\n",
      " 41%|████      | 205/500 [01:05<01:36,  3.05it/s]\u001b[A\n",
      " 41%|████      | 206/500 [01:06<01:36,  3.05it/s]\u001b[A\n",
      " 41%|████▏     | 207/500 [01:06<01:36,  3.04it/s]\u001b[A\n",
      " 42%|████▏     | 208/500 [01:06<01:35,  3.04it/s]\u001b[A\n",
      " 42%|████▏     | 209/500 [01:07<01:35,  3.04it/s]\u001b[A\n",
      " 42%|████▏     | 210/500 [01:07<01:35,  3.04it/s]\u001b[A\n"
     ]
    },
    {
     "name": "stderr",
     "output_type": "stream",
     "text": [
      " 42%|████▏     | 211/500 [01:07<01:35,  3.04it/s]\u001b[A\n",
      " 42%|████▏     | 212/500 [01:08<01:35,  3.02it/s]\u001b[A\n",
      " 43%|████▎     | 213/500 [01:08<01:35,  3.02it/s]\u001b[A\n",
      " 43%|████▎     | 214/500 [01:08<01:34,  3.02it/s]\u001b[A\n",
      " 43%|████▎     | 215/500 [01:09<01:34,  3.02it/s]\u001b[A\n",
      " 43%|████▎     | 216/500 [01:09<01:34,  3.02it/s]\u001b[A\n",
      " 43%|████▎     | 217/500 [01:09<01:34,  2.99it/s]\u001b[A\n",
      " 44%|████▎     | 218/500 [01:10<01:34,  2.97it/s]\u001b[A\n",
      " 44%|████▍     | 219/500 [01:10<01:34,  2.96it/s]\u001b[A\n",
      " 44%|████▍     | 220/500 [01:10<01:34,  2.97it/s]\u001b[A\n",
      " 44%|████▍     | 221/500 [01:11<01:33,  2.99it/s]\u001b[A\n",
      " 44%|████▍     | 222/500 [01:11<01:32,  3.00it/s]\u001b[A\n",
      " 45%|████▍     | 223/500 [01:11<01:32,  2.99it/s]\u001b[A\n",
      " 45%|████▍     | 224/500 [01:12<01:31,  3.01it/s]\u001b[A\n",
      " 45%|████▌     | 225/500 [01:12<01:31,  3.00it/s]\u001b[A\n",
      " 45%|████▌     | 226/500 [01:12<01:31,  3.00it/s]\u001b[A\n",
      " 45%|████▌     | 227/500 [01:13<01:31,  2.99it/s]\u001b[A"
     ]
    },
    {
     "name": "stdout",
     "output_type": "stream",
     "text": [
      "Optimization failed: current policy nonsafe. Falling back to a safe solution...\n"
     ]
    },
    {
     "name": "stderr",
     "output_type": "stream",
     "text": [
      "\n",
      " 46%|████▌     | 228/500 [01:13<01:30,  3.00it/s]\u001b[A\n",
      " 46%|████▌     | 229/500 [01:13<01:30,  3.00it/s]\u001b[A\n",
      " 46%|████▌     | 230/500 [01:14<01:29,  3.01it/s]\u001b[A\n",
      " 46%|████▌     | 231/500 [01:14<01:29,  2.99it/s]\u001b[A\n",
      " 46%|████▋     | 232/500 [01:14<01:29,  2.99it/s]\u001b[A\n",
      " 47%|████▋     | 233/500 [01:15<01:29,  2.99it/s]\u001b[A\n",
      " 47%|████▋     | 234/500 [01:15<01:29,  2.98it/s]\u001b[A\n",
      " 47%|████▋     | 235/500 [01:15<01:29,  2.97it/s]\u001b[A\n",
      " 47%|████▋     | 236/500 [01:16<01:28,  2.97it/s]\u001b[A\n",
      " 47%|████▋     | 237/500 [01:16<01:28,  2.96it/s]\u001b[A\n",
      " 48%|████▊     | 238/500 [01:16<01:28,  2.97it/s]\u001b[A\n",
      " 48%|████▊     | 239/500 [01:17<01:28,  2.96it/s]\u001b[A\n",
      " 48%|████▊     | 240/500 [01:17<01:27,  2.98it/s]\u001b[A\n",
      " 48%|████▊     | 241/500 [01:17<01:26,  2.99it/s]\u001b[A\n",
      " 48%|████▊     | 242/500 [01:18<01:26,  2.99it/s]\u001b[A\n",
      " 49%|████▊     | 243/500 [01:18<01:26,  2.97it/s]\u001b[A\n",
      " 49%|████▉     | 244/500 [01:18<01:25,  2.98it/s]\u001b[A\n",
      " 49%|████▉     | 245/500 [01:19<01:25,  2.98it/s]\u001b[A\n",
      " 49%|████▉     | 246/500 [01:19<01:25,  2.98it/s]\u001b[A\n",
      " 49%|████▉     | 247/500 [01:19<01:25,  2.97it/s]\u001b[A\n",
      " 50%|████▉     | 248/500 [01:20<01:25,  2.96it/s]\u001b[A\n",
      " 50%|████▉     | 249/500 [01:20<01:24,  2.96it/s]\u001b[A\n",
      " 50%|█████     | 250/500 [01:20<01:24,  2.96it/s]\u001b[A\n",
      " 50%|█████     | 251/500 [01:21<01:24,  2.95it/s]\u001b[A\n",
      " 50%|█████     | 252/500 [01:21<01:24,  2.95it/s]\u001b[A\n",
      " 51%|█████     | 253/500 [01:21<01:23,  2.95it/s]\u001b[A\n",
      " 51%|█████     | 254/500 [01:22<01:23,  2.96it/s]\u001b[A\n",
      " 51%|█████     | 255/500 [01:22<01:22,  2.96it/s]\u001b[A\n",
      " 51%|█████     | 256/500 [01:22<01:22,  2.96it/s]\u001b[A\n",
      " 51%|█████▏    | 257/500 [01:23<01:22,  2.94it/s]\u001b[A\n",
      " 52%|█████▏    | 258/500 [01:23<01:22,  2.93it/s]\u001b[A\n",
      " 52%|█████▏    | 259/500 [01:23<01:21,  2.94it/s]\u001b[A\n",
      " 52%|█████▏    | 260/500 [01:24<01:21,  2.94it/s]\u001b[A\n",
      " 52%|█████▏    | 261/500 [01:24<01:21,  2.94it/s]\u001b[A\n",
      " 52%|█████▏    | 262/500 [01:24<01:20,  2.95it/s]\u001b[A\n",
      " 53%|█████▎    | 263/500 [01:25<01:20,  2.94it/s]\u001b[A\n",
      " 53%|█████▎    | 264/500 [01:25<01:20,  2.93it/s]\u001b[A\n",
      " 53%|█████▎    | 265/500 [01:25<01:20,  2.93it/s]\u001b[A\n",
      " 53%|█████▎    | 266/500 [01:26<01:19,  2.93it/s]\u001b[A\n",
      " 53%|█████▎    | 267/500 [01:26<01:19,  2.93it/s]\u001b[A\n",
      " 54%|█████▎    | 268/500 [01:26<01:19,  2.92it/s]\u001b[A\n",
      " 54%|█████▍    | 269/500 [01:27<01:19,  2.92it/s]\u001b[A\n",
      " 54%|█████▍    | 270/500 [01:27<01:18,  2.93it/s]\u001b[A\n",
      " 54%|█████▍    | 271/500 [01:27<01:18,  2.92it/s]\u001b[A\n",
      " 54%|█████▍    | 272/500 [01:28<01:18,  2.92it/s]\u001b[A\n",
      " 55%|█████▍    | 273/500 [01:28<01:18,  2.90it/s]\u001b[A\n",
      " 55%|█████▍    | 274/500 [01:28<01:17,  2.90it/s]\u001b[A\n",
      " 55%|█████▌    | 275/500 [01:29<01:17,  2.91it/s]\u001b[A\n",
      " 55%|█████▌    | 276/500 [01:29<01:16,  2.91it/s]\u001b[A\n",
      " 55%|█████▌    | 277/500 [01:29<01:16,  2.90it/s]\u001b[A\n",
      " 56%|█████▌    | 278/500 [01:30<01:16,  2.92it/s]\u001b[A\n",
      " 56%|█████▌    | 279/500 [01:30<01:16,  2.90it/s]\u001b[A\n",
      " 56%|█████▌    | 280/500 [01:31<01:15,  2.90it/s]\u001b[A\n",
      " 56%|█████▌    | 281/500 [01:31<01:15,  2.90it/s]\u001b[A\n",
      " 56%|█████▋    | 282/500 [01:31<01:15,  2.89it/s]\u001b[A\n",
      " 57%|█████▋    | 283/500 [01:32<01:15,  2.88it/s]\u001b[A\n",
      " 57%|█████▋    | 284/500 [01:32<01:15,  2.88it/s]\u001b[A\n",
      " 57%|█████▋    | 285/500 [01:32<01:14,  2.88it/s]\u001b[A\n",
      " 57%|█████▋    | 286/500 [01:33<01:14,  2.88it/s]\u001b[A\n",
      " 57%|█████▋    | 287/500 [01:33<01:13,  2.88it/s]\u001b[A\n",
      " 58%|█████▊    | 288/500 [01:33<01:13,  2.88it/s]\u001b[A\n",
      " 58%|█████▊    | 289/500 [01:34<01:13,  2.89it/s]\u001b[A\n",
      " 58%|█████▊    | 290/500 [01:34<01:12,  2.89it/s]\u001b[A\n",
      " 58%|█████▊    | 291/500 [01:34<01:12,  2.90it/s]\u001b[A\n",
      " 58%|█████▊    | 292/500 [01:35<01:12,  2.88it/s]\u001b[A\n",
      " 59%|█████▊    | 293/500 [01:35<01:12,  2.86it/s]\u001b[A\n",
      " 59%|█████▉    | 294/500 [01:35<01:11,  2.87it/s]\u001b[A\n",
      " 59%|█████▉    | 295/500 [01:36<01:11,  2.86it/s]\u001b[A\n",
      " 59%|█████▉    | 296/500 [01:36<01:11,  2.87it/s]\u001b[A\n",
      " 59%|█████▉    | 297/500 [01:36<01:11,  2.85it/s]\u001b[A\n",
      " 60%|█████▉    | 298/500 [01:37<01:10,  2.87it/s]\u001b[A\n",
      " 60%|█████▉    | 299/500 [01:37<01:10,  2.85it/s]\u001b[A\n",
      " 60%|██████    | 300/500 [01:37<01:10,  2.84it/s]\u001b[A\n",
      " 60%|██████    | 301/500 [01:38<01:10,  2.84it/s]\u001b[A\n",
      " 60%|██████    | 302/500 [01:38<01:09,  2.86it/s]\u001b[A\n",
      " 61%|██████    | 303/500 [01:39<01:09,  2.84it/s]\u001b[A\n",
      " 61%|██████    | 304/500 [01:39<01:09,  2.84it/s]\u001b[A\n",
      " 61%|██████    | 305/500 [01:39<01:08,  2.84it/s]\u001b[A\n",
      " 61%|██████    | 306/500 [01:40<01:08,  2.84it/s]\u001b[A\n",
      " 61%|██████▏   | 307/500 [01:40<01:07,  2.84it/s]\u001b[A\n",
      " 62%|██████▏   | 308/500 [01:40<01:07,  2.83it/s]\u001b[A\n",
      " 62%|██████▏   | 309/500 [01:41<01:07,  2.83it/s]\u001b[A\n",
      " 62%|██████▏   | 310/500 [01:41<01:07,  2.83it/s]\u001b[A\n",
      " 62%|██████▏   | 311/500 [01:41<01:06,  2.83it/s]\u001b[A\n",
      " 62%|██████▏   | 312/500 [01:42<01:06,  2.83it/s]\u001b[A\n",
      " 63%|██████▎   | 313/500 [01:42<01:06,  2.83it/s]\u001b[A\n",
      " 63%|██████▎   | 314/500 [01:42<01:05,  2.83it/s]\u001b[A\n",
      " 63%|██████▎   | 315/500 [01:43<01:05,  2.83it/s]\u001b[A\n",
      " 63%|██████▎   | 316/500 [01:43<01:05,  2.83it/s]\u001b[A\n",
      " 63%|██████▎   | 317/500 [01:43<01:04,  2.83it/s]\u001b[A\n",
      " 64%|██████▎   | 318/500 [01:44<01:04,  2.83it/s]\u001b[A\n",
      " 64%|██████▍   | 319/500 [01:44<01:04,  2.82it/s]\u001b[A\n",
      " 64%|██████▍   | 320/500 [01:45<01:04,  2.81it/s]\u001b[A\n",
      " 64%|██████▍   | 321/500 [01:45<01:03,  2.81it/s]\u001b[A\n",
      " 64%|██████▍   | 322/500 [01:45<01:03,  2.82it/s]\u001b[A\n",
      " 65%|██████▍   | 323/500 [01:46<01:03,  2.81it/s]\u001b[A\n",
      " 65%|██████▍   | 324/500 [01:46<01:02,  2.81it/s]\u001b[A\n",
      " 65%|██████▌   | 325/500 [01:46<01:02,  2.80it/s]\u001b[A\n",
      " 65%|██████▌   | 326/500 [01:47<01:02,  2.79it/s]\u001b[A\n",
      " 65%|██████▌   | 327/500 [01:47<01:02,  2.79it/s]\u001b[A\n",
      " 66%|██████▌   | 328/500 [01:47<01:01,  2.79it/s]\u001b[A\n",
      " 66%|██████▌   | 329/500 [01:48<01:01,  2.77it/s]\u001b[A\n",
      " 66%|██████▌   | 330/500 [01:48<01:01,  2.78it/s]\u001b[A\n",
      " 66%|██████▌   | 331/500 [01:49<01:00,  2.78it/s]\u001b[A\n",
      " 66%|██████▋   | 332/500 [01:49<01:00,  2.80it/s]\u001b[A\n",
      " 67%|██████▋   | 333/500 [01:49<00:59,  2.80it/s]\u001b[A\n",
      " 67%|██████▋   | 334/500 [01:50<00:59,  2.80it/s]\u001b[A\n",
      " 67%|██████▋   | 335/500 [01:50<00:58,  2.80it/s]\u001b[A\n",
      " 67%|██████▋   | 336/500 [01:50<00:58,  2.79it/s]\u001b[A\n",
      " 67%|██████▋   | 337/500 [01:51<00:58,  2.78it/s]\u001b[A\n",
      " 68%|██████▊   | 338/500 [01:51<00:58,  2.78it/s]\u001b[A\n",
      " 68%|██████▊   | 339/500 [01:51<00:57,  2.79it/s]\u001b[A\n",
      " 68%|██████▊   | 340/500 [01:52<00:57,  2.80it/s]\u001b[A\n",
      " 68%|██████▊   | 341/500 [01:52<00:56,  2.80it/s]\u001b[A\n",
      " 68%|██████▊   | 342/500 [01:52<00:56,  2.79it/s]\u001b[A\n",
      " 69%|██████▊   | 343/500 [01:53<00:56,  2.79it/s]\u001b[A\n",
      " 69%|██████▉   | 344/500 [01:53<00:56,  2.76it/s]\u001b[A\n",
      " 69%|██████▉   | 345/500 [01:54<00:56,  2.74it/s]\u001b[A\n",
      " 69%|██████▉   | 346/500 [01:54<00:56,  2.73it/s]\u001b[A\n",
      " 69%|██████▉   | 347/500 [01:54<00:55,  2.74it/s]\u001b[A\n",
      " 70%|██████▉   | 348/500 [01:55<00:55,  2.75it/s]\u001b[A\n",
      " 70%|██████▉   | 349/500 [01:55<00:54,  2.75it/s]\u001b[A\n",
      " 70%|███████   | 350/500 [01:55<00:54,  2.76it/s]\u001b[A\n",
      " 70%|███████   | 351/500 [01:56<00:53,  2.76it/s]\u001b[A\n",
      " 70%|███████   | 352/500 [01:56<00:53,  2.75it/s]\u001b[A\n",
      " 71%|███████   | 353/500 [01:56<00:53,  2.76it/s]\u001b[A\n",
      " 71%|███████   | 354/500 [01:57<00:52,  2.77it/s]\u001b[A\n",
      " 71%|███████   | 355/500 [01:57<00:52,  2.76it/s]\u001b[A\n",
      " 71%|███████   | 356/500 [01:58<00:52,  2.76it/s]\u001b[A\n",
      " 71%|███████▏  | 357/500 [01:58<00:51,  2.76it/s]\u001b[A\n",
      " 72%|███████▏  | 358/500 [01:58<00:51,  2.75it/s]\u001b[A\n",
      " 72%|███████▏  | 359/500 [01:59<00:51,  2.73it/s]\u001b[A\n",
      " 72%|███████▏  | 360/500 [01:59<00:51,  2.73it/s]\u001b[A\n",
      " 72%|███████▏  | 361/500 [01:59<00:50,  2.73it/s]\u001b[A\n",
      " 72%|███████▏  | 362/500 [02:00<00:50,  2.72it/s]\u001b[A\n",
      " 73%|███████▎  | 363/500 [02:00<00:50,  2.71it/s]\u001b[A\n",
      " 73%|███████▎  | 364/500 [02:00<00:49,  2.73it/s]\u001b[A\n",
      " 73%|███████▎  | 365/500 [02:01<00:53,  2.53it/s]\u001b[A\n",
      " 73%|███████▎  | 366/500 [02:01<00:51,  2.59it/s]\u001b[A\n",
      " 73%|███████▎  | 367/500 [02:02<00:50,  2.64it/s]\u001b[A\n",
      " 74%|███████▎  | 368/500 [02:02<00:49,  2.66it/s]\u001b[A\n",
      " 74%|███████▍  | 369/500 [02:02<00:48,  2.68it/s]\u001b[A\n",
      " 74%|███████▍  | 370/500 [02:03<00:48,  2.69it/s]\u001b[A\n",
      " 74%|███████▍  | 371/500 [02:03<00:47,  2.70it/s]\u001b[A\n",
      " 74%|███████▍  | 372/500 [02:03<00:47,  2.71it/s]\u001b[A\n",
      " 75%|███████▍  | 373/500 [02:04<00:46,  2.70it/s]\u001b[A\n",
      " 75%|███████▍  | 374/500 [02:04<00:46,  2.71it/s]\u001b[A\n",
      " 75%|███████▌  | 375/500 [02:05<00:45,  2.72it/s]\u001b[A\n",
      " 75%|███████▌  | 376/500 [02:05<00:45,  2.72it/s]\u001b[A\n",
      " 75%|███████▌  | 377/500 [02:05<00:45,  2.71it/s]\u001b[A\n",
      " 76%|███████▌  | 378/500 [02:06<00:44,  2.72it/s]\u001b[A\n",
      " 76%|███████▌  | 379/500 [02:06<00:44,  2.71it/s]\u001b[A\n",
      " 76%|███████▌  | 380/500 [02:06<00:44,  2.71it/s]\u001b[A\n",
      " 76%|███████▌  | 381/500 [02:07<00:43,  2.71it/s]\u001b[A\n"
     ]
    },
    {
     "name": "stderr",
     "output_type": "stream",
     "text": [
      " 76%|███████▋  | 382/500 [02:07<00:43,  2.71it/s]\u001b[A\n",
      " 77%|███████▋  | 383/500 [02:08<00:43,  2.71it/s]\u001b[A\n",
      " 77%|███████▋  | 384/500 [02:08<00:42,  2.72it/s]\u001b[A\n",
      " 77%|███████▋  | 385/500 [02:08<00:42,  2.71it/s]\u001b[A\n",
      " 77%|███████▋  | 386/500 [02:09<00:42,  2.71it/s]\u001b[A\n",
      " 77%|███████▋  | 387/500 [02:09<00:41,  2.71it/s]\u001b[A\n",
      " 78%|███████▊  | 388/500 [02:09<00:41,  2.71it/s]\u001b[A\n",
      " 78%|███████▊  | 389/500 [02:10<00:41,  2.70it/s]\u001b[A\n",
      " 78%|███████▊  | 390/500 [02:10<00:40,  2.70it/s]\u001b[A\n",
      " 78%|███████▊  | 391/500 [02:11<00:40,  2.69it/s]\u001b[A\n",
      " 78%|███████▊  | 392/500 [02:11<00:40,  2.68it/s]\u001b[A\n",
      " 79%|███████▊  | 393/500 [02:11<00:40,  2.67it/s]\u001b[A\n",
      " 79%|███████▉  | 394/500 [02:12<00:39,  2.68it/s]\u001b[A\n",
      " 79%|███████▉  | 395/500 [02:12<00:39,  2.68it/s]\u001b[A\n",
      " 79%|███████▉  | 396/500 [02:12<00:38,  2.67it/s]\u001b[A\n",
      " 79%|███████▉  | 397/500 [02:13<00:38,  2.67it/s]\u001b[A\n",
      " 80%|███████▉  | 398/500 [02:13<00:37,  2.68it/s]\u001b[A\n",
      " 80%|███████▉  | 399/500 [02:14<00:37,  2.68it/s]\u001b[A\n",
      " 80%|████████  | 400/500 [02:14<00:37,  2.67it/s]\u001b[A\n",
      " 80%|████████  | 401/500 [02:14<00:37,  2.67it/s]\u001b[A\n",
      " 80%|████████  | 402/500 [02:15<00:36,  2.68it/s]\u001b[A\n",
      " 81%|████████  | 403/500 [02:15<00:36,  2.67it/s]\u001b[A\n",
      " 81%|████████  | 404/500 [02:15<00:36,  2.66it/s]\u001b[A\n",
      " 81%|████████  | 405/500 [02:16<00:35,  2.66it/s]\u001b[A\n",
      " 81%|████████  | 406/500 [02:16<00:35,  2.66it/s]\u001b[A\n",
      " 81%|████████▏ | 407/500 [02:17<00:34,  2.66it/s]\u001b[A\n",
      " 82%|████████▏ | 408/500 [02:17<00:34,  2.66it/s]\u001b[A\n",
      " 82%|████████▏ | 409/500 [02:17<00:34,  2.65it/s]\u001b[A\n",
      " 82%|████████▏ | 410/500 [02:18<00:34,  2.64it/s]\u001b[A\n",
      " 82%|████████▏ | 411/500 [02:18<00:33,  2.63it/s]\u001b[A\n",
      " 82%|████████▏ | 412/500 [02:18<00:33,  2.63it/s]\u001b[A\n",
      " 83%|████████▎ | 413/500 [02:19<00:33,  2.63it/s]\u001b[A\n",
      " 83%|████████▎ | 414/500 [02:19<00:32,  2.64it/s]\u001b[A\n",
      " 83%|████████▎ | 415/500 [02:20<00:32,  2.63it/s]\u001b[A\n",
      " 83%|████████▎ | 416/500 [02:20<00:31,  2.64it/s]\u001b[A\n",
      " 83%|████████▎ | 417/500 [02:20<00:31,  2.63it/s]\u001b[A\n",
      " 84%|████████▎ | 418/500 [02:21<00:31,  2.63it/s]\u001b[A\n",
      " 84%|████████▍ | 419/500 [02:21<00:30,  2.62it/s]\u001b[A\n",
      " 84%|████████▍ | 420/500 [02:21<00:30,  2.64it/s]\u001b[A\n",
      " 84%|████████▍ | 421/500 [02:22<00:29,  2.64it/s]\u001b[A\n",
      " 84%|████████▍ | 422/500 [02:22<00:29,  2.64it/s]\u001b[A\n",
      " 85%|████████▍ | 423/500 [02:23<00:29,  2.63it/s]\u001b[A\n",
      " 85%|████████▍ | 424/500 [02:23<00:28,  2.63it/s]\u001b[A\n",
      " 85%|████████▌ | 425/500 [02:23<00:28,  2.63it/s]\u001b[A\n",
      " 85%|████████▌ | 426/500 [02:24<00:28,  2.63it/s]\u001b[A\n",
      " 85%|████████▌ | 427/500 [02:24<00:27,  2.62it/s]\u001b[A\n",
      " 86%|████████▌ | 428/500 [02:25<00:27,  2.61it/s]\u001b[A\n",
      " 86%|████████▌ | 429/500 [02:25<00:27,  2.61it/s]\u001b[A\n",
      " 86%|████████▌ | 430/500 [02:25<00:26,  2.62it/s]\u001b[A\n",
      " 86%|████████▌ | 431/500 [02:26<00:26,  2.61it/s]\u001b[A\n",
      " 86%|████████▋ | 432/500 [02:26<00:26,  2.61it/s]\u001b[A\n",
      " 87%|████████▋ | 433/500 [02:26<00:25,  2.60it/s]\u001b[A\n",
      " 87%|████████▋ | 434/500 [02:27<00:25,  2.61it/s]\u001b[A\n",
      " 87%|████████▋ | 435/500 [02:27<00:24,  2.61it/s]\u001b[A\n",
      " 87%|████████▋ | 436/500 [02:28<00:24,  2.61it/s]\u001b[A\n",
      " 87%|████████▋ | 437/500 [02:28<00:24,  2.61it/s]\u001b[A\n",
      " 88%|████████▊ | 438/500 [02:28<00:24,  2.58it/s]\u001b[A\n",
      " 88%|████████▊ | 439/500 [02:29<00:23,  2.57it/s]\u001b[A\n",
      " 88%|████████▊ | 440/500 [02:29<00:23,  2.58it/s]\u001b[A\n",
      " 88%|████████▊ | 441/500 [02:30<00:22,  2.58it/s]\u001b[A\n",
      " 88%|████████▊ | 442/500 [02:30<00:22,  2.58it/s]\u001b[A\n",
      " 89%|████████▊ | 443/500 [02:30<00:22,  2.57it/s]\u001b[A\n",
      " 89%|████████▉ | 444/500 [02:31<00:21,  2.58it/s]\u001b[A\n",
      " 89%|████████▉ | 445/500 [02:31<00:21,  2.58it/s]\u001b[A\n",
      " 89%|████████▉ | 446/500 [02:31<00:20,  2.58it/s]\u001b[A\n",
      " 89%|████████▉ | 447/500 [02:32<00:20,  2.58it/s]\u001b[A\n",
      " 90%|████████▉ | 448/500 [02:32<00:20,  2.58it/s]\u001b[A\n",
      " 90%|████████▉ | 449/500 [02:33<00:19,  2.58it/s]\u001b[A\n",
      " 90%|█████████ | 450/500 [02:33<00:19,  2.58it/s]\u001b[A\n",
      " 90%|█████████ | 451/500 [02:33<00:19,  2.58it/s]\u001b[A\n",
      " 90%|█████████ | 452/500 [02:34<00:18,  2.58it/s]\u001b[A\n",
      " 91%|█████████ | 453/500 [02:34<00:18,  2.57it/s]\u001b[A\n",
      " 91%|█████████ | 454/500 [02:35<00:17,  2.58it/s]\u001b[A\n",
      " 91%|█████████ | 455/500 [02:35<00:17,  2.58it/s]\u001b[A\n",
      " 91%|█████████ | 456/500 [02:35<00:17,  2.55it/s]\u001b[A\n",
      " 91%|█████████▏| 457/500 [02:36<00:16,  2.53it/s]\u001b[A\n",
      " 92%|█████████▏| 458/500 [02:36<00:16,  2.55it/s]\u001b[A\n",
      " 92%|█████████▏| 459/500 [02:37<00:16,  2.54it/s]\u001b[A\n",
      " 92%|█████████▏| 460/500 [02:37<00:15,  2.56it/s]\u001b[A\n",
      " 92%|█████████▏| 461/500 [02:37<00:15,  2.56it/s]\u001b[A\n",
      " 92%|█████████▏| 462/500 [02:38<00:14,  2.56it/s]\u001b[A\n",
      " 93%|█████████▎| 463/500 [02:38<00:14,  2.56it/s]\u001b[A\n",
      " 93%|█████████▎| 464/500 [02:38<00:14,  2.56it/s]\u001b[A\n",
      " 93%|█████████▎| 465/500 [02:39<00:13,  2.56it/s]\u001b[A\n",
      " 93%|█████████▎| 466/500 [02:39<00:13,  2.56it/s]\u001b[A\n",
      " 93%|█████████▎| 467/500 [02:40<00:13,  2.53it/s]\u001b[A\n",
      " 94%|█████████▎| 468/500 [02:40<00:12,  2.55it/s]\u001b[A\n",
      " 94%|█████████▍| 469/500 [02:40<00:12,  2.52it/s]\u001b[A\n",
      " 94%|█████████▍| 470/500 [02:41<00:11,  2.54it/s]\u001b[A\n",
      " 94%|█████████▍| 471/500 [02:41<00:11,  2.54it/s]\u001b[A\n",
      " 94%|█████████▍| 472/500 [02:42<00:11,  2.54it/s]\u001b[A\n",
      " 95%|█████████▍| 473/500 [02:42<00:10,  2.54it/s]\u001b[A\n",
      " 95%|█████████▍| 474/500 [02:42<00:10,  2.55it/s]\u001b[A\n",
      " 95%|█████████▌| 475/500 [02:43<00:09,  2.55it/s]\u001b[A\n",
      " 95%|█████████▌| 476/500 [02:43<00:09,  2.53it/s]\u001b[A\n",
      " 95%|█████████▌| 477/500 [02:44<00:09,  2.52it/s]\u001b[A\n",
      " 96%|█████████▌| 478/500 [02:44<00:08,  2.53it/s]\u001b[A\n",
      " 96%|█████████▌| 479/500 [02:44<00:08,  2.53it/s]\u001b[A\n",
      " 96%|█████████▌| 480/500 [02:45<00:07,  2.51it/s]\u001b[A\n",
      " 96%|█████████▌| 481/500 [02:45<00:07,  2.51it/s]\u001b[A\n",
      " 96%|█████████▋| 482/500 [02:46<00:07,  2.50it/s]\u001b[A\n",
      " 97%|█████████▋| 483/500 [02:46<00:06,  2.50it/s]\u001b[A\n",
      " 97%|█████████▋| 484/500 [02:46<00:06,  2.50it/s]\u001b[A\n",
      " 97%|█████████▋| 485/500 [02:47<00:05,  2.50it/s]\u001b[A\n",
      " 97%|█████████▋| 486/500 [02:47<00:05,  2.51it/s]\u001b[A\n",
      " 97%|█████████▋| 487/500 [02:48<00:05,  2.51it/s]\u001b[A\n",
      " 98%|█████████▊| 488/500 [02:48<00:04,  2.52it/s]\u001b[A\n",
      " 98%|█████████▊| 489/500 [02:48<00:04,  2.51it/s]\u001b[A\n",
      " 98%|█████████▊| 490/500 [02:49<00:03,  2.50it/s]\u001b[A\n",
      " 98%|█████████▊| 491/500 [02:49<00:03,  2.50it/s]\u001b[A\n",
      " 98%|█████████▊| 492/500 [02:50<00:03,  2.48it/s]\u001b[A\n",
      " 99%|█████████▊| 493/500 [02:50<00:02,  2.49it/s]\u001b[A\n",
      " 99%|█████████▉| 494/500 [02:50<00:02,  2.50it/s]\u001b[A\n",
      " 99%|█████████▉| 495/500 [02:51<00:02,  2.50it/s]\u001b[A\n",
      " 99%|█████████▉| 496/500 [02:51<00:01,  2.50it/s]\u001b[A\n",
      " 99%|█████████▉| 497/500 [02:52<00:01,  2.50it/s]\u001b[A\n",
      "100%|█████████▉| 498/500 [02:52<00:00,  2.50it/s]\u001b[A\n",
      "100%|█████████▉| 499/500 [02:52<00:00,  2.49it/s]\u001b[A\n",
      "100%|██████████| 500/500 [02:53<00:00,  2.47it/s]\u001b[A\n",
      "\u001b[A"
     ]
    }
   ],
   "source": [
    "Rs = []\n",
    "Cs = []\n",
    "for _ in tqdm(range(500)):\n",
    "    S, A, R, C = zip(*get_rollout())\n",
    "    Cs.append(np.sum(C))\n",
    "    Rs.append(np.sum(R))\n",
    "    #print(np.sum(R), np.sum(C))\n",
    "    solve_CPO(S, A, R, C, delta = 0.01, d = 20, H_lambda = 0.0001)"
   ]
  },
  {
   "cell_type": "code",
   "execution_count": null,
   "metadata": {},
   "outputs": [],
   "source": []
  },
  {
   "cell_type": "code",
   "execution_count": 86,
   "metadata": {},
   "outputs": [
    {
     "data": {
      "image/png": "[encoded data removed]",
      "text/plain": [
       "<Figure size 432x288 with 1 Axes>"
      ]
     },
     "metadata": {
      "needs_background": "light"
     },
     "output_type": "display_data"
    }
   ],
   "source": [
    "plt.plot(Rs, label = 'Reward')\n",
    "plt.plot(Cs, label = 'Cost')\n",
    "plt.legend()\n",
    "plt.show()"
   ]
  },
  {
   "cell_type": "code",
   "execution_count": null,
   "metadata": {},
   "outputs": [],
   "source": []
  },
  {
   "cell_type": "code",
   "execution_count": 88,
   "metadata": {},
   "outputs": [],
   "source": [
    "env = env.unwrapped"
   ]
  },
  {
   "cell_type": "code",
   "execution_count": null,
   "metadata": {},
   "outputs": [],
   "source": [
    "env = gym.wrappers.Monitor(env, './video')\n",
    "get_rollout()"
   ]
  },
  {
   "cell_type": "code",
   "execution_count": 76,
   "metadata": {},
   "outputs": [
    {
     "data": {
      "text/plain": [
       "'./cartpole-h1.ckpt'"
      ]
     },
     "execution_count": 76,
     "metadata": {},
     "output_type": "execute_result"
    }
   ],
   "source": [
    "tf.train.Saver().save(sess, './cartpole-h1.ckpt')"
   ]
  },
  {
   "cell_type": "code",
   "execution_count": 84,
   "metadata": {},
   "outputs": [
    {
     "name": "stdout",
     "output_type": "stream",
     "text": [
      "INFO:tensorflow:Restoring parameters from ./cartpole-h1.ckpt\n"
     ]
    }
   ],
   "source": [
    "tf.train.Saver().restore(sess, './cartpole-h1.ckpt')"
   ]
  },
  {
   "cell_type": "code",
   "execution_count": null,
   "metadata": {},
   "outputs": [],
   "source": []
  },
  {
   "cell_type": "code",
   "execution_count": null,
   "metadata": {},
   "outputs": [],
   "source": []
  }
 ],
 "metadata": {
  "kernelspec": {
   "display_name": "Python 3",
   "language": "python",
   "name": "python3"
  },
  "language_info": {
   "codemirror_mode": {
    "name": "ipython",
    "version": 3
   },
   "file_extension": ".py",
   "mimetype": "text/x-python",
   "name": "python",
   "nbconvert_exporter": "python",
   "pygments_lexer": "ipython3",
   "version": "3.6.8"
  },
  "varInspector": {
   "cols": {
    "lenName": 16,
    "lenType": 16,
    "lenVar": 40
   },
   "kernels_config": {
    "python": {
     "delete_cmd_postfix": "",
     "delete_cmd_prefix": "del ",
     "library": "var_list.py",
     "varRefreshCmd": "print(var_dic_list())"
    },
    "r": {
     "delete_cmd_postfix": ") ",
     "delete_cmd_prefix": "rm(",
     "library": "var_list.r",
     "varRefreshCmd": "cat(var_dic_list()) "
    }
   },
   "types_to_exclude": [
    "module",
    "function",
    "builtin_function_or_method",
    "instance",
    "_Feature"
   ],
   "window_display": false
  }
 },
 "nbformat": 4,
 "nbformat_minor": 2
}
