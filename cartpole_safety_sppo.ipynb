{
 "cells": [
  {
   "cell_type": "markdown",
   "metadata": {},
   "source": [
    "### Proximal policy optimization\n",
    "\n",
    "PPO [1] is trying to combine the two objectives into one: first that $\\frac{\\pi_\\theta(a|s)}{\\pi_{\\theta_k}(a|s)}A^{\\pi_{\\theta_k}}$ is maximized and secondly that the policy does not go far from the original policy in the action distribution space by not encouraging it (clipping)\n",
    "\n",
    "Having collected experience $D_k$ from policy $\\pi_k$, compute rewards-to-go $\\hat{R}$ and advantage estimates $A=Q(s,a)-V(s,a)=r_t+\\gamma v_{t+1}-v_t$ using value estimates.\n",
    "\n",
    "Next, update $\\theta$ using Adam steps until $D_{KL}(\\theta|\\theta_k)>\\delta$ on objective\n",
    "\n",
    "$$\n",
    "L_1(\\theta)=\\frac{1}{|D|}\\sum\\limits_{\\tau\\in D_k}\\sum\\limits_{t=0}^{T_\\tau}\\min\\left(\\frac{\\pi_\\theta(a_t|s_t)}{\\pi_{\\theta_k}(a_t|s_t)}A^{\\pi_k}(s_t,a_t),g(\\varepsilon,A^{\\pi_k}(s_t,a_t))\\right)\n",
    "$$\n",
    "\n",
    "Using a constraint $J_C+g_C(\\theta-\\theta_0)\\leq С_{\\max}$ with projection after each step\n",
    "\n",
    "with $g(\\varepsilon, A)=\\begin{cases}\n",
    "(1+\\varepsilon)A,&A\\geq 0\\\\\n",
    "(1-\\varepsilon)A,&A< 0\\\\\n",
    "\\end{cases}$\n",
    "\n",
    "and on \n",
    "$$\n",
    "L_2(\\varphi)=\\frac{1}{|D|}\\sum\\limits_{\\tau\\in D_k}\\sum\\limits_{t=0}^{T_\\tau}(V_\\varphi(s_t)-\\hat{R}_t)^2\n",
    "$$\n",
    "\n",
    "\n",
    "[1] https://spinningup.openai.com/en/latest/algorithms/ppo.html"
   ]
  },
  {
   "cell_type": "code",
   "execution_count": 17,
   "metadata": {},
   "outputs": [],
   "source": [
    "from xvfbwrapper import Xvfb\n",
    "\n",
    "#vdisplay = Xvfb()\n",
    "#vdisplay.start()\n",
    "\n",
    "# for environ\n",
    "import os\n",
    "\n",
    "# only using device 0\n",
    "os.environ[\"CUDA_DEVICE_ORDER\"]=\"PCI_BUS_ID\"   # see issue #152\n",
    "os.environ[\"LIBGL_ALWAYS_SOFTWARE\"]=\"1\"\n",
    "#os.environ[\"CUDA_VISIBLE_DEVICES\"]=\"0\"\n",
    "\n",
    "# importing tensorflow\n",
    "import tensorflow as tf\n",
    "\n",
    "# import scipy\n",
    "import scipy, csv\n",
    "\n",
    "import pandas as pd"
   ]
  },
  {
   "cell_type": "code",
   "execution_count": 18,
   "metadata": {},
   "outputs": [],
   "source": [
    "import gym\n",
    "from gym import wrappers\n",
    "%matplotlib inline\n",
    "from matplotlib import pyplot as plt\n",
    "import numpy as np\n",
    "from tqdm import tqdm\n",
    "\n",
    "# to display environment data\n",
    "# see https://gist.github.com/thomelane/79e97630ba46c45985a946cae4805885\n",
    "from IPython import display\n",
    "\n",
    "from lyapunov_helpers import cost"
   ]
  },
  {
   "cell_type": "code",
   "execution_count": 19,
   "metadata": {},
   "outputs": [
    {
     "data": {
      "text/plain": [
       "['',\n",
       " '/localhome/volodin/miniconda3/envs/neuronfailure/lib/python36.zip',\n",
       " '/localhome/volodin/miniconda3/envs/neuronfailure/lib/python3.6',\n",
       " '/localhome/volodin/miniconda3/envs/neuronfailure/lib/python3.6/lib-dynload',\n",
       " '/localhome/volodin/miniconda3/envs/neuronfailure/lib/python3.6/site-packages',\n",
       " '/localhome/volodin/miniconda3/envs/neuronfailure/lib/python3.6/site-packages/dfw-1.0a0-py3.6.egg',\n",
       " '/localhome/volodin/miniconda3/envs/neuronfailure/lib/python3.6/site-packages/waitGPU-0.0.3-py3.6.egg',\n",
       " '/localhome/volodin/miniconda3/envs/neuronfailure/lib/python3.6/site-packages/torchvision-0.3.0-py3.6-linux-x86_64.egg',\n",
       " '/localhome/volodin/miniconda3/envs/neuronfailure/lib/python3.6/site-packages/nltk-3.4.1-py3.6.egg',\n",
       " '/localhome/volodin/miniconda3/envs/neuronfailure/lib/python3.6/site-packages/gpustat-0.5.0-py3.6.egg',\n",
       " '/localhome/volodin/miniconda3/envs/neuronfailure/lib/python3.6/site-packages/blessings-1.7-py3.6.egg',\n",
       " '/localhome/volodin/miniconda3/envs/neuronfailure/lib/python3.6/site-packages/nvidia_ml_py3-7.352.0-py3.6.egg',\n",
       " '/localhome/volodin/miniconda3/envs/neuronfailure/lib/python3.6/site-packages/IPython/extensions',\n",
       " '/localhome/volodin/.ipython',\n",
       " '/localhome/volodin/local/usr/bin',\n",
       " '/localhome/volodin/local/usr/bin']"
      ]
     },
     "execution_count": 19,
     "metadata": {},
     "output_type": "execute_result"
    }
   ],
   "source": [
    "import sys\n",
    "sys.path += ['/localhome/volodin/local/usr/bin']\n",
    "sys.path"
   ]
  },
  {
   "cell_type": "code",
   "execution_count": 20,
   "metadata": {},
   "outputs": [],
   "source": [
    "from xvfbwrapper import Xvfb\n",
    "\n",
    "vdisplay = Xvfb()\n",
    "vdisplay.start()"
   ]
  },
  {
   "cell_type": "code",
   "execution_count": 21,
   "metadata": {},
   "outputs": [],
   "source": [
    "tf.reset_default_graph()\n",
    "# allowing GPU memory growth to allocate only what we need\n",
    "config = tf.ConfigProto()\n",
    "config.gpu_options.per_process_gpu_memory_fraction = 0.5\n",
    "config.gpu_options.allow_growth = True\n",
    "sess = tf.Session(config=config, graph = tf.get_default_graph())"
   ]
  },
  {
   "cell_type": "code",
   "execution_count": 22,
   "metadata": {},
   "outputs": [],
   "source": [
    "env = gym.make('CartPole-v0')"
   ]
  },
  {
   "cell_type": "code",
   "execution_count": 128,
   "metadata": {},
   "outputs": [],
   "source": [
    "# number of dimensions in state\n",
    "S_DIM = 4\n",
    "\n",
    "# number of available actions\n",
    "ACTIONS = 2\n",
    "\n",
    "# discount factor\n",
    "gamma_discount = 1\n",
    "\n",
    "# PPO parameter (policy clipping)\n",
    "epsilon = 0.1\n",
    "\n",
    "# PPO delta parameter (when to stop iterations, max KL divergence)\n",
    "delta = 0.01"
   ]
  },
  {
   "cell_type": "code",
   "execution_count": 129,
   "metadata": {},
   "outputs": [],
   "source": [
    "def g(eps, A):\n",
    "    \"\"\" function g(eps, A), see latex above \"\"\"\n",
    "    def step_fcn(x):\n",
    "        return (tf.math.sign(x) + 1) / 2.\n",
    "    return tf.multiply(step_fcn(A), A * (1 + epsilon)) + tf.multiply(step_fcn(-A), A * (1 - epsilon))"
   ]
  },
  {
   "cell_type": "code",
   "execution_count": 130,
   "metadata": {},
   "outputs": [],
   "source": [
    "# states\n",
    "states = tf.placeholder(tf.float64, shape = (None, S_DIM,))\n",
    "\n",
    "# taken actions\n",
    "actions = tf.placeholder(tf.int64, shape = (None,))\n",
    "\n",
    "# rewards obtained\n",
    "rewards = tf.placeholder(tf.float64, shape = (None,))\n",
    "\n",
    "# maximal constraint return\n",
    "C_max = tf.placeholder(tf.float64)\n",
    "\n",
    "# costs obtained\n",
    "disc_costs = tf.placeholder(tf.float64, shape = (None,))\n",
    "\n",
    "# discounted rewards obtained\n",
    "discounted_rewards_to_go = tf.placeholder(tf.float64, shape = (None,))\n",
    "\n",
    "def fc_layer(x, n, activation = tf.nn.relu):\n",
    "    \"\"\" Fully connected layer for input x and output dim n \"\"\"\n",
    "    return tf.contrib.layers.fully_connected(x, n, activation_fn=activation,\n",
    "    weights_initializer=tf.initializers.lecun_normal(), weights_regularizer=None,\n",
    "    biases_initializer=tf.zeros_initializer(), biases_regularizer=None, trainable=True)"
   ]
  },
  {
   "cell_type": "code",
   "execution_count": 131,
   "metadata": {},
   "outputs": [],
   "source": [
    "# state is an input to the network\n",
    "z = states\n",
    "\n",
    "# some fully connected stuff\n",
    "z = fc_layer(z, 10)\n",
    "\n",
    "# some fully connected stuff\n",
    "#z = fc_layer(z, 10)\n",
    "\n",
    "# POLICY network head\n",
    "with tf.name_scope('policy_layers'):\n",
    "    #z = fc_layer(z, 10)\n",
    "    z_policy = fc_layer(z, 10)\n",
    "    z_policy = fc_layer(z_policy, ACTIONS, activation = None)\n",
    "    logits_policy = tf.nn.softmax(z_policy)\n",
    "    # predicted labels\n",
    "    labels = tf.argmax(logits_policy, axis = 1)\n",
    "    \n",
    "# VALUE network head\n",
    "with tf.name_scope('value_layers'):\n",
    "    z_value = fc_layer(z, 10)\n",
    "    value = fc_layer(z_value, 1, activation = None)"
   ]
  },
  {
   "cell_type": "code",
   "execution_count": 132,
   "metadata": {},
   "outputs": [],
   "source": [
    "# next value\n",
    "value_next = tf.concat([value[1:, :], [[0]]], axis = 0)"
   ]
  },
  {
   "cell_type": "code",
   "execution_count": 133,
   "metadata": {},
   "outputs": [],
   "source": [
    "# advantage function\n",
    "advantage = rewards + tf.reshape(gamma_discount * value_next - value, (-1,))"
   ]
  },
  {
   "cell_type": "code",
   "execution_count": 134,
   "metadata": {},
   "outputs": [],
   "source": [
    "# Loss 2\n",
    "L2 = tf.reduce_mean(tf.square(tf.reshape(value, (-1,)) - discounted_rewards_to_go))\n",
    "\n",
    "# one-hot encoded actions\n",
    "a_one_hot = tf.one_hot(actions, ACTIONS)\n",
    "\n",
    "# taken logits\n",
    "#logits_taken = tf.gather(logits, actions, axis = 1)\n",
    "logits_taken = tf.boolean_mask(logits_policy, a_one_hot)\n",
    "\n",
    "# pi_theta / pi_theta_k\n",
    "pi_theta_pi_thetak = tf.divide(logits_taken, tf.stop_gradient(logits_taken))\n",
    "advantage_nograd = tf.stop_gradient(advantage)\n",
    "part1 = tf.multiply(pi_theta_pi_thetak, advantage_nograd)\n",
    "part2 =                      g(epsilon, advantage_nograd)\n",
    "\n",
    "# calculated loss\n",
    "L1 = -tf.reduce_mean(tf.minimum(part1, part2))"
   ]
  },
  {
   "cell_type": "code",
   "execution_count": 135,
   "metadata": {},
   "outputs": [],
   "source": [
    "# discounted constraint return\n",
    "J_C = disc_costs[0]\n",
    "\n",
    "# all parameters\n",
    "params = tf.trainable_variables()\n",
    "\n",
    "# taken logits log\n",
    "log_logits = tf.log(logits_taken)\n",
    "\n",
    "# constraint function for reward min\n",
    "constraint_return_int = tf.reduce_sum(tf.multiply(log_logits, disc_costs))\n",
    "\n",
    "# gradient of the CONSTRAINT\n",
    "g_C = tf.gradients(constraint_return_int, params)"
   ]
  },
  {
   "cell_type": "code",
   "execution_count": 136,
   "metadata": {},
   "outputs": [],
   "source": [
    "# TOTAL LOSS\n",
    "loss = L1 + L2"
   ]
  },
  {
   "cell_type": "code",
   "execution_count": 137,
   "metadata": {},
   "outputs": [],
   "source": [
    "def sample_action(observation):\n",
    "    \"\"\" Sample an action from the policy \"\"\"\n",
    "    \n",
    "    p = sess.run(logits_policy, feed_dict = {states: [observation]})[0]\n",
    "    return np.random.choice(range(2), p = p)"
   ]
  },
  {
   "cell_type": "code",
   "execution_count": 138,
   "metadata": {},
   "outputs": [],
   "source": [
    "def get_rollout():\n",
    "    \"\"\" Obtain rollout using policy \"\"\"\n",
    "    done = False\n",
    "    observation = env.reset()\n",
    "    sarc = []\n",
    "    while not done:\n",
    "        act = sample_action(observation)\n",
    "        observation_, reward, done, info = env.step(act) # take a random action\n",
    "        c = cost(observation)\n",
    "        sarc.append((observation, act, reward, c))\n",
    "        observation = observation_\n",
    "    env.close()\n",
    "    return sarc"
   ]
  },
  {
   "cell_type": "code",
   "execution_count": 139,
   "metadata": {},
   "outputs": [],
   "source": [
    "def discount(rewards):\n",
    "    \"\"\" Discount and do cumulative sum \"\"\"\n",
    "    sum_so_far = 0.0\n",
    "    rewards_so_far = []\n",
    "    for r in rewards[::-1]:\n",
    "        sum_so_far = sum_so_far * gamma_discount + r\n",
    "        rewards_so_far.append(sum_so_far)\n",
    "    return rewards_so_far[::-1]"
   ]
  },
  {
   "cell_type": "markdown",
   "metadata": {},
   "source": [
    "Want: $(\\theta_1+\\Delta\\theta-\\theta_0)^T g_C\\leq C_{\\max}$ which gives $\\Delta\\theta^T g_C\\leq C_{\\max}-J_C+(\\theta_0-\\theta_1)^T g_C=R$. In case if $R>0$, no action required. Otherwise $\\Delta\\theta=g_CR/\\|g_C\\|^2$"
   ]
  },
  {
   "cell_type": "code",
   "execution_count": 140,
   "metadata": {},
   "outputs": [],
   "source": [
    "# variable BEFORE the step\n",
    "theta_0 = [tf.Variable(tf.zeros_like(p)) for p in params]"
   ]
  },
  {
   "cell_type": "code",
   "execution_count": 141,
   "metadata": {},
   "outputs": [],
   "source": [
    "# current parameters\n",
    "theta_1 = params\n",
    "\n",
    "# save theta1 -> theta0\n",
    "save_to0 = tf.group([a.assign(b) for a, b in zip(theta_0, theta_1)])"
   ]
  },
  {
   "cell_type": "code",
   "execution_count": 142,
   "metadata": {},
   "outputs": [],
   "source": [
    "# OPTIMIZING after saving theta to theta_0\n",
    "with tf.control_dependencies([save_to0]):\n",
    "    opt1 = tf.train.AdamOptimizer(0.001).minimize(L1)\n",
    "    opt2 = tf.train.AdamOptimizer(0.001).minimize(L2)\n",
    "    # one learning iteration\n",
    "    opt_step = tf.group([opt1, opt2])"
   ]
  },
  {
   "cell_type": "code",
   "execution_count": 143,
   "metadata": {},
   "outputs": [],
   "source": [
    "def norm_fro_sq(x):\n",
    "    \"\"\" Flatten and take squared norm \"\"\"\n",
    "    return tf.reduce_sum(tf.square(x))"
   ]
  },
  {
   "cell_type": "code",
   "execution_count": 144,
   "metadata": {},
   "outputs": [],
   "source": [
    "# non-zero denominator\n",
    "eps_ = 1e-5\n",
    "\n",
    "# assigning theta projection after optimizing\n",
    "with tf.control_dependencies([opt_step]):\n",
    "    \n",
    "    # SLACK to go\n",
    "    R = C_max - J_C + tf.reduce_sum(\n",
    "        [tf.reduce_sum(tf.multiply(t0 - t1, g)) for t0, t1, g in zip(theta_0, theta_1, g_C) if g is not None])\n",
    "\n",
    "    # negative number if violated, zero if OK\n",
    "    R_clipped = -tf.nn.relu(-R)\n",
    "    \n",
    "    project_step = tf.group([t.assign(t + g * R_clipped / (eps_ + norm_fro_sq(g))) for t, g in zip(params, g_C) if g is not None])"
   ]
  },
  {
   "cell_type": "code",
   "execution_count": 145,
   "metadata": {},
   "outputs": [],
   "source": [
    "step = tf.group([save_to0, opt_step, project_step])\n",
    "#step = opt_step"
   ]
  },
  {
   "cell_type": "code",
   "execution_count": 190,
   "metadata": {},
   "outputs": [],
   "source": [
    "def train_step(C_max_ = 10):\n",
    "    # obtaining rollout data\n",
    "    S, A, R, C = list(zip(*get_rollout()))\n",
    "    sess.run(step, feed_dict = {states: S, actions: A, rewards: R, discounted_rewards_to_go: discount(R),\n",
    "                               C_max: C_max_, disc_costs: discount(C)\n",
    "                               })\n",
    "    return np.sum(R), np.sum(C)"
   ]
  },
  {
   "cell_type": "code",
   "execution_count": 208,
   "metadata": {},
   "outputs": [],
   "source": [
    "C_max_ = 25"
   ]
  },
  {
   "cell_type": "code",
   "execution_count": 209,
   "metadata": {},
   "outputs": [
    {
     "data": {
      "text/plain": [
       "[-1.0000693594396213, 319.86897171371527, -5.035801025622661]"
      ]
     },
     "execution_count": 209,
     "metadata": {},
     "output_type": "execute_result"
    }
   ],
   "source": [
    "init = tf.global_variables_initializer()\n",
    "sess.run(init)\n",
    "\n",
    "S, A, R, C = list(zip(*get_rollout()))\n",
    "\n",
    "sess.run([L1,L2, R_clipped], feed_dict = {states: S, actions: A, rewards: R, discounted_rewards_to_go: discount(R),\n",
    "                                         C_max: C_max_, disc_costs: discount(C)})"
   ]
  },
  {
   "cell_type": "code",
   "execution_count": 210,
   "metadata": {},
   "outputs": [
    {
     "data": {
      "text/plain": [
       "200"
      ]
     },
     "execution_count": 210,
     "metadata": {},
     "output_type": "execute_result"
    }
   ],
   "source": [
    "np.sum(gamma_discount ** np.arange(200))"
   ]
  },
  {
   "cell_type": "code",
   "execution_count": 211,
   "metadata": {},
   "outputs": [],
   "source": [
    "init = tf.global_variables_initializer()\n",
    "sess.run(init)\n",
    "r = []\n",
    "c = []"
   ]
  },
  {
   "cell_type": "code",
   "execution_count": 212,
   "metadata": {},
   "outputs": [
    {
     "name": "stderr",
     "output_type": "stream",
     "text": [
      "100%|██████████| 10000/10000 [01:10<00:00, 142.14it/s]\n"
     ]
    }
   ],
   "source": [
    "for i in tqdm(range(10000)):\n",
    "    r_, c_ = train_step(C_max_ = C_max_)\n",
    "    r.append(r_)\n",
    "    c.append(c_)"
   ]
  },
  {
   "cell_type": "markdown",
   "metadata": {},
   "source": [
    "1. Slow convergence. Try to increase step size if $\\cos (g_R, g_C)$ is approximately $1$? Measure it and check!\n",
    "2. Estimate $g_C$ over many episodes to get a more reliable constraint"
   ]
  },
  {
   "cell_type": "code",
   "execution_count": null,
   "metadata": {},
   "outputs": [],
   "source": []
  },
  {
   "cell_type": "code",
   "execution_count": 214,
   "metadata": {},
   "outputs": [
    {
     "data": {
      "image/png": "[encoded data removed]",
      "text/plain": [
       "<Figure size 432x288 with 1 Axes>"
      ]
     },
     "metadata": {
      "needs_background": "light"
     },
     "output_type": "display_data"
    }
   ],
   "source": [
    "plt.figure()\n",
    "plt.title('PPO (unsafe) on CartPole')\n",
    "plt.plot(pd.DataFrame(r).rolling(50).median(), label = 'reward')\n",
    "plt.plot(pd.DataFrame(c).rolling(50).median(), label = 'cost')\n",
    "plt.xlabel('Episode')\n",
    "plt.ylabel('Reward')\n",
    "plt.savefig('sppo.eps', bbox_inches = 'tight')\n",
    "plt.show()"
   ]
  },
  {
   "cell_type": "code",
   "execution_count": 24,
   "metadata": {},
   "outputs": [],
   "source": [
    "env = env.unwrapped"
   ]
  },
  {
   "cell_type": "code",
   "execution_count": null,
   "metadata": {},
   "outputs": [],
   "source": [
    "env = gym.wrappers.Monitor(env, './video')\n",
    "get_rollout()"
   ]
  },
  {
   "cell_type": "code",
   "execution_count": 167,
   "metadata": {},
   "outputs": [
    {
     "data": {
      "text/plain": [
       "[array([[-0.83253563, -0.68914142, -0.06116719, -0.27323933, -0.5213027 ,\n",
       "          0.6985349 , -0.64544735,  0.67992079,  0.67211518,  0.17009102],\n",
       "        [ 0.00793548,  0.66713229,  0.32365717,  0.234717  , -0.25280851,\n",
       "          0.51593658,  0.35389711, -0.16864096,  0.33962425,  0.00958664],\n",
       "        [-1.07954104,  0.4448296 ,  0.32367536,  0.01020328,  0.39434612,\n",
       "          0.26840221,  0.56831521, -0.14168297,  0.32801972,  0.3746401 ],\n",
       "        [ 0.52174677, -0.66664846, -0.19249984,  0.6350071 , -0.15556228,\n",
       "          0.54627296,  0.13961452, -0.73726243, -0.16869851, -0.54223824]]),\n",
       " array([0., 0., 0., 0., 0., 0., 0., 0., 0., 0.]),\n",
       " array([[ 0.17059255,  0.11023526,  0.05485238, -0.14846177,  0.63232917,\n",
       "          0.11522713,  0.04685403, -0.21654478, -0.27550427, -0.05408931],\n",
       "        [ 0.19957154,  0.05957377, -0.30506767, -0.42670896, -0.16968158,\n",
       "          0.20515383, -0.00418471,  0.16230165, -0.10987148,  0.37591077],\n",
       "        [-0.71681118, -0.22760498,  0.04497749,  0.13483125,  0.42712627,\n",
       "         -0.04298591,  0.42534031, -0.36038977,  0.36483289, -0.25778014],\n",
       "        [-0.00417967, -0.11856643, -0.12452879, -0.56393547,  0.34619912,\n",
       "          0.19477693,  0.08413278,  0.59606897, -0.00899105, -0.13690093],\n",
       "        [-0.38857545,  0.01276832, -0.16315351, -0.17958468, -0.06290055,\n",
       "         -0.68980895, -0.00687056, -0.15848444, -0.22896936,  0.23616322],\n",
       "        [ 0.09254937, -0.24113555, -0.22466034,  0.19351453,  0.09471879,\n",
       "         -0.26769926,  0.2833871 , -0.08565322, -0.18463636, -0.58449362],\n",
       "        [-0.04224652, -0.2998086 ,  0.08789639,  0.11704069, -0.20085917,\n",
       "          0.57778311,  0.17250346, -0.04082906, -0.38980265,  0.5173452 ],\n",
       "        [ 0.26918302,  0.32263446,  0.57929664, -0.1756546 , -0.16497957,\n",
       "          0.09180239, -0.35144466, -0.09140144,  0.08717415,  0.47223468],\n",
       "        [-0.33862868,  0.33251217, -0.02551847,  0.49250383, -0.40093997,\n",
       "         -0.28468216,  0.1742089 , -0.29393087, -0.48206433,  0.15971216],\n",
       "        [ 0.26367877, -0.28500648, -0.22806124, -0.45551728,  0.21164209,\n",
       "          0.31664524, -0.37233308, -0.16115704, -0.2109487 ,  0.25417862]]),\n",
       " array([0., 0., 0., 0., 0., 0., 0., 0., 0., 0.]),\n",
       " array([[-0.47725159, -0.26719518],\n",
       "        [-0.04970796, -0.31968978],\n",
       "        [ 0.09143227, -0.30278255],\n",
       "        [ 0.50513126, -0.40798129],\n",
       "        [-0.07428157, -0.16897297],\n",
       "        [ 0.29665531,  0.06784789],\n",
       "        [ 0.0734359 ,  0.57776189],\n",
       "        [ 0.02624531, -0.08197934],\n",
       "        [-0.00820225,  0.05182961],\n",
       "        [ 0.01302463,  0.13774721]]),\n",
       " array([0., 0.]),\n",
       " array([[ 5.15796869e-01, -1.66412012e-01,  3.11816381e-02,\n",
       "          1.68266698e-02, -2.54657136e-01,  1.09766012e-01,\n",
       "          3.73642365e-01, -1.90781935e-01,  1.50148853e-01,\n",
       "         -3.33872739e-01],\n",
       "        [ 2.79313087e-01, -5.76555022e-01, -1.49718430e-01,\n",
       "          5.19961569e-01,  5.25385750e-04, -4.67850179e-01,\n",
       "          1.98418880e-01, -2.78101026e-03, -5.13277198e-02,\n",
       "          1.57632019e-01],\n",
       "        [-2.07855242e-01, -2.61165137e-01,  4.07598165e-01,\n",
       "          2.98387332e-01,  3.04392782e-01, -4.69934542e-01,\n",
       "          1.55286178e-01, -1.14688398e-01, -2.08786478e-01,\n",
       "         -1.39862397e-01],\n",
       "        [-7.23426386e-03, -2.96687410e-01,  7.06374921e-02,\n",
       "         -6.93411549e-02,  2.72031622e-01, -4.31276581e-01,\n",
       "         -1.79906561e-01, -2.26243010e-01,  1.06072963e-02,\n",
       "          1.03520267e-01],\n",
       "        [-2.81984001e-01,  3.02021991e-02,  2.28956702e-01,\n",
       "         -2.97971303e-01, -5.00586524e-01,  6.43231497e-01,\n",
       "          1.50125203e-01,  5.05257817e-01, -3.10214801e-01,\n",
       "          1.87244776e-01],\n",
       "        [-3.73313830e-01, -7.09172774e-01, -5.34344296e-02,\n",
       "         -6.43568204e-01, -4.93864777e-01, -4.96974772e-01,\n",
       "         -4.37078400e-03, -3.79268820e-01,  2.73623760e-01,\n",
       "          1.40402854e-01],\n",
       "        [ 7.07024864e-02, -4.16174299e-01, -1.93226393e-01,\n",
       "         -2.59716386e-01,  3.16128634e-01,  1.07755660e-01,\n",
       "          2.64429292e-01, -1.94200013e-01,  1.28228805e-02,\n",
       "          3.31496236e-01],\n",
       "        [-3.43662481e-01, -3.54334830e-01, -1.78356907e-02,\n",
       "          3.13070875e-01,  2.13001996e-01, -1.54483531e-01,\n",
       "         -5.48733300e-03, -1.47154771e-02, -2.16868530e-01,\n",
       "          9.33018757e-02],\n",
       "        [-7.18474999e-01, -1.66161747e-02,  4.15908905e-01,\n",
       "         -4.87324825e-02, -3.24996527e-01,  5.26677767e-01,\n",
       "          4.08705273e-01,  1.42981493e-01,  4.58853526e-01,\n",
       "          6.68798952e-01],\n",
       "        [ 1.37588328e-01,  1.57206599e-01,  4.18275754e-01,\n",
       "         -4.89812202e-01, -2.65960148e-01,  3.63962892e-01,\n",
       "         -1.66488513e-01,  1.04526427e-01,  7.47321301e-02,\n",
       "          1.59922695e-01]]),\n",
       " array([0., 0., 0., 0., 0., 0., 0., 0., 0., 0.]),\n",
       " array([[ 0.17564981],\n",
       "        [ 0.09695644],\n",
       "        [ 0.36057073],\n",
       "        [ 0.29061088],\n",
       "        [ 0.48976568],\n",
       "        [ 0.03163569],\n",
       "        [-0.19440213],\n",
       "        [ 0.10247132],\n",
       "        [-0.18958532],\n",
       "        [ 0.5341167 ]]),\n",
       " array([0.]),\n",
       " array([[-0.34714638,  0.09804915,  0.24727809,  0.38423455,  0.36206782,\n",
       "         -0.62329112,  0.13753738, -0.042519  , -0.79491522, -0.58068   ],\n",
       "        [-0.35780091,  0.49898132,  0.24838381, -0.01182527,  1.03505306,\n",
       "          0.39249912,  0.57664847, -1.38293449, -0.75025823,  0.79418754],\n",
       "        [-0.76456597,  0.05771593,  0.23418447, -0.45220637,  0.44707024,\n",
       "         -0.45710705,  1.21605642,  2.05168008,  0.62846154,  0.22254653],\n",
       "        [-0.19317712, -0.54242918,  0.29007433,  1.07052355,  0.37996939,\n",
       "         -0.35264546,  1.03051535,  0.48377439,  0.92672492, -0.75305159]]),\n",
       " array([ 0.9406382 ,  0.90310772,  0.77268445,  0.78059053, -0.00644583,\n",
       "         0.39836285,  0.00859393,  0.33699193,  1.0905239 ,  0.42484632]),\n",
       " array([[-0.33961803, -0.05445091,  0.22962201,  0.10263891,  0.18793311,\n",
       "         -0.34329197,  0.47687884,  0.25098562,  0.38597444,  0.34258901],\n",
       "        [-0.36983592,  0.09336445, -0.35830579,  0.18482889,  0.72172033,\n",
       "         -0.34661715,  0.46396703,  0.23446008,  0.90321028,  0.21675176],\n",
       "        [ 0.04049865, -0.35341873,  0.02717748, -0.27418484,  0.15442657,\n",
       "          0.64271809, -0.19510545, -0.06697144, -0.09540976,  0.29184288],\n",
       "        [-0.18378112, -0.03317556,  1.00867309,  0.17759351, -0.80430527,\n",
       "         -0.30567821, -0.10198372,  0.09694702, -0.82997505, -0.46084575],\n",
       "        [ 0.45277309,  0.20719608, -0.06246375,  0.28428006, -0.24487321,\n",
       "          0.51931086,  0.12959499,  0.64525316,  0.16114801, -0.00356825],\n",
       "        [ 0.12593766, -0.4049964 ,  0.11493146, -0.02128744,  0.35254451,\n",
       "         -0.17424902,  1.00145906,  0.26473286, -0.04145745,  0.23834626],\n",
       "        [-0.59847963,  0.00518355,  0.78360106,  0.24002995, -0.34195242,\n",
       "          0.01377747,  0.09702758, -0.37825147,  0.17805976, -0.42927545],\n",
       "        [-0.64256704, -0.14717905,  0.57237886, -0.3719444 , -0.11924437,\n",
       "         -0.0995453 , -0.66134105, -0.83271094, -0.6590027 ,  0.1436285 ],\n",
       "        [-0.47140412,  0.15705003,  0.92691025, -0.14398565, -0.07131633,\n",
       "         -0.11378882, -0.28246176, -0.03216106,  0.16398266,  0.01000225],\n",
       "        [-0.51450518, -0.23265291, -1.12104389, -0.21398225,  0.34391614,\n",
       "         -0.25242705,  0.09080834,  0.13899676,  0.79063384,  0.43418795]]),\n",
       " array([ 0.0086705 ,  0.02457826,  0.14334787, -0.10187905,  0.16472155,\n",
       "        -0.03308786,  0.07379012,  0.13277831,  0.03229726, -0.03185137]),\n",
       " array([[-0.08258238,  0.38948114],\n",
       "        [ 0.30041088, -0.04732536],\n",
       "        [-0.95086637,  0.15934597],\n",
       "        [ 0.46489233, -0.43530584],\n",
       "        [ 0.48654235, -0.91705844],\n",
       "        [ 0.02683919, -0.33866214],\n",
       "        [ 0.52104037, -0.62677734],\n",
       "        [ 0.28043153, -0.5258978 ],\n",
       "        [ 0.59280572,  0.08731388],\n",
       "        [ 0.27743924,  0.11277457]]),\n",
       " array([-0.02865656,  0.02865656]),\n",
       " array([[ 0.90800372,  0.21550663,  0.85127106, -0.27411212, -0.68807843,\n",
       "          0.23537603,  0.59602407,  0.30148755,  0.34073627,  0.98406476],\n",
       "        [ 1.05288423, -0.33801144,  1.07605079, -0.25843189, -0.28457635,\n",
       "         -0.06520619,  0.96339669, -0.2913438 , -0.14281613,  1.05535058],\n",
       "        [ 1.40738603, -0.19892136,  0.90521871,  0.42167624, -0.11582115,\n",
       "         -0.41261718,  0.35761993, -0.79902211,  0.43534851,  0.92208022],\n",
       "        [ 1.23346976, -0.64867418,  1.63699401, -0.21907832, -0.41031097,\n",
       "         -0.21356232,  0.52966885,  0.01326238, -0.01144572,  1.1723679 ],\n",
       "        [-0.75345614, -0.48957915, -0.83159468, -0.3061788 , -0.11935796,\n",
       "          0.01087999, -0.8882455 ,  0.20037346,  0.9520902 , -0.38692305],\n",
       "        [ 0.00562954,  0.56929271,  0.56861271, -0.03718268, -0.19079807,\n",
       "          0.1707074 ,  0.11832632, -0.21294733, -0.11214718,  0.09976197],\n",
       "        [-0.8563005 ,  0.21065275, -1.0258658 , -0.04278314,  0.21232139,\n",
       "         -0.26288281, -0.75204272,  0.67411898,  0.7258165 , -0.44344374],\n",
       "        [-0.50131965,  0.25460642, -0.27377468, -0.18996609, -0.09751354,\n",
       "          0.43271502, -0.60488027,  0.66055824, -0.22562418, -0.865785  ],\n",
       "        [ 0.63055375,  0.41907657,  0.4469657 , -0.53211797, -0.41325543,\n",
       "         -0.44299232,  1.03202   ,  0.42478095, -0.25835492,  0.68796144],\n",
       "        [ 0.01741272,  0.15276611, -0.24376207, -0.30500821,  0.07386285,\n",
       "          0.57684415,  0.46578198,  0.53964486, -0.48349501,  0.3229403 ]]),\n",
       " array([ 0.61899377, -0.13387393,  0.67649832, -0.01344835,  0.        ,\n",
       "        -0.04913047,  0.51894316, -0.11243437,  0.05527901,  0.45327231]),\n",
       " array([[ 0.89260104],\n",
       "        [-0.69959319],\n",
       "        [ 0.95415629],\n",
       "        [-0.27170622],\n",
       "        [-0.25503168],\n",
       "        [-0.40780249],\n",
       "        [ 0.99838818],\n",
       "        [-0.99845089],\n",
       "        [-0.8909617 ],\n",
       "        [ 0.63014169]]),\n",
       " array([0.38588087])]"
      ]
     },
     "execution_count": 167,
     "metadata": {},
     "output_type": "execute_result"
    }
   ],
   "source": [
    "sess.run(params)"
   ]
  },
  {
   "cell_type": "code",
   "execution_count": 27,
   "metadata": {},
   "outputs": [
    {
     "data": {
      "text/plain": [
       "'./cartpole-h1.ckpt'"
      ]
     },
     "execution_count": 27,
     "metadata": {},
     "output_type": "execute_result"
    }
   ],
   "source": [
    "tf.train.Saver().save(sess, './cartpole-h1.ckpt')"
   ]
  },
  {
   "cell_type": "code",
   "execution_count": 28,
   "metadata": {},
   "outputs": [
    {
     "name": "stdout",
     "output_type": "stream",
     "text": [
      "INFO:tensorflow:Restoring parameters from ./cartpole-h1.ckpt\n"
     ]
    }
   ],
   "source": [
    "tf.train.Saver().restore(sess, './cartpole-h1.ckpt')"
   ]
  },
  {
   "cell_type": "code",
   "execution_count": null,
   "metadata": {},
   "outputs": [],
   "source": []
  }
 ],
 "metadata": {
  "kernelspec": {
   "display_name": "Python 3",
   "language": "python",
   "name": "python3"
  },
  "language_info": {
   "codemirror_mode": {
    "name": "ipython",
    "version": 3
   },
   "file_extension": ".py",
   "mimetype": "text/x-python",
   "name": "python",
   "nbconvert_exporter": "python",
   "pygments_lexer": "ipython3",
   "version": "3.6.8"
  },
  "varInspector": {
   "cols": {
    "lenName": 16,
    "lenType": 16,
    "lenVar": 40
   },
   "kernels_config": {
    "python": {
     "delete_cmd_postfix": "",
     "delete_cmd_prefix": "del ",
     "library": "var_list.py",
     "varRefreshCmd": "print(var_dic_list())"
    },
    "r": {
     "delete_cmd_postfix": ") ",
     "delete_cmd_prefix": "rm(",
     "library": "var_list.r",
     "varRefreshCmd": "cat(var_dic_list()) "
    }
   },
   "types_to_exclude": [
    "module",
    "function",
    "builtin_function_or_method",
    "instance",
    "_Feature"
   ],
   "window_display": false
  }
 },
 "nbformat": 4,
 "nbformat_minor": 2
}
