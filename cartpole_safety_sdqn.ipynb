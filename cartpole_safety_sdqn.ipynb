{
 "cells": [
  {
   "cell_type": "markdown",
   "metadata": {},
   "source": [
    "### Safe deep Q-network\n",
    "\n",
    "Have a network estimating $Q_w(s, a)$ for $-reward$, $Q^T_w(s, a)$ for stopping time $1$ iff terminal state, $Q^D_w(s, a)$ for constraint (the more the worse). $\\pi$ is eps-soft of $Q$\n",
    "1. Sample action and perform it\n",
    "2. Sample minibatch from experience replay\n",
    "3. Perform Bellman update: $\\sum\\limits_{s, a, r, s'}\\left(r+\\max_{a'}Q_{w_0}(s', a')-Q_w(s, a)\\right)^2$\n",
    "\n",
    "Networks: $Q_T, Q_D, Q, \\pi$\n",
    "\n",
    "Having collected experience D from the replay buffer:\n",
    "1. Calculate current policy $\\pi_k$ and Q-like functions (TensorFlow)\n",
    "2. Calculate $\\varepsilon$ using policy and $Q$s (TensorFlow)\n",
    "3. Using policy, Q-functions and $\\varepsilon$, solve LP to obtain $\\pi'$ (SciPy)\n",
    "4. Make a step for Bellman update using $\\pi,\\pi',\\varepsilon,Q$ (TensorFlow)\n",
    "5. Make a step towards minimizing $D_{JSD}(\\pi||\\pi')$ (TensorFlow)"
   ]
  },
  {
   "cell_type": "code",
   "execution_count": 1,
   "metadata": {},
   "outputs": [],
   "source": [
    "from xvfbwrapper import Xvfb\n",
    "\n",
    "#vdisplay = Xvfb()\n",
    "#vdisplay.start()\n",
    "\n",
    "# for environ\n",
    "import os, sys\n",
    "\n",
    "# only using device 0\n",
    "os.environ[\"CUDA_DEVICE_ORDER\"]=\"PCI_BUS_ID\"   # see issue #152\n",
    "os.environ[\"LIBGL_ALWAYS_SOFTWARE\"]=\"1\"\n",
    "#os.environ[\"CUDA_VISIBLE_DEVICES\"]=\"0\"\n",
    "\n",
    "# importing tensorflow\n",
    "import tensorflow as tf\n",
    "\n",
    "# import scipy\n",
    "import scipy, csv\n",
    "\n",
    "import pandas as pd\n",
    "\n",
    "# for linprog (faster than scipy...)\n",
    "import pulp\n",
    "\n",
    "import datetime"
   ]
  },
  {
   "cell_type": "code",
   "execution_count": 2,
   "metadata": {},
   "outputs": [],
   "source": [
    "import gym\n",
    "from gym import wrappers\n",
    "%matplotlib inline\n",
    "from matplotlib import pyplot as plt\n",
    "import numpy as np\n",
    "from tqdm import tqdm\n",
    "\n",
    "# to display environment data\n",
    "# see https://gist.github.com/thomelane/79e97630ba46c45985a946cae4805885\n",
    "from IPython import display"
   ]
  },
  {
   "cell_type": "code",
   "execution_count": 3,
   "metadata": {},
   "outputs": [
    {
     "data": {
      "text/plain": [
       "['',\n",
       " '/localhome/volodin/miniconda3/envs/neuronfailure/lib/python36.zip',\n",
       " '/localhome/volodin/miniconda3/envs/neuronfailure/lib/python3.6',\n",
       " '/localhome/volodin/miniconda3/envs/neuronfailure/lib/python3.6/lib-dynload',\n",
       " '/localhome/volodin/miniconda3/envs/neuronfailure/lib/python3.6/site-packages',\n",
       " '/localhome/volodin/miniconda3/envs/neuronfailure/lib/python3.6/site-packages/IPython/extensions',\n",
       " '/localhome/volodin/.ipython',\n",
       " '/opt/gurobi201/linux32/lib/python2.5',\n",
       " '/opt/gurobi201/linux32/lib/python2.5',\n",
       " '/localhome/volodin/local/usr/bin']"
      ]
     },
     "execution_count": 3,
     "metadata": {},
     "output_type": "execute_result"
    }
   ],
   "source": [
    "import sys\n",
    "sys.path += ['/localhome/volodin/local/usr/bin']\n",
    "sys.path"
   ]
  },
  {
   "cell_type": "code",
   "execution_count": 4,
   "metadata": {},
   "outputs": [],
   "source": [
    "from xvfbwrapper import Xvfb\n",
    "\n",
    "vdisplay = Xvfb()\n",
    "vdisplay.start()"
   ]
  },
  {
   "cell_type": "code",
   "execution_count": 5,
   "metadata": {},
   "outputs": [],
   "source": [
    "tf.reset_default_graph()\n",
    "# allowing GPU memory growth to allocate only what we need\n",
    "config = tf.ConfigProto()\n",
    "config.gpu_options.per_process_gpu_memory_fraction = 0.5\n",
    "config.gpu_options.allow_growth = True\n",
    "sess = tf.Session(config=config, graph = tf.get_default_graph())"
   ]
  },
  {
   "cell_type": "code",
   "execution_count": 6,
   "metadata": {},
   "outputs": [],
   "source": [
    "env = gym.make('CartPole-v0')"
   ]
  },
  {
   "cell_type": "code",
   "execution_count": 7,
   "metadata": {},
   "outputs": [],
   "source": [
    "# number of dimensions in state\n",
    "S_DIM = 4\n",
    "\n",
    "# number of available actions\n",
    "ACTIONS = 2\n",
    "\n",
    "# discount factor\n",
    "gamma_discount = 0.9\n",
    "\n",
    "# epsilon-greedy\n",
    "eps = 0.1\n",
    "\n",
    "# for softmax\n",
    "temperature = 1"
   ]
  },
  {
   "cell_type": "code",
   "execution_count": 8,
   "metadata": {},
   "outputs": [],
   "source": [
    "# states: double the length of actions: from-to-from-to...\n",
    "states = tf.placeholder(tf.float64, shape = (None, S_DIM,))\n",
    "\n",
    "# taken actions\n",
    "actions = tf.placeholder(tf.int64, shape = (None,))\n",
    "\n",
    "# rewards obtained\n",
    "rewards = tf.placeholder(tf.float64, shape = (None,))\n",
    "\n",
    "# costs obtained\n",
    "costs = tf.placeholder(tf.float64, shape = (None, ))\n",
    "\n",
    "# is step terminal?\n",
    "termination = tf.placeholder(tf.float64, shape = (None, ))\n",
    "\n",
    "# need next q-value (non-terminal state?)\n",
    "need_next_q = tf.placeholder(tf.float64, shape = (None, ))\n",
    "\n",
    "# new policy pi'\n",
    "logits_new_policy = tf.placeholder(tf.float64, shape = (None, ACTIONS))\n",
    "\n",
    "def fc_layer(x, n, activation = tf.nn.relu):\n",
    "    \"\"\" Fully connected layer for input x and output dim n \"\"\"\n",
    "    return tf.contrib.layers.fully_connected(x, n, activation_fn=activation,\n",
    "    weights_initializer=tf.initializers.lecun_normal(), weights_regularizer=None,\n",
    "    biases_initializer=tf.zeros_initializer(), biases_regularizer=None, trainable=True)"
   ]
  },
  {
   "cell_type": "code",
   "execution_count": 9,
   "metadata": {},
   "outputs": [],
   "source": [
    "class ExperienceReplay():\n",
    "    def __init__(self, N = 1000):\n",
    "        \"\"\" Create experience buffer with capacity N \"\"\"\n",
    "        self.N = N\n",
    "        self.buf = []\n",
    "    def store(self, exp):\n",
    "        \"\"\" Store one experience \"\"\"\n",
    "        self.buf.append(exp)\n",
    "        \n",
    "        # removing extra elements\n",
    "        extra = len(self.buf) - self.N\n",
    "        if extra > 0:\n",
    "            self.buf = self.buf[extra:]\n",
    "            \n",
    "    def sample(self, how_many = 10):\n",
    "        \"\"\" Sample a mini-batch from the buffer \"\"\"\n",
    "        assert len(self.buf) > 0, \"Experience buffer is empty, cannot sample\"\n",
    "        indices = np.random.choice(len(self.buf), how_many)\n",
    "        result = [self.buf[i] for i in indices]\n",
    "        return result"
   ]
  },
  {
   "cell_type": "code",
   "execution_count": 10,
   "metadata": {},
   "outputs": [],
   "source": [
    "common_layer = states#fc_layer(states, 20)"
   ]
  },
  {
   "cell_type": "code",
   "execution_count": 11,
   "metadata": {},
   "outputs": [],
   "source": [
    "def q_like_function(z = common_layer):\n",
    "    # Q network head\n",
    "    with tf.name_scope('q_layers'):\n",
    "        \n",
    "        # state is an input to the network\n",
    "        #z = states\n",
    "\n",
    "        # some fully connected stuff\n",
    "        z = fc_layer(z, 20)\n",
    "\n",
    "        # some fully connected stuff\n",
    "        #z = fc_layer(z, 10)\n",
    "        \n",
    "        #z = fc_layer(z, 10)\n",
    "        #z_policy = fc_layer(z, 10)\n",
    "        z_policy = z\n",
    "        z_policy = fc_layer(z_policy, ACTIONS, activation = None)\n",
    "        q_values = z_policy\n",
    "        #logits_policy = tf.nn.softmax(z_policy)\n",
    "        # predicted labels\n",
    "        logits_policy = tf.nn.softmax(temperature * q_values)\n",
    "    return q_values, logits_policy"
   ]
  },
  {
   "cell_type": "code",
   "execution_count": 12,
   "metadata": {},
   "outputs": [],
   "source": [
    "# maximal constraint violation\n",
    "d0 = tf.placeholder(tf.float64)"
   ]
  },
  {
   "cell_type": "code",
   "execution_count": 13,
   "metadata": {},
   "outputs": [],
   "source": [
    "q_reward, _ = q_like_function()\n",
    "q_termination, _ = q_like_function()\n",
    "q_cost, _ = q_like_function()"
   ]
  },
  {
   "cell_type": "code",
   "execution_count": 14,
   "metadata": {},
   "outputs": [],
   "source": [
    "_, logits_policy = q_like_function()\n",
    "# taken logits (from state)\n",
    "logits_from = logits_policy[0::2]\n",
    "def dot_and_sum1(Z1, Z2):\n",
    "    \"\"\" Return a vector of length Z1.shape[0] == Z2.shape[0] with i'th entry being sum of Z1ik*Z2ik \"\"\"\n",
    "    return tf.reduce_sum(tf.multiply(Z1, Z2), axis = 1)\n",
    "eps_lyapunov = d0 - dot_and_sum1(logits_policy, q_cost) / dot_and_sum1(logits_policy, q_termination)\n",
    "q_lyapunov = q_cost + tf.multiply(q_termination, tf.expand_dims(eps_lyapunov, 1))"
   ]
  },
  {
   "cell_type": "code",
   "execution_count": 15,
   "metadata": {},
   "outputs": [],
   "source": [
    "def mse(x, y):\n",
    "    \"\"\" Mean squared error tensor \"\"\"\n",
    "    return tf.reduce_mean(tf.square(tf.cast(x, tf.float64) - tf.cast(y, tf.float64)))"
   ]
  },
  {
   "cell_type": "code",
   "execution_count": 16,
   "metadata": {},
   "outputs": [],
   "source": [
    "# one-hot encoded actions\n",
    "a_one_hot = tf.one_hot(actions, ACTIONS)"
   ]
  },
  {
   "cell_type": "code",
   "execution_count": 17,
   "metadata": {},
   "outputs": [],
   "source": [
    "def soft_bellman_loss(a_one_hot, rewards, q_values_from_to, logits_policy, need_next_q):\n",
    "    \"\"\" Bellman residual w.r.t. actions, rewards and q-values \"\"\"\n",
    "    # q-values from-to, equal length\n",
    "    q_values_from = q_values_from_to[0::2, :]\n",
    "    q_values_to = q_values_from_to[1::2, :]\n",
    "\n",
    "    # taken Q value (from)\n",
    "    q_taken = tf.boolean_mask(q_values_from, a_one_hot)\n",
    "\n",
    "    # maximal Q value\n",
    "    # TODO: replace with soft (use logits!)\n",
    "    #q_max   = tf.reduce_max(tf.stop_gradient(q_values_to), axis = 1)\n",
    "    q_soft = dot_and_sum1(q_values_to, logits_policy)\n",
    "    \n",
    "    # loss tensor (only optimizing over q_taken!)\n",
    "    loss = mse(rewards + gamma_discount * tf.multiply(need_next_q, tf.stop_gradient(q_soft)), q_taken)\n",
    "    return loss"
   ]
  },
  {
   "cell_type": "code",
   "execution_count": 18,
   "metadata": {},
   "outputs": [],
   "source": [
    "def cost(obs):\n",
    "    \"\"\" Calculate scalar cost of one observation \"\"\"\n",
    "    assert isinstance(obs, np.ndarray) and obs.shape == (4,), \"Input must be an np-array [x xdot phi phidot]\"\n",
    "    \n",
    "    # parsing input\n",
    "    x, x_dot, phi, phi_dot = obs\n",
    "    \n",
    "    #X_MAX = 1.0\n",
    "    #X_DOT_MAX = 0.5\n",
    "    #PHI_MAX = 0.1\n",
    "    #PHI_DOT_MAX = 0.5\n",
    "    \n",
    "    if x < 0 or phi < 0:\n",
    "        return 1\n",
    "    \n",
    "    #if np.any(np.abs([x, x_dot, phi, phi_dot]) > [X_MAX, X_DOT_MAX, PHI_MAX, PHI_DOT_MAX]):\n",
    "    #    return 1\n",
    "    \n",
    "    # in all other cases no cost\n",
    "    return 0"
   ]
  },
  {
   "cell_type": "code",
   "execution_count": 19,
   "metadata": {},
   "outputs": [],
   "source": [
    "# Bellmann losses\n",
    "#loss_r = soft_bellman_loss(a_one_hot, rewards, q_reward, logits_new_policy, need_next_q)\n",
    "loss_r = soft_bellman_loss(a_one_hot, rewards, q_reward, logits_new_policy, need_next_q)\n",
    "#loss_r = soft_bellman_loss(a_one_hot, rewards, q_reward, logits_from, need_next_q)\n",
    "#loss_r = soft_bellman_loss(a_one_hot, rewards, q_reward, logits_reward[0::2], need_next_q)\n",
    "loss_d = soft_bellman_loss(a_one_hot, costs, q_cost, logits_from, need_next_q)\n",
    "loss_t = soft_bellman_loss(a_one_hot, termination, q_termination, logits_from, need_next_q)"
   ]
  },
  {
   "cell_type": "code",
   "execution_count": 20,
   "metadata": {},
   "outputs": [],
   "source": [
    "loss_bellman = loss_r + loss_d + loss_t"
   ]
  },
  {
   "cell_type": "code",
   "execution_count": 21,
   "metadata": {},
   "outputs": [],
   "source": [
    "# Jensen-Shannon Divergence\n",
    "# D_{JS}(P, Q) = 0.5 * D_KL(P || M) + 0.5 * D_KL(Q || M)\n",
    "# M = 0.5 * (P + Q) -> normalized!\n",
    "def kl(x, y):\n",
    "    \"\"\" KL-divergence \"\"\"\n",
    "    X = tf.distributions.Categorical(probs=x)\n",
    "    Y = tf.distributions.Categorical(probs=y)\n",
    "    return tf.distributions.kl_divergence(X, Y)\n",
    "def jsd(x, y):\n",
    "    M = 0.5 * (x + y)\n",
    "    return 0.5 * kl(x, M) + 0.5 * kl(y, M)"
   ]
  },
  {
   "cell_type": "code",
   "execution_count": 22,
   "metadata": {},
   "outputs": [],
   "source": [
    "# logits of policy (taken, from original state)\n",
    "# using MSE instead of JSD...\n",
    "#loss_jsd = tf.reduce_mean(mse(logits_from, logits_new_policy))\n",
    "\n",
    "loss_jsd = tf.reduce_mean(jsd(logits_from, logits_new_policy))"
   ]
  },
  {
   "cell_type": "code",
   "execution_count": 23,
   "metadata": {},
   "outputs": [],
   "source": [
    "tf.summary.scalar('q_norm_r', tf.reduce_mean(tf.norm(q_reward, axis = 1)))\n",
    "tf.summary.scalar('q_norm_d', tf.reduce_mean(tf.norm(q_cost, axis = 1)))\n",
    "tf.summary.scalar('q_norm_t', tf.reduce_mean(tf.norm(q_termination, axis = 1)))\n",
    "tf.summary.scalar('loss_r', loss_r)\n",
    "tf.summary.scalar('loss_d', loss_d)\n",
    "tf.summary.scalar('loss_t', loss_t)\n",
    "tf.summary.scalar('loss_jsd', loss_jsd)\n",
    "tf.summary.scalar('mean_act', tf.reduce_mean(tf.cast(tf.argmax(a_one_hot, axis = 1), dtype=tf.float64)))\n",
    "tf.summary.scalar('episode_length', tf.reduce_sum(tf.shape(rewards)))\n",
    "tf.summary.scalar('reward', tf.reduce_sum(rewards))\n",
    "tf.summary.scalar('termination', tf.reduce_sum(termination))\n",
    "tf.summary.scalar('cost', tf.reduce_sum(costs))\n",
    "tf.summary.scalar('pi_vs_qR', mse(tf.argmax(q_reward[0::2], axis = 1), tf.argmax(logits_from, axis = 1)))\n",
    "pass"
   ]
  },
  {
   "cell_type": "code",
   "execution_count": 24,
   "metadata": {},
   "outputs": [],
   "source": [
    "summary = tf.summary.merge_all()\n",
    "summary_i = 0\n",
    "s_writer = tf.summary.FileWriter('./tensorboard/' + str(datetime.datetime.now()))"
   ]
  },
  {
   "cell_type": "code",
   "execution_count": 25,
   "metadata": {},
   "outputs": [],
   "source": [
    "params = tf.trainable_variables()"
   ]
  },
  {
   "cell_type": "code",
   "execution_count": 26,
   "metadata": {},
   "outputs": [],
   "source": [
    "def replay_test():\n",
    "    replay = ExperienceReplay()\n",
    "    replay.store([1,2])\n",
    "    replay.store([3,4])\n",
    "    rs = replay.sample()\n",
    "    assert [1,2] in rs or [3,4] in rs\n",
    "    \n",
    "    replay = ExperienceReplay(N = 3)\n",
    "\n",
    "    replay.store(1)\n",
    "    replay.store(2)\n",
    "    replay.store(3)\n",
    "    replay.store(4)\n",
    "    replay.store(5)\n",
    "    replay.store(6)\n",
    "\n",
    "    assert replay.buf == [4, 5, 6]\n",
    "replay_test()"
   ]
  },
  {
   "cell_type": "code",
   "execution_count": 27,
   "metadata": {},
   "outputs": [],
   "source": [
    "def sample_action(observation):\n",
    "    \"\"\" Sample an action from the policy \"\"\"\n",
    "    \n",
    "    global sample_q, eps\n",
    "    \n",
    "    if sample_q: # sampling from the Q-function\n",
    "        if np.random.random() <= eps:\n",
    "            return env.action_space.sample()\n",
    "        \n",
    "        p = sess.run(q_reward, feed_dict = {states: [observation]})[0]\n",
    "        # argmax for q-function\n",
    "        return np.argmax(p)\n",
    "    else: # sampling from the policy\n",
    "        p = sess.run(logits_policy, feed_dict = {states: [observation]})[0]\n",
    "    \n",
    "        # choice for real policy\n",
    "        return np.random.choice(range(2), p = p)"
   ]
  },
  {
   "cell_type": "code",
   "execution_count": 28,
   "metadata": {},
   "outputs": [],
   "source": [
    "def get_rollout():\n",
    "    \"\"\" Obtain rollout using policy \"\"\"\n",
    "    done = False\n",
    "    observation = env.reset()\n",
    "    sarsnc = []\n",
    "    # S: from state\n",
    "    # A: action\n",
    "    # R: reward obtained\n",
    "    # S: new state\n",
    "    # N: true if need next (non-terminal)\n",
    "    # C: cost obtained\n",
    "    while not done:\n",
    "        act = sample_action(observation)\n",
    "        observation_, reward, done, info = env.step(act) # take a random action\n",
    "        curr = (observation, act, reward, observation_, True, cost(observation_))\n",
    "        sarsnc.append(curr)\n",
    "        replay.store(curr)\n",
    "        \n",
    "        if done:\n",
    "            # crucial, otherwise Q blows up...\n",
    "            replay.store((observation_, sample_action(observation_), reward, observation_, False, cost(observation_)))\n",
    "        \n",
    "        observation = observation_\n",
    "    env.close()\n",
    "    #print(len(replay.buf), len(sars))\n",
    "    return sarsnc"
   ]
  },
  {
   "cell_type": "code",
   "execution_count": 29,
   "metadata": {},
   "outputs": [
    {
     "name": "stderr",
     "output_type": "stream",
     "text": [
      "/localhome/volodin/miniconda3/envs/neuronfailure/lib/python3.6/site-packages/tensorflow/python/ops/gradients_impl.py:112: UserWarning: Converting sparse IndexedSlices to a dense Tensor of unknown shape. This may consume a large amount of memory.\n",
      "  \"Converting sparse IndexedSlices to a dense Tensor of unknown shape. \"\n"
     ]
    }
   ],
   "source": [
    "# using a separate optimizer for each loss (can have different coefficients...)\n",
    "losses = [loss_r, loss_d, loss_t, loss_jsd]\n",
    "bellman_losses = [loss_r, loss_d, loss_t]\n",
    "\n",
    "def loss_to_opt(lst):\n",
    "    \"\"\" List of losses -> group optimize operation \"\"\"\n",
    "    return tf.group([tf.train.AdamOptimizer(0.1).minimize(loss) for loss in lst])\n",
    "    \n",
    "\n",
    "# iteration for Bellman updates\n",
    "opt_bellman = loss_to_opt(bellman_losses)\n",
    "opt_jsd = loss_to_opt([loss_jsd])"
   ]
  },
  {
   "cell_type": "code",
   "execution_count": 30,
   "metadata": {},
   "outputs": [],
   "source": [
    "def interleave(A, B):\n",
    "    \"\"\" Interleave two lists A, B: a1b1a2b2... \"\"\"\n",
    "    # https://stackoverflow.com/questions/7946798/interleave-multiple-lists-of-the-same-length-in-python\n",
    "    assert len(A) == len(B), \"Must have arrays of same length\"\n",
    "    return [val for tup in zip(A, B) for val in tup]\n",
    "assert interleave([1,2,3],[4,5,6]) == [1, 4, 2, 5, 3, 6]"
   ]
  },
  {
   "cell_type": "code",
   "execution_count": 31,
   "metadata": {},
   "outputs": [],
   "source": [
    "def train_step(L = 200, d0_ = 50, learn_policy = False, learn_q = False):\n",
    "    # sampling same size\n",
    "    S0, A, R, S1, N, C = list(zip(*replay.sample(L)))\n",
    "    \n",
    "    # taking some data from the environment (sampling...)\n",
    "    #S0, A, R, S1, N, C = zip(*get_rollout())\n",
    "\n",
    "    # converting to float\n",
    "    N = 1. * np.array(N)\n",
    "\n",
    "    # feed dictionary for TF\n",
    "    feed = {states: interleave(S0, S1), actions: A, rewards: R, costs: C,\n",
    "            d0: d0_, need_next_q: N, termination: 1 - N}\n",
    "    \n",
    "    # obtaining current policy\n",
    "    pi_k, q_L, q_R, eps_L = sess.run((logits_from, q_lyapunov, q_reward, eps_lyapunov), feed_dict = feed)\n",
    "    \n",
    "    # taking FROM for q_L, q_R, eps_L\n",
    "    q_L = q_L[0::2,:]\n",
    "    q_R = q_R[0::2,:]\n",
    "    eps_L = eps_L[0::2]\n",
    "    \n",
    "    # sanity check for length\n",
    "    assert len(q_L) == len(q_R) == len(eps_L) == L\n",
    "\n",
    "    # if item is 0, replace it to this\n",
    "    # to fix KL divergence blowing up\n",
    "    kl_eps = 1e-2\n",
    "    \n",
    "    # lower/upper bound for variables\n",
    "    lb, ub = kl_eps, 1.0\n",
    "    \n",
    "    # number of variables: |A| * |Batch|\n",
    "    n_vars = (pi_k.shape[0] * ACTIONS)\n",
    "    \n",
    "    # new policy is initialy None\n",
    "    pi_new = None\n",
    "    \n",
    "    # solving the LP\n",
    "    # Use https://docs.scipy.org/doc/scipy/reference/generated/scipy.optimize.linprog.html\n",
    "    # to solve a linear program\n",
    "    try:\n",
    "        # creating a maximization problem\n",
    "        prob = pulp.LpProblem(\"policy\", pulp.LpMaximize)\n",
    "        \n",
    "        # creating variables lb <= x_i <= ub\n",
    "        x = pulp.LpVariable.dicts('x', range(n_vars), lowBound=lb, upBound = ub)\n",
    "        \n",
    "        # flattening q_R S1A1 S1A2 S2A1 S2A2 ...\n",
    "        q_Rf = q_R.flatten()\n",
    "        \n",
    "        # all variables flattened\n",
    "        x_vars = [x[i] for i in range(n_vars)]\n",
    "        \n",
    "        # adding objective: (Q_R, x)\n",
    "        prob += pulp.lpSum([Ri * xi for Ri, xi in zip(q_Rf, x_vars)]), \"objective\"\n",
    "        \n",
    "        # sanity check for length\n",
    "        assert len(q_Rf) == len(x_vars)\n",
    "        \n",
    "        # adding constraints\n",
    "        for i in range(n_vars // ACTIONS):\n",
    "            # adding probability constraint\n",
    "            prob += pulp.lpSum([x[2 * i], x[2 * i + 1]]) == 1.0\n",
    "            \n",
    "            # NOT including safety...\n",
    "            continue\n",
    "            \n",
    "            cqL = q_L[i, 0]\n",
    "            cqR = q_L[i, 1]\n",
    "            xL = x[2 * i]\n",
    "            xR = x[2 * i + 1]\n",
    "            prob += pulp.lpSum(xL * cqL + xR * cqR) <= eps_L[i] + pi_k[i,0] * cqL + pi_k[i,1] * cqR\n",
    "\n",
    "        # solving the problem\n",
    "        status = prob.solve()\n",
    "        \n",
    "        # obtaining new policy\n",
    "        pi_new = np.array([xx.value() for xx in x_vars])\n",
    "        #print(pulp.LpStatus[status])\n",
    "    except:\n",
    "        pass\n",
    "        # otherwise, it's N\n",
    "        #pi_new = float('nan')\n",
    "        \n",
    "    # if no new policy, assign it to old policy\n",
    "    #print(q_R)\n",
    "    if pi_new is None or np.isnan(np.linalg.norm(pi_new)):\n",
    "        print('Optimization for pi failed... Only doing Bellman update', sys.exc_info())\n",
    "        pi_new = pi_k\n",
    "    else:\n",
    "        \n",
    "        \n",
    "        #print('iszero', pi_new, pi_new == 0.0)\n",
    "\n",
    "        # fixing kl_eps\n",
    "        #pi_new[pi_new == 0.0] = kl_eps\n",
    "\n",
    "        # next policy (zipping back)\n",
    "        pi_new = np.array([pi_new[0::2], pi_new[1::2]]).T\n",
    "    \n",
    "    # argmax(q) = argmax(pi_new)\n",
    "    assert np.allclose(np.argmax(q_R, axis = 1), np.argmax(pi_new, axis = 1))\n",
    "\n",
    "    # adding data to FEED dict\n",
    "    feed[logits_new_policy] = pi_new\n",
    "    \n",
    "    if learn_q:\n",
    "        # running BELLMAN update\n",
    "        summary_res, _ = sess.run([summary, opt_bellman], feed_dict = feed)\n",
    "        global summary_i, s_writer\n",
    "        s_writer.add_summary(summary_res, summary_i)\n",
    "        summary_i += 1\n",
    "    \n",
    "    #print(pi_k, pi_new)\n",
    "    #print(\"pi_k avg, pi_new avg\", np.mean(np.argmax(pi_k, axis = 1)), np.mean(np.argmax(pi_new, axis = 1)), np.min(pi_k), np.max(pi_k))\n",
    "    \n",
    "    # only learn policy if said to do so\n",
    "    if learn_policy:\n",
    "        # training 10 times for JSD\n",
    "        for i in range(1):\n",
    "            summary_res, _ = sess.run([summary, opt_jsd], feed_dict = feed)\n",
    "            s_writer.add_summary(summary_res, summary_i)\n",
    "            summary_i += 1\n",
    "    \n",
    "    if False:\n",
    "        print('pi_k', pi_k)\n",
    "        print('q_L', q_L)\n",
    "        print('q_R', q_R)\n",
    "        print('eps_L', eps_L)\n",
    "        print('pi_new', pi_new)\n",
    "        print('l_j', l_j)\n",
    "    \n",
    "    return np.sum(R), np.sum(C)"
   ]
  },
  {
   "cell_type": "code",
   "execution_count": 32,
   "metadata": {},
   "outputs": [],
   "source": [
    "def get_current_eps(eps_decay, iteration):\n",
    "    # finding minimal key s.t. <= iteration\n",
    "    for key in sorted(eps_decay.keys(), reverse = True):\n",
    "        if key <= iteration:\n",
    "            return eps_decay[key]\n",
    "    print(\"Error: could not find eps\")\n",
    "    return None\n",
    "\n",
    "def test_decay():\n",
    "    eps_decay = {0: 0.9, 100: 0.5, 200: 0.3, 300: 0.1, 500: 0}\n",
    "    assert get_current_eps(eps_decay, 499) == 0.1\n",
    "    assert get_current_eps(eps_decay, 1000) == 0\n",
    "    assert get_current_eps(eps_decay, 500) == 0\n",
    "    assert get_current_eps(eps_decay, 100) == 0.5\n",
    "    assert get_current_eps(eps_decay, 0) == 0.9\n",
    "test_decay()"
   ]
  },
  {
   "cell_type": "code",
   "execution_count": 33,
   "metadata": {},
   "outputs": [],
   "source": [
    "eps_decay = {0: 0.9, 300: 0.5, 300: 0.1, 400: 0}\n",
    "#eps_decay = {0: 0.9, 300: 0., 1300: 0.1, 1500: 0}"
   ]
  },
  {
   "cell_type": "code",
   "execution_count": 34,
   "metadata": {},
   "outputs": [
    {
     "data": {
      "image/png": "[encoded data removed]",
      "text/plain": [
       "<Figure size 432x288 with 1 Axes>"
      ]
     },
     "metadata": {
      "needs_background": "light"
     },
     "output_type": "display_data"
    }
   ],
   "source": [
    "plt.title('Epsilon greedy decay')\n",
    "plt.ylabel('eps for eps-greedy')\n",
    "plt.xlabel('Iteration')\n",
    "plt.plot(eps_decay.keys(), eps_decay.values())\n",
    "plt.show()"
   ]
  },
  {
   "cell_type": "code",
   "execution_count": 35,
   "metadata": {},
   "outputs": [],
   "source": [
    "init = tf.global_variables_initializer()\n",
    "sess.run(init)\n",
    "replay = ExperienceReplay(N = 5000)\n",
    "r = []\n",
    "c = []"
   ]
  },
  {
   "cell_type": "code",
   "execution_count": 36,
   "metadata": {},
   "outputs": [
    {
     "data": {
      "text/plain": [
       "0.1"
      ]
     },
     "execution_count": 36,
     "metadata": {},
     "output_type": "execute_result"
    }
   ],
   "source": [
    "eps"
   ]
  },
  {
   "cell_type": "code",
   "execution_count": 37,
   "metadata": {},
   "outputs": [
    {
     "name": "stdout",
     "output_type": "stream",
     "text": [
      "9\n"
     ]
    }
   ],
   "source": [
    "# sample from Q function to train q-function\n",
    "sample_q = True\n",
    "\n",
    "print(len(get_rollout()))"
   ]
  },
  {
   "cell_type": "code",
   "execution_count": 38,
   "metadata": {},
   "outputs": [
    {
     "name": "stderr",
     "output_type": "stream",
     "text": [
      "100%|██████████| 500/500 [00:28<00:00, 17.27it/s]\n"
     ]
    }
   ],
   "source": [
    "# Learning q-network\n",
    "for i in tqdm(range(500)):\n",
    "    # obtaining current epsilon for exploration\n",
    "    #print('GetEps')\n",
    "    eps = get_current_eps(eps_decay, i)\n",
    "    \n",
    "    #print('Rollouts')\n",
    "    \n",
    "    # obtaining rollout\n",
    "    for i in range(2):\n",
    "        sarsnc = get_rollout()\n",
    "        _, _, R, _, _, C = zip(*sarsnc)\n",
    "        r.append(np.sum(R))\n",
    "        c.append(np.sum(C))\n",
    "        \n",
    "    # training the agent\n",
    "    train_step(L = 100, d0_ = 1000, learn_policy = False, learn_q = True)\n",
    "    #print(len(replay.buf))"
   ]
  },
  {
   "cell_type": "code",
   "execution_count": 39,
   "metadata": {},
   "outputs": [
    {
     "name": "stdout",
     "output_type": "stream",
     "text": [
      "200\n"
     ]
    }
   ],
   "source": [
    "sample_q = True # still sampling from Q to get behavior, but training pi\n",
    "print(len(get_rollout()))"
   ]
  },
  {
   "cell_type": "code",
   "execution_count": 40,
   "metadata": {},
   "outputs": [],
   "source": [
    "# why reward is bigger than it seems?.."
   ]
  },
  {
   "cell_type": "code",
   "execution_count": 41,
   "metadata": {
    "scrolled": true
   },
   "outputs": [
    {
     "name": "stderr",
     "output_type": "stream",
     "text": [
      "\r",
      "  0%|          | 0/100 [00:00<?, ?it/s]"
     ]
    },
    {
     "name": "stdout",
     "output_type": "stream",
     "text": [
      "161\n"
     ]
    },
    {
     "name": "stderr",
     "output_type": "stream",
     "text": [
      "  3%|▎         | 3/100 [00:00<00:15,  6.14it/s]"
     ]
    },
    {
     "name": "stdout",
     "output_type": "stream",
     "text": [
      "200\n",
      "103\n",
      "112\n"
     ]
    },
    {
     "name": "stderr",
     "output_type": "stream",
     "text": [
      "  7%|▋         | 7/100 [00:00<00:10,  8.59it/s]"
     ]
    },
    {
     "name": "stdout",
     "output_type": "stream",
     "text": [
      "113\n",
      "119\n",
      "138\n"
     ]
    },
    {
     "name": "stderr",
     "output_type": "stream",
     "text": [
      "\r",
      "  9%|▉         | 9/100 [00:00<00:09,  9.13it/s]"
     ]
    },
    {
     "name": "stdout",
     "output_type": "stream",
     "text": [
      "198\n",
      "192\n",
      "140\n"
     ]
    },
    {
     "name": "stderr",
     "output_type": "stream",
     "text": [
      "\r",
      " 11%|█         | 11/100 [00:00<00:08, 10.07it/s]"
     ]
    },
    {
     "name": "stdout",
     "output_type": "stream",
     "text": [
      "129\n",
      "200\n",
      "115\n"
     ]
    },
    {
     "name": "stderr",
     "output_type": "stream",
     "text": [
      " 15%|█▌        | 15/100 [00:01<00:07, 10.96it/s]"
     ]
    },
    {
     "name": "stdout",
     "output_type": "stream",
     "text": [
      "173\n",
      "125\n",
      "113\n"
     ]
    },
    {
     "name": "stderr",
     "output_type": "stream",
     "text": [
      "\r",
      " 17%|█▋        | 17/100 [00:01<00:07, 11.73it/s]"
     ]
    },
    {
     "name": "stdout",
     "output_type": "stream",
     "text": [
      "119\n",
      "176\n",
      "133\n"
     ]
    },
    {
     "name": "stderr",
     "output_type": "stream",
     "text": [
      " 21%|██        | 21/100 [00:01<00:06, 12.40it/s]"
     ]
    },
    {
     "name": "stdout",
     "output_type": "stream",
     "text": [
      "125\n",
      "106\n",
      "200\n"
     ]
    },
    {
     "name": "stderr",
     "output_type": "stream",
     "text": [
      " 25%|██▌       | 25/100 [00:02<00:05, 12.58it/s]"
     ]
    },
    {
     "name": "stdout",
     "output_type": "stream",
     "text": [
      "123\n",
      "113\n",
      "145\n"
     ]
    },
    {
     "name": "stderr",
     "output_type": "stream",
     "text": [
      "\r",
      " 27%|██▋       | 27/100 [00:02<00:05, 12.99it/s]"
     ]
    },
    {
     "name": "stdout",
     "output_type": "stream",
     "text": [
      "117\n",
      "105\n",
      "113\n"
     ]
    },
    {
     "name": "stderr",
     "output_type": "stream",
     "text": [
      " 31%|███       | 31/100 [00:02<00:05, 12.82it/s]"
     ]
    },
    {
     "name": "stdout",
     "output_type": "stream",
     "text": [
      "190\n",
      "135\n",
      "125\n"
     ]
    },
    {
     "name": "stderr",
     "output_type": "stream",
     "text": [
      "\r",
      " 33%|███▎      | 33/100 [00:02<00:05, 12.62it/s]"
     ]
    },
    {
     "name": "stdout",
     "output_type": "stream",
     "text": [
      "129\n",
      "153\n",
      "126\n"
     ]
    },
    {
     "name": "stderr",
     "output_type": "stream",
     "text": [
      "\r",
      " 35%|███▌      | 35/100 [00:02<00:05, 12.78it/s]"
     ]
    },
    {
     "name": "stdout",
     "output_type": "stream",
     "text": [
      "136\n",
      "137\n",
      "181\n"
     ]
    },
    {
     "name": "stderr",
     "output_type": "stream",
     "text": [
      " 39%|███▉      | 39/100 [00:03<00:04, 12.60it/s]"
     ]
    },
    {
     "name": "stdout",
     "output_type": "stream",
     "text": [
      "128\n",
      "119\n",
      "124\n"
     ]
    },
    {
     "name": "stderr",
     "output_type": "stream",
     "text": [
      "\r",
      " 41%|████      | 41/100 [00:03<00:04, 12.66it/s]"
     ]
    },
    {
     "name": "stdout",
     "output_type": "stream",
     "text": [
      "179\n",
      "165\n",
      "163\n"
     ]
    },
    {
     "name": "stderr",
     "output_type": "stream",
     "text": [
      " 45%|████▌     | 45/100 [00:03<00:04, 12.17it/s]"
     ]
    },
    {
     "name": "stdout",
     "output_type": "stream",
     "text": [
      "139\n",
      "159\n",
      "159\n"
     ]
    },
    {
     "name": "stderr",
     "output_type": "stream",
     "text": [
      " 49%|████▉     | 49/100 [00:04<00:04, 12.54it/s]"
     ]
    },
    {
     "name": "stdout",
     "output_type": "stream",
     "text": [
      "168\n",
      "117\n",
      "105\n"
     ]
    },
    {
     "name": "stderr",
     "output_type": "stream",
     "text": [
      "\r",
      " 51%|█████     | 51/100 [00:04<00:03, 12.70it/s]"
     ]
    },
    {
     "name": "stdout",
     "output_type": "stream",
     "text": [
      "131\n",
      "141\n",
      "129\n"
     ]
    },
    {
     "name": "stderr",
     "output_type": "stream",
     "text": [
      " 55%|█████▌    | 55/100 [00:04<00:03, 12.73it/s]"
     ]
    },
    {
     "name": "stdout",
     "output_type": "stream",
     "text": [
      "106\n",
      "141\n",
      "152\n"
     ]
    },
    {
     "name": "stderr",
     "output_type": "stream",
     "text": [
      "\r",
      " 57%|█████▋    | 57/100 [00:04<00:03, 12.95it/s]"
     ]
    },
    {
     "name": "stdout",
     "output_type": "stream",
     "text": [
      "119\n",
      "122\n",
      "103\n"
     ]
    },
    {
     "name": "stderr",
     "output_type": "stream",
     "text": [
      "\r",
      " 59%|█████▉    | 59/100 [00:04<00:03, 13.32it/s]"
     ]
    },
    {
     "name": "stdout",
     "output_type": "stream",
     "text": [
      "121\n",
      "165\n",
      "184\n"
     ]
    },
    {
     "name": "stderr",
     "output_type": "stream",
     "text": [
      " 63%|██████▎   | 63/100 [00:05<00:02, 12.82it/s]"
     ]
    },
    {
     "name": "stdout",
     "output_type": "stream",
     "text": [
      "149\n",
      "101\n",
      "105\n"
     ]
    },
    {
     "name": "stderr",
     "output_type": "stream",
     "text": [
      "\r",
      " 65%|██████▌   | 65/100 [00:05<00:02, 12.91it/s]"
     ]
    },
    {
     "name": "stdout",
     "output_type": "stream",
     "text": [
      "165\n",
      "108\n",
      "193\n"
     ]
    },
    {
     "name": "stderr",
     "output_type": "stream",
     "text": [
      " 69%|██████▉   | 69/100 [00:05<00:02, 12.17it/s]"
     ]
    },
    {
     "name": "stdout",
     "output_type": "stream",
     "text": [
      "200\n",
      "136\n",
      "128\n"
     ]
    },
    {
     "name": "stderr",
     "output_type": "stream",
     "text": [
      " 73%|███████▎  | 73/100 [00:05<00:02, 12.44it/s]"
     ]
    },
    {
     "name": "stdout",
     "output_type": "stream",
     "text": [
      "145\n",
      "200\n",
      "118\n"
     ]
    },
    {
     "name": "stderr",
     "output_type": "stream",
     "text": [
      "\r",
      " 75%|███████▌  | 75/100 [00:06<00:02, 12.27it/s]"
     ]
    },
    {
     "name": "stdout",
     "output_type": "stream",
     "text": [
      "161\n",
      "150\n",
      "137\n"
     ]
    },
    {
     "name": "stderr",
     "output_type": "stream",
     "text": [
      "\r",
      " 77%|███████▋  | 77/100 [00:06<00:01, 12.27it/s]"
     ]
    },
    {
     "name": "stdout",
     "output_type": "stream",
     "text": [
      "144\n",
      "155\n",
      "170\n"
     ]
    },
    {
     "name": "stderr",
     "output_type": "stream",
     "text": [
      " 81%|████████  | 81/100 [00:06<00:01, 12.22it/s]"
     ]
    },
    {
     "name": "stdout",
     "output_type": "stream",
     "text": [
      "169\n",
      "119\n",
      "95\n"
     ]
    },
    {
     "name": "stderr",
     "output_type": "stream",
     "text": [
      " 85%|████████▌ | 85/100 [00:06<00:01, 12.54it/s]"
     ]
    },
    {
     "name": "stdout",
     "output_type": "stream",
     "text": [
      "126\n",
      "200\n",
      "123\n"
     ]
    },
    {
     "name": "stderr",
     "output_type": "stream",
     "text": [
      "\r",
      " 87%|████████▋ | 87/100 [00:07<00:01, 12.73it/s]"
     ]
    },
    {
     "name": "stdout",
     "output_type": "stream",
     "text": [
      "123\n",
      "147\n",
      "166\n"
     ]
    },
    {
     "name": "stderr",
     "output_type": "stream",
     "text": [
      " 91%|█████████ | 91/100 [00:07<00:00, 12.97it/s]"
     ]
    },
    {
     "name": "stdout",
     "output_type": "stream",
     "text": [
      "139\n",
      "123\n",
      "155\n"
     ]
    },
    {
     "name": "stderr",
     "output_type": "stream",
     "text": [
      "\r",
      " 93%|█████████▎| 93/100 [00:07<00:00, 12.53it/s]"
     ]
    },
    {
     "name": "stdout",
     "output_type": "stream",
     "text": [
      "200\n",
      "123\n",
      "157\n"
     ]
    },
    {
     "name": "stderr",
     "output_type": "stream",
     "text": [
      " 97%|█████████▋| 97/100 [00:07<00:00, 12.98it/s]"
     ]
    },
    {
     "name": "stdout",
     "output_type": "stream",
     "text": [
      "106\n",
      "123\n",
      "112\n"
     ]
    },
    {
     "name": "stderr",
     "output_type": "stream",
     "text": [
      "100%|██████████| 100/100 [00:08<00:00, 12.45it/s]"
     ]
    },
    {
     "name": "stdout",
     "output_type": "stream",
     "text": [
      "125\n",
      "147\n",
      "120\n"
     ]
    },
    {
     "name": "stderr",
     "output_type": "stream",
     "text": [
      "\n"
     ]
    }
   ],
   "source": [
    "for i in tqdm(range(100)):\n",
    "    # obtaining current epsilon for exploration\n",
    "    #print('GetEps')\n",
    "    #eps = get_current_eps(eps_decay, i)\n",
    "    \n",
    "    #print('Rollouts')\n",
    "        \n",
    "    # training the agent\n",
    "    # get some data\n",
    "    print(len(get_rollout()))\n",
    "    train_step(L = 100, d0_ = 1000, learn_policy = True, learn_q = False)\n",
    "    #print(len(replay.buf))"
   ]
  },
  {
   "cell_type": "code",
   "execution_count": 42,
   "metadata": {},
   "outputs": [
    {
     "name": "stdout",
     "output_type": "stream",
     "text": [
      "129\n"
     ]
    }
   ],
   "source": [
    "# checkpoint, performance should be the same\n",
    "print(len(get_rollout()))"
   ]
  },
  {
   "cell_type": "code",
   "execution_count": 43,
   "metadata": {},
   "outputs": [
    {
     "name": "stdout",
     "output_type": "stream",
     "text": [
      "107\n"
     ]
    }
   ],
   "source": [
    "# sample from Q function? NO, testing the policy...\n",
    "sample_q = False\n",
    "\n",
    "# FINAL PERFORMANCE\n",
    "print(len(get_rollout()))"
   ]
  },
  {
   "cell_type": "code",
   "execution_count": 44,
   "metadata": {},
   "outputs": [
    {
     "data": {
      "image/png": "[encoded data removed]",
      "text/plain": [
       "<Figure size 432x288 with 1 Axes>"
      ]
     },
     "metadata": {
      "needs_background": "light"
     },
     "output_type": "display_data"
    }
   ],
   "source": [
    "plt.figure()\n",
    "plt.title('DQN (safe) on CartPole')\n",
    "plt.plot(pd.DataFrame(r).rolling(20).median(), label = 'reward')\n",
    "plt.plot(pd.DataFrame(c).rolling(20).median(), label = 'cost')\n",
    "plt.xlabel('Episode')\n",
    "plt.ylabel('Reward/Cost')\n",
    "plt.savefig('sdqn.eps', bbox_inches = 'tight')\n",
    "plt.legend()\n",
    "plt.show()"
   ]
  },
  {
   "cell_type": "markdown",
   "metadata": {},
   "source": [
    "Weird that the agent unlearns everything for some reason. What works and doesn't work:\n",
    "1. Bellman (b) + JSD (j) + log_r for action selection - \n",
    "2. b log_r -\n",
    "3. r log_r +- (goes up/down)\n",
    "4. b + j log_pi no\n",
    "5. r log_r log_r in R loss NO ??? also, reward doesn't go down with exploration?.. fixed when sampling argmax instead of sampling. For q-logits the policy should be argmax!, works\n",
    "6. B log_r log_r argmax + (now -???..)\n",
    "6. B+J log_r log_r argmax - ??? Why just adding a loss makes it worse? Are they scaled inappropriately? Or are they using the same layer making it follow two tasks? Want to be confident when solving this... It immediately made me solve this problems and spot the odd thing. It's so much more productive than monkey-coding. Why did I switch to it? It makes sense it doesn't work since I use soft Bellman loss\n",
    "8. B log_r x 2 no common layer kinda, -\n",
    "\n",
    "Hypothesis: experience replay is not implemented correctly. Check all equations. heck what target pi' is.\n",
    "\n",
    "**19th May** I think it shouldn't work because soft bellman loss wouldn't work for q-logits which are approximately the same\n",
    "\n",
    "Trying to make policy network to work...\n",
    "1. Mistake in call to pulp: first argument was treated as name and not as Maximize\n",
    "2. And it fucking works! ANd it stopped working again... Not sure what's the difference... Made separate optimizers -- didn't help. Added summaries (noticed that losses are of different magnitude)\n",
    "3. Error in making JSD != Inf because used list == 0 instead of np.array == 0\n",
    "4. Error in soft_bellman_loss: calculating gradient w.r.t. logits_policy too (don't need that)\n",
    "5. Need to replace policy_new by policy in loss_r? Why is it different? It makes sense to train Q with argmaxQ policy and not on-policy...\n",
    "6. Mistake: 10 batch size instead of 1000\n",
    "7. q-function for R seems to blow up. Reducing expreplay to 1000 and updates to 100 like in DQN. Trying to decrease network size... +!!! And NO again... Nothing changed...\n",
    "8. Hypothesis: q-function doesn't blow up, the norm is not computed properly. True. q-function is now correct... What if I act on it? Indeed, it works if I act on the Q-function. Maybe it means that I do too few updates for pi_new? Or that I run it for too few iterations? Or that Q-function converges only at 1000th iteration? Trying to make it converge faster by decreasing eps faster\n",
    "9. If Q-function is optimized for 10 times, performance decreases. Splitting optimizers for Bellman and JSD and optimizing only JSD 10 times. Q-function converges after 500 train steps. Increasing the buffer size made it more stable! Trying to see the difference between policy and q_R. It's huge... Trying to track it... This thing doesn't go down much... Replacing it with MSE and running for 50 times doesn't help. Trying 150... Hypothesis: this happens because I use 0.01 in the loss.\n",
    "10. For some reason, pi --/-> q_R even if it's explicitly trained to match it. It just makes first component really small and the second close to 1... It starts fine but then makes first comonent 0 and that's it. It overfits to the data? So I make too _many_ iterations? No, 5 still makes it like this. Hypothesis: Q-learning should be done first with policy optimization only after, otherwise it goes way down? True. Only training after a certain step makes it better... Fixed the 0.01 in the LP. Very negative values have disappeared.. Fuck...\n",
    "11. Switched to JSD. Adding more iterations for it... more iterations lead to overfit. Switched back to MSE. Training after q w/o changing q makes pi converge to q, even with softmax activation/wo it! WORKS even with JSD! HAVE WORKING pi, q_r!!!\n",
    "12. Next steps: check q_T, q_D, q_L. They look CONVERGED in tensorboard... Enabling LP part..."
   ]
  },
  {
   "cell_type": "code",
   "execution_count": 45,
   "metadata": {},
   "outputs": [
    {
     "data": {
      "text/plain": [
       "107"
      ]
     },
     "execution_count": 45,
     "metadata": {},
     "output_type": "execute_result"
    }
   ],
   "source": [
    "len(get_rollout())"
   ]
  },
  {
   "cell_type": "code",
   "execution_count": 46,
   "metadata": {},
   "outputs": [],
   "source": [
    "#env = env.unwrapped\n",
    "#env = gym.wrappers.Monitor(env, './video')\n",
    "#get_rollout()\n",
    "#sess.run(params)\n",
    "#tf.train.Saver().save(sess, './cartpole-h1.ckpt')\n",
    "#tf.train.Saver().restore(sess, './cartpole-h1.ckpt')"
   ]
  }
 ],
 "metadata": {
  "kernelspec": {
   "display_name": "Python 3",
   "language": "python",
   "name": "python3"
  },
  "language_info": {
   "codemirror_mode": {
    "name": "ipython",
    "version": 3
   },
   "file_extension": ".py",
   "mimetype": "text/x-python",
   "name": "python",
   "nbconvert_exporter": "python",
   "pygments_lexer": "ipython3",
   "version": "3.6.8"
  },
  "varInspector": {
   "cols": {
    "lenName": 16,
    "lenType": 16,
    "lenVar": 40
   },
   "kernels_config": {
    "python": {
     "delete_cmd_postfix": "",
     "delete_cmd_prefix": "del ",
     "library": "var_list.py",
     "varRefreshCmd": "print(var_dic_list())"
    },
    "r": {
     "delete_cmd_postfix": ") ",
     "delete_cmd_prefix": "rm(",
     "library": "var_list.r",
     "varRefreshCmd": "cat(var_dic_list()) "
    }
   },
   "types_to_exclude": [
    "module",
    "function",
    "builtin_function_or_method",
    "instance",
    "_Feature"
   ],
   "window_display": false
  }
 },
 "nbformat": 4,
 "nbformat_minor": 2
}
