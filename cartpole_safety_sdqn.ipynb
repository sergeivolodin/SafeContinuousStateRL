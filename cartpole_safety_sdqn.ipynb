{
 "cells": [
  {
   "cell_type": "markdown",
   "metadata": {},
   "source": [
    "### Safe deep Q-network\n",
    "\n",
    "Have a network estimating $Q_w(s, a)$ for $-reward$, $Q^T_w(s, a)$ for stopping time $1$ iff terminal state, $Q^D_w(s, a)$ for constraint (the more the worse). $\\pi$ is eps-soft of $Q$\n",
    "1. Sample action and perform it\n",
    "2. Sample minibatch from experience replay\n",
    "3. Perform Bellman update: $\\sum\\limits_{s, a, r, s'}\\left(r+\\max_{a'}Q_{w_0}(s', a')-Q_w(s, a)\\right)^2$\n",
    "\n",
    "Networks: $Q_T, Q_D, Q, \\pi$\n",
    "\n",
    "Having collected experience D from the replay buffer:\n",
    "1. Calculate current policy $\\pi_k$ and Q-like functions (TensorFlow)\n",
    "2. Calculate $\\varepsilon$ using policy and $Q$s (TensorFlow)\n",
    "3. Using policy, Q-functions and $\\varepsilon$, solve LP to obtain $\\pi'$ (SciPy)\n",
    "4. Make a step for Bellman update using $\\pi,\\pi',\\varepsilon,Q$ (TensorFlow)\n",
    "5. Make a step towards minimizing $D_{JSD}(\\pi||\\pi')$ (TensorFlow)"
   ]
  },
  {
   "cell_type": "code",
   "execution_count": 529,
   "metadata": {},
   "outputs": [],
   "source": [
    "from xvfbwrapper import Xvfb\n",
    "\n",
    "#vdisplay = Xvfb()\n",
    "#vdisplay.start()\n",
    "\n",
    "# for environ\n",
    "import os\n",
    "\n",
    "# only using device 0\n",
    "os.environ[\"CUDA_DEVICE_ORDER\"]=\"PCI_BUS_ID\"   # see issue #152\n",
    "os.environ[\"LIBGL_ALWAYS_SOFTWARE\"]=\"1\"\n",
    "#os.environ[\"CUDA_VISIBLE_DEVICES\"]=\"0\"\n",
    "\n",
    "# importing tensorflow\n",
    "import tensorflow as tf\n",
    "\n",
    "# import scipy\n",
    "import scipy, csv\n",
    "\n",
    "import pandas as pd"
   ]
  },
  {
   "cell_type": "code",
   "execution_count": 530,
   "metadata": {},
   "outputs": [],
   "source": [
    "import gym\n",
    "from gym import wrappers\n",
    "%matplotlib inline\n",
    "from matplotlib import pyplot as plt\n",
    "import numpy as np\n",
    "from tqdm import tqdm\n",
    "\n",
    "# to display environment data\n",
    "# see https://gist.github.com/thomelane/79e97630ba46c45985a946cae4805885\n",
    "from IPython import display"
   ]
  },
  {
   "cell_type": "code",
   "execution_count": 531,
   "metadata": {},
   "outputs": [
    {
     "data": {
      "text/plain": [
       "['',\n",
       " '/localhome/volodin/miniconda3/envs/neuronfailure/lib/python36.zip',\n",
       " '/localhome/volodin/miniconda3/envs/neuronfailure/lib/python3.6',\n",
       " '/localhome/volodin/miniconda3/envs/neuronfailure/lib/python3.6/lib-dynload',\n",
       " '/localhome/volodin/miniconda3/envs/neuronfailure/lib/python3.6/site-packages',\n",
       " '/localhome/volodin/miniconda3/envs/neuronfailure/lib/python3.6/site-packages/IPython/extensions',\n",
       " '/localhome/volodin/.ipython',\n",
       " '/localhome/volodin/local/usr/bin',\n",
       " '/localhome/volodin/local/usr/bin',\n",
       " '/localhome/volodin/local/usr/bin',\n",
       " '/localhome/volodin/local/usr/bin']"
      ]
     },
     "execution_count": 531,
     "metadata": {},
     "output_type": "execute_result"
    }
   ],
   "source": [
    "import sys\n",
    "sys.path += ['/localhome/volodin/local/usr/bin']\n",
    "sys.path"
   ]
  },
  {
   "cell_type": "code",
   "execution_count": 532,
   "metadata": {},
   "outputs": [],
   "source": [
    "from xvfbwrapper import Xvfb\n",
    "\n",
    "vdisplay = Xvfb()\n",
    "vdisplay.start()"
   ]
  },
  {
   "cell_type": "code",
   "execution_count": 533,
   "metadata": {},
   "outputs": [],
   "source": [
    "tf.reset_default_graph()\n",
    "# allowing GPU memory growth to allocate only what we need\n",
    "config = tf.ConfigProto()\n",
    "config.gpu_options.per_process_gpu_memory_fraction = 0.5\n",
    "config.gpu_options.allow_growth = True\n",
    "sess = tf.Session(config=config, graph = tf.get_default_graph())"
   ]
  },
  {
   "cell_type": "code",
   "execution_count": 534,
   "metadata": {},
   "outputs": [],
   "source": [
    "env = gym.make('CartPole-v0')"
   ]
  },
  {
   "cell_type": "code",
   "execution_count": 535,
   "metadata": {},
   "outputs": [],
   "source": [
    "# number of dimensions in state\n",
    "S_DIM = 4\n",
    "\n",
    "# number of available actions\n",
    "ACTIONS = 2\n",
    "\n",
    "# discount factor\n",
    "gamma_discount = 0.9\n",
    "\n",
    "# epsilon-greedy\n",
    "eps = 0.1\n",
    "\n",
    "# for softmax\n",
    "temperature = 1"
   ]
  },
  {
   "cell_type": "code",
   "execution_count": 536,
   "metadata": {},
   "outputs": [],
   "source": [
    "# states: double the length of actions: from-to-from-to...\n",
    "states = tf.placeholder(tf.float64, shape = (None, S_DIM,))\n",
    "\n",
    "# taken actions\n",
    "actions = tf.placeholder(tf.int64, shape = (None,))\n",
    "\n",
    "# rewards obtained\n",
    "rewards = tf.placeholder(tf.float64, shape = (None,))\n",
    "\n",
    "# costs obtained\n",
    "costs = tf.placeholder(tf.float64, shape = (None, ))\n",
    "\n",
    "# is step terminal?\n",
    "termination = tf.placeholder(tf.float64, shape = (None, ))\n",
    "\n",
    "# need next q-value (non-terminal state?)\n",
    "need_next_q = tf.placeholder(tf.float64, shape = (None, ))\n",
    "\n",
    "# new policy pi'\n",
    "logits_new_policy = tf.placeholder(tf.float64, shape = (None, ACTIONS))\n",
    "\n",
    "def fc_layer(x, n, activation = tf.nn.relu):\n",
    "    \"\"\" Fully connected layer for input x and output dim n \"\"\"\n",
    "    return tf.contrib.layers.fully_connected(x, n, activation_fn=activation,\n",
    "    weights_initializer=tf.initializers.lecun_normal(), weights_regularizer=None,\n",
    "    biases_initializer=tf.zeros_initializer(), biases_regularizer=None, trainable=True)"
   ]
  },
  {
   "cell_type": "code",
   "execution_count": 537,
   "metadata": {},
   "outputs": [],
   "source": [
    "class ExperienceReplay():\n",
    "    def __init__(self, N = 1000):\n",
    "        \"\"\" Create experience buffer with capacity N \"\"\"\n",
    "        self.N = N\n",
    "        self.buf = []\n",
    "    def store(self, exp):\n",
    "        \"\"\" Store one experience \"\"\"\n",
    "        self.buf.append(exp)\n",
    "        \n",
    "        # removing extra elements\n",
    "        extra = len(self.buf) - self.N\n",
    "        if extra:\n",
    "            self.buf = self.buf[extra:]\n",
    "            \n",
    "    def sample(self, how_many = 10):\n",
    "        \"\"\" Sample a mini-batch from the buffer \"\"\"\n",
    "        assert len(self.buf) > 0, \"Experience buffer is empty, cannot sample\"\n",
    "        indices = np.random.choice(len(self.buf), how_many)\n",
    "        result = [self.buf[i] for i in indices]\n",
    "        return result"
   ]
  },
  {
   "cell_type": "code",
   "execution_count": 538,
   "metadata": {},
   "outputs": [],
   "source": [
    "common_layer = fc_layer(states, 20)"
   ]
  },
  {
   "cell_type": "code",
   "execution_count": 539,
   "metadata": {},
   "outputs": [],
   "source": [
    "def q_like_function(z = common_layer):\n",
    "\n",
    "    # state is an input to the network\n",
    "    #z = states\n",
    "\n",
    "    # some fully connected stuff\n",
    "    z = fc_layer(z, 10)\n",
    "\n",
    "    # some fully connected stuff\n",
    "    #z = fc_layer(z, 10)\n",
    "\n",
    "    # Q network head\n",
    "    with tf.name_scope('q_layers'):\n",
    "        #z = fc_layer(z, 10)\n",
    "        z_policy = fc_layer(z, 10)\n",
    "        z_policy = fc_layer(z_policy, ACTIONS, activation = None)\n",
    "        q_values = z_policy\n",
    "        #logits_policy = tf.nn.softmax(z_policy)\n",
    "        # predicted labels\n",
    "        logits_policy = tf.nn.softmax(temperature * q_values)\n",
    "    return q_values, logits_policy"
   ]
  },
  {
   "cell_type": "code",
   "execution_count": 540,
   "metadata": {},
   "outputs": [],
   "source": [
    "# maximal constraint violation\n",
    "d0 = tf.placeholder(tf.float64)"
   ]
  },
  {
   "cell_type": "code",
   "execution_count": 541,
   "metadata": {},
   "outputs": [],
   "source": [
    "q_reward, logits_reward = q_like_function()\n",
    "q_termination, logits_termination = q_like_function()\n",
    "q_cost, logits_cost = q_like_function()"
   ]
  },
  {
   "cell_type": "code",
   "execution_count": 542,
   "metadata": {},
   "outputs": [],
   "source": [
    "_, logits_policy = q_like_function()\n",
    "# taken logits (from state)\n",
    "logits_from = logits_policy[0::2]\n",
    "def dot_and_sum1(Z1, Z2):\n",
    "    \"\"\" Return a vector of length Z1.shape[0] == Z2.shape[0] with i'th entry being sum of Z1ik*Z2ik \"\"\"\n",
    "    return tf.reduce_sum(tf.multiply(Z1, Z2), axis = 1)\n",
    "eps_lyapunov = d0 - dot_and_sum1(logits_policy, q_cost) / dot_and_sum1(logits_policy, q_termination)\n",
    "q_lyapunov = q_cost + tf.multiply(q_termination, tf.expand_dims(eps_lyapunov, 1))"
   ]
  },
  {
   "cell_type": "code",
   "execution_count": 543,
   "metadata": {},
   "outputs": [],
   "source": [
    "def mse(x, y):\n",
    "    \"\"\" Mean squared error tensor \"\"\"\n",
    "    return tf.reduce_mean(tf.square(x - y))"
   ]
  },
  {
   "cell_type": "code",
   "execution_count": 544,
   "metadata": {},
   "outputs": [],
   "source": [
    "def soft_bellman_loss(actions, rewards, q_values_from_to, logits_policy, need_next_q):\n",
    "    \"\"\" Bellman residual w.r.t. actions, rewards and q-values \"\"\"\n",
    "    # q-values from-to, equal length\n",
    "    q_values_from = q_values_from_to[0::2, :]\n",
    "    q_values_to = q_values_from_to[1::2, :]\n",
    "\n",
    "    # one-hot encoded actions\n",
    "    a_one_hot = tf.one_hot(actions, ACTIONS)\n",
    "\n",
    "    # taken Q value (from)\n",
    "    q_taken = tf.boolean_mask(q_values_from, a_one_hot)\n",
    "\n",
    "    # maximal Q value\n",
    "    # TODO: replace with soft (use logits!)\n",
    "    #q_max   = tf.reduce_max(tf.stop_gradient(q_values_to), axis = 1)\n",
    "    q_soft = dot_and_sum1(tf.stop_gradient(q_values_to), logits_policy)\n",
    "    \n",
    "    # loss tensor\n",
    "    loss = mse(rewards + gamma_discount * tf.multiply(need_next_q, q_soft), q_taken)\n",
    "    return loss"
   ]
  },
  {
   "cell_type": "code",
   "execution_count": 545,
   "metadata": {},
   "outputs": [],
   "source": [
    "def cost(obs):\n",
    "    \"\"\" Calculate scalar cost of one observation \"\"\"\n",
    "    assert isinstance(obs, np.ndarray) and obs.shape == (4,), \"Input must be an np-array [x xdot phi phidot]\"\n",
    "    \n",
    "    # parsing input\n",
    "    x, x_dot, phi, phi_dot = obs\n",
    "    \n",
    "    #X_MAX = 1.0\n",
    "    #X_DOT_MAX = 0.5\n",
    "    #PHI_MAX = 0.1\n",
    "    #PHI_DOT_MAX = 0.5\n",
    "    \n",
    "    if x < 0 or phi < 0:\n",
    "        return 1\n",
    "    \n",
    "    #if np.any(np.abs([x, x_dot, phi, phi_dot]) > [X_MAX, X_DOT_MAX, PHI_MAX, PHI_DOT_MAX]):\n",
    "    #    return 1\n",
    "    \n",
    "    # in all other cases no cost\n",
    "    return 0"
   ]
  },
  {
   "cell_type": "code",
   "execution_count": 546,
   "metadata": {},
   "outputs": [],
   "source": [
    "# Bellmann losses\n",
    "loss_r = soft_bellman_loss(actions, rewards, q_reward, logits_new_policy, need_next_q)\n",
    "loss_d = soft_bellman_loss(actions, costs, q_cost, logits_from, need_next_q)\n",
    "loss_t = soft_bellman_loss(actions, termination, q_termination, logits_from, need_next_q)"
   ]
  },
  {
   "cell_type": "code",
   "execution_count": 547,
   "metadata": {},
   "outputs": [],
   "source": [
    "loss_bellman = loss_r + loss_d + loss_t"
   ]
  },
  {
   "cell_type": "code",
   "execution_count": 548,
   "metadata": {},
   "outputs": [],
   "source": [
    "# Jensen-Shannon Divergence\n",
    "# D_{JS}(P, Q) = 0.5 * D_KL(P || M) + 0.5 * D_KL(Q || M)\n",
    "# M = 0.5 * (P + Q) -> normalized!\n",
    "def kl(x, y):\n",
    "    \"\"\" KL-divergence \"\"\"\n",
    "    X = tf.distributions.Categorical(probs=x)\n",
    "    Y = tf.distributions.Categorical(probs=y)\n",
    "    return tf.distributions.kl_divergence(X, Y)\n",
    "def jsd(x, y):\n",
    "    M = 0.5 * (x + y)\n",
    "    return 0.5 * kl(x, M) + 0.5 * kl(y, M)"
   ]
  },
  {
   "cell_type": "code",
   "execution_count": 549,
   "metadata": {},
   "outputs": [],
   "source": [
    "# logits of policy (taken, from original state)\n",
    "loss_jsd = tf.reduce_mean(jsd(logits_from, logits_new_policy))"
   ]
  },
  {
   "cell_type": "code",
   "execution_count": 550,
   "metadata": {},
   "outputs": [],
   "source": [
    "params = tf.trainable_variables()"
   ]
  },
  {
   "cell_type": "code",
   "execution_count": 551,
   "metadata": {},
   "outputs": [],
   "source": [
    "# now need to optimize loss_policy w.r.t. constraint_policy <= 0\n",
    "# how to do that?\n",
    "# how do authors use LP?...\n",
    "# maybe I need to solve for pi outside TF and then feed values of pi as supervised learning?"
   ]
  },
  {
   "cell_type": "code",
   "execution_count": 552,
   "metadata": {},
   "outputs": [],
   "source": [
    "def replay_test():\n",
    "    replay = ExperienceReplay()\n",
    "    replay.store([1,2])\n",
    "    replay.store([3,4])\n",
    "    rs = replay.sample()\n",
    "    assert [1,2] in rs or [3,4] in rs\n",
    "replay_test()"
   ]
  },
  {
   "cell_type": "code",
   "execution_count": 553,
   "metadata": {},
   "outputs": [],
   "source": [
    "def sample_action(observation):\n",
    "    \"\"\" Sample an action from the policy \"\"\"\n",
    "    \n",
    "    #if np.random.random() <= eps:\n",
    "        #return env.action_space.sample()\n",
    "    \n",
    "    p = sess.run(logits_policy, feed_dict = {states: [observation]})[0]\n",
    "    #return np.argmax(p)\n",
    "    return np.random.choice(range(2), p = p)"
   ]
  },
  {
   "cell_type": "code",
   "execution_count": 586,
   "metadata": {},
   "outputs": [],
   "source": [
    "def get_rollout():\n",
    "    \"\"\" Obtain rollout using policy \"\"\"\n",
    "    done = False\n",
    "    observation = env.reset()\n",
    "    sarsnc = []\n",
    "    # S: from state\n",
    "    # A: action\n",
    "    # R: reward obtained\n",
    "    # S: new state\n",
    "    # N: true if need next (non-terminal)\n",
    "    # C: cost obtained\n",
    "    while not done:\n",
    "        act = sample_action(observation)\n",
    "        observation_, reward, done, info = env.step(act) # take a random action\n",
    "        curr = (observation, act, reward, observation_, True, cost(observation_))\n",
    "        sarsnc.append(curr)\n",
    "        replay.store(curr)\n",
    "        \n",
    "        if done:\n",
    "            # crucial, otherwise Q blows up...\n",
    "            replay.store((observation_, sample_action(observation_), reward, observation_, False, cost(observation_)))\n",
    "        \n",
    "        observation = observation_\n",
    "    env.close()\n",
    "    #print(len(replay.buf), len(sars))\n",
    "    return sarsnc"
   ]
  },
  {
   "cell_type": "code",
   "execution_count": 555,
   "metadata": {},
   "outputs": [
    {
     "name": "stderr",
     "output_type": "stream",
     "text": [
      "/localhome/volodin/miniconda3/envs/neuronfailure/lib/python3.6/site-packages/tensorflow/python/ops/gradients_impl.py:112: UserWarning: Converting sparse IndexedSlices to a dense Tensor of unknown shape. This may consume a large amount of memory.\n",
      "  \"Converting sparse IndexedSlices to a dense Tensor of unknown shape. \"\n"
     ]
    }
   ],
   "source": [
    "loss = loss_bellman + loss_jsd\n",
    "opt = tf.train.AdamOptimizer(0.1).minimize(loss)"
   ]
  },
  {
   "cell_type": "code",
   "execution_count": 556,
   "metadata": {},
   "outputs": [],
   "source": [
    "# one learning iteration\n",
    "step = opt"
   ]
  },
  {
   "cell_type": "code",
   "execution_count": 557,
   "metadata": {},
   "outputs": [],
   "source": [
    "def interleave(A, B):\n",
    "    \"\"\" Interleave two lists A, B: a1b1a2b2... \"\"\"\n",
    "    # https://stackoverflow.com/questions/7946798/interleave-multiple-lists-of-the-same-length-in-python\n",
    "    assert len(A) == len(B), \"Must have arrays of same length\"\n",
    "    return [val for tup in zip(A, B) for val in tup]\n",
    "assert interleave([1,2,3],[4,5,6]) == [1, 4, 2, 5, 3, 6]"
   ]
  },
  {
   "cell_type": "code",
   "execution_count": 558,
   "metadata": {},
   "outputs": [],
   "source": [
    "init = tf.global_variables_initializer()\n",
    "sess.run(init)\n",
    "replay = ExperienceReplay()\n",
    "r = []"
   ]
  },
  {
   "cell_type": "markdown",
   "metadata": {},
   "source": [
    "## optimization problem:\n",
    "1. $\\pi'$ probability distribution: $\\pi_i\\geq 0$ and $\\sum\\pi_i=1$\n",
    "2. $\\pi^TQ_R\\to\\max$\n",
    "3. s.t. $(\\pi-\\pi_k)^TQ_L\\leq\\varepsilon$"
   ]
  },
  {
   "cell_type": "code",
   "execution_count": 642,
   "metadata": {},
   "outputs": [],
   "source": [
    "def train_step():\n",
    "    # making one environment episode\n",
    "    z = get_rollout()\n",
    "    L = len(z)\n",
    "    \n",
    "    # sampling same size\n",
    "    S0, A, R, S1, N, C = list(zip(*replay.sample(L)))\n",
    "    \n",
    "    # taking some data from the environment (sampling...)\n",
    "    #S0, A, R, S1, N, C = zip(*get_rollout())\n",
    "\n",
    "    # converting to float\n",
    "    N = 1. * np.array(N)\n",
    "\n",
    "    # feed dictionary for TF\n",
    "    feed = {states: interleave(S0, S1), actions: A, rewards: R, costs: C,\n",
    "            d0: 50, need_next_q: N, termination: 1 - N}\n",
    "\n",
    "    # obtaining current policy\n",
    "    pi_k, q_L, q_R, eps_L = sess.run((logits_from, q_lyapunov[0::2,:], q_reward[0::2,:], eps_lyapunov[0::2]), feed_dict = feed)\n",
    "\n",
    "    #c = -[*q_R_i]\n",
    "    c = [-s for q in q_R for s in q]\n",
    "    lb = 0\n",
    "    ub = 1\n",
    "    n_vars = len(c) # number of variables: |A| * |Batch|\n",
    "\n",
    "    # A_eq and b_eq\n",
    "    A_eq = np.zeros(shape = (n_vars // ACTIONS, n_vars))\n",
    "\n",
    "    # filing in probability simplex conditions\n",
    "    for i in range(n_vars // ACTIONS):\n",
    "        # assuming 2 actions\n",
    "        A_eq[i, 2 * i] = 1\n",
    "        A_eq[i, 2 * i + 1] = 1\n",
    "\n",
    "    # probability simplex\n",
    "    b_eq = np.ones(n_vars // ACTIONS)\n",
    "\n",
    "    # Q-value constraint\n",
    "    A_ub = np.zeros(shape = (n_vars // ACTIONS, n_vars))\n",
    "\n",
    "    # filing in probability simplex conditions\n",
    "    for i in range(n_vars // ACTIONS):\n",
    "        # assuming 2 actions\n",
    "        A_ub[i, 2 * i] = q_L[i, 0]\n",
    "        A_ub[i, 2 * i + 1] = q_L[i, 1]\n",
    "\n",
    "    b_ub = eps_L\n",
    "\n",
    "    # solving the LP\n",
    "    # Use https://docs.scipy.org/doc/scipy/reference/generated/scipy.optimize.linprog.html\n",
    "    # to solve a linear program\n",
    "    pi_new = scipy.optimize.linprog(c, A_ub, b_ub, A_eq, b_eq, bounds = (lb, ub)).x\n",
    "\n",
    "    if np.isnan(np.linalg.norm(pi_new)):\n",
    "        print('Optimization for pi failed... Only doing Bellman update')\n",
    "        pi_new = pi_k\n",
    "    else:\n",
    "        # if item is 0, replace it to this\n",
    "        kl_eps = 1e-5\n",
    "\n",
    "        # fixing kl_eps\n",
    "        pi_new[pi_new == 0] = kl_eps\n",
    "\n",
    "        # next policy (zipping back)\n",
    "        pi_new = np.array([pi_new[0::2], pi_new[1::2]]).T\n",
    "\n",
    "    # adding data to FEED dict\n",
    "    feed[logits_new_policy] = pi_new\n",
    "    \n",
    "    # training...\n",
    "    sess.run(step, feed_dict = feed)\n",
    "    \n",
    "    return np.sum(R), np.sum(C)"
   ]
  },
  {
   "cell_type": "code",
   "execution_count": 643,
   "metadata": {},
   "outputs": [],
   "source": [
    "init = tf.global_variables_initializer()\n",
    "sess.run(init)\n",
    "replay = ExperienceReplay()\n",
    "r = []\n",
    "c = []"
   ]
  },
  {
   "cell_type": "code",
   "execution_count": 644,
   "metadata": {},
   "outputs": [],
   "source": [
    "def get_current_eps(eps_decay, iteration):\n",
    "    # finding minimal key s.t. <= iteration\n",
    "    for key in sorted(eps_decay.keys(), reverse = True):\n",
    "        if key <= iteration:\n",
    "            return eps_decay[key]\n",
    "    print(\"Error: could not find eps\")\n",
    "    return None\n",
    "\n",
    "def test_decay():\n",
    "    eps_decay = {0: 0.9, 100: 0.5, 200: 0.3, 300: 0.1, 500: 0}\n",
    "    assert get_current_eps(eps_decay, 499) == 0.1\n",
    "    assert get_current_eps(eps_decay, 1000) == 0\n",
    "    assert get_current_eps(eps_decay, 500) == 0\n",
    "    assert get_current_eps(eps_decay, 100) == 0.5\n",
    "    assert get_current_eps(eps_decay, 0) == 0.9\n",
    "test_decay()"
   ]
  },
  {
   "cell_type": "code",
   "execution_count": 645,
   "metadata": {},
   "outputs": [],
   "source": [
    "eps_decay = {0: 0.9, 400: 0.5, 600: 0.3, 800: 0.2, 900: 0.1, 1000: 0.05, 1100: 0}"
   ]
  },
  {
   "cell_type": "code",
   "execution_count": 646,
   "metadata": {},
   "outputs": [
    {
     "data": {
      "image/png": "[encoded data removed]",
      "text/plain": [
       "<Figure size 432x288 with 1 Axes>"
      ]
     },
     "metadata": {
      "needs_background": "light"
     },
     "output_type": "display_data"
    }
   ],
   "source": [
    "plt.title('Epsilon greedy decay')\n",
    "plt.ylabel('eps for eps-greedy')\n",
    "plt.xlabel('Iteration')\n",
    "plt.plot(eps_decay.keys(), eps_decay.values())\n",
    "plt.show()"
   ]
  },
  {
   "cell_type": "code",
   "execution_count": null,
   "metadata": {},
   "outputs": [
    {
     "name": "stderr",
     "output_type": "stream",
     "text": [
      "  8%|▊         | 84/1000 [00:26<05:20,  2.86it/s]"
     ]
    }
   ],
   "source": [
    "for i in tqdm(range(1000)):\n",
    "    eps = get_current_eps(eps_decay, i)\n",
    "    r0, c0 = train_step()\n",
    "    r.append(r0)\n",
    "    c.append(c0)"
   ]
  },
  {
   "cell_type": "code",
   "execution_count": 649,
   "metadata": {},
   "outputs": [
    {
     "data": {
      "image/png": "[encoded data removed]",
      "text/plain": [
       "<Figure size 432x288 with 1 Axes>"
      ]
     },
     "metadata": {
      "needs_background": "light"
     },
     "output_type": "display_data"
    }
   ],
   "source": [
    "plt.figure()\n",
    "plt.title('DQN (safe) on CartPole')\n",
    "plt.plot(pd.DataFrame(r).rolling(10).median(), label = 'reward')\n",
    "plt.plot(pd.DataFrame(c).rolling(10).median(), label = 'cost')\n",
    "plt.xlabel('Episode')\n",
    "plt.ylabel('Reward/Cost')\n",
    "plt.savefig('sdqn.eps', bbox_inches = 'tight')\n",
    "plt.legend()\n",
    "plt.show()"
   ]
  },
  {
   "cell_type": "code",
   "execution_count": 29,
   "metadata": {},
   "outputs": [
    {
     "data": {
      "text/plain": [
       "200"
      ]
     },
     "execution_count": 29,
     "metadata": {},
     "output_type": "execute_result"
    }
   ],
   "source": [
    "len(get_rollout())"
   ]
  },
  {
   "cell_type": "code",
   "execution_count": 30,
   "metadata": {},
   "outputs": [],
   "source": [
    "#env = env.unwrapped\n",
    "#env = gym.wrappers.Monitor(env, './video')\n",
    "#get_rollout()\n",
    "#sess.run(params)\n",
    "#tf.train.Saver().save(sess, './cartpole-h1.ckpt')\n",
    "#tf.train.Saver().restore(sess, './cartpole-h1.ckpt')"
   ]
  },
  {
   "cell_type": "code",
   "execution_count": null,
   "metadata": {},
   "outputs": [],
   "source": []
  }
 ],
 "metadata": {
  "kernelspec": {
   "display_name": "Python 3",
   "language": "python",
   "name": "python3"
  },
  "language_info": {
   "codemirror_mode": {
    "name": "ipython",
    "version": 3
   },
   "file_extension": ".py",
   "mimetype": "text/x-python",
   "name": "python",
   "nbconvert_exporter": "python",
   "pygments_lexer": "ipython3",
   "version": "3.6.8"
  },
  "varInspector": {
   "cols": {
    "lenName": 16,
    "lenType": 16,
    "lenVar": 40
   },
   "kernels_config": {
    "python": {
     "delete_cmd_postfix": "",
     "delete_cmd_prefix": "del ",
     "library": "var_list.py",
     "varRefreshCmd": "print(var_dic_list())"
    },
    "r": {
     "delete_cmd_postfix": ") ",
     "delete_cmd_prefix": "rm(",
     "library": "var_list.r",
     "varRefreshCmd": "cat(var_dic_list()) "
    }
   },
   "types_to_exclude": [
    "module",
    "function",
    "builtin_function_or_method",
    "instance",
    "_Feature"
   ],
   "window_display": false
  }
 },
 "nbformat": 4,
 "nbformat_minor": 2
}
